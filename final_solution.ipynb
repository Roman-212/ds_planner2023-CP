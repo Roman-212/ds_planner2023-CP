{
  "cells": [
    {
      "cell_type": "markdown",
      "source": [
        "#1.Загрузка данных"
      ],
      "metadata": {
        "id": "dWQnwbPH5u6i"
      }
    },
    {
      "cell_type": "code",
      "source": [
        "!pip install -U --no-cache-dir gdown --pre\n",
        "!pip install --upgrade --no-cache-dir gdown"
      ],
      "metadata": {
        "colab": {
          "base_uri": "https://localhost:8080/"
        },
        "id": "xmrPtWqC5zq9",
        "outputId": "02303f0b-5c6b-493e-9c48-7893f9c09056"
      },
      "execution_count": null,
      "outputs": [
        {
          "output_type": "stream",
          "name": "stdout",
          "text": [
            "Looking in indexes: https://pypi.org/simple, https://us-python.pkg.dev/colab-wheels/public/simple/\n",
            "Requirement already satisfied: gdown in /usr/local/lib/python3.10/dist-packages (4.6.6)\n",
            "Collecting gdown\n",
            "  Downloading gdown-4.7.1-py3-none-any.whl (15 kB)\n",
            "Requirement already satisfied: filelock in /usr/local/lib/python3.10/dist-packages (from gdown) (3.12.2)\n",
            "Requirement already satisfied: requests[socks] in /usr/local/lib/python3.10/dist-packages (from gdown) (2.27.1)\n",
            "Requirement already satisfied: six in /usr/local/lib/python3.10/dist-packages (from gdown) (1.16.0)\n",
            "Requirement already satisfied: tqdm in /usr/local/lib/python3.10/dist-packages (from gdown) (4.65.0)\n",
            "Requirement already satisfied: beautifulsoup4 in /usr/local/lib/python3.10/dist-packages (from gdown) (4.11.2)\n",
            "Requirement already satisfied: soupsieve>1.2 in /usr/local/lib/python3.10/dist-packages (from beautifulsoup4->gdown) (2.4.1)\n",
            "Requirement already satisfied: urllib3<1.27,>=1.21.1 in /usr/local/lib/python3.10/dist-packages (from requests[socks]->gdown) (1.26.16)\n",
            "Requirement already satisfied: certifi>=2017.4.17 in /usr/local/lib/python3.10/dist-packages (from requests[socks]->gdown) (2023.5.7)\n",
            "Requirement already satisfied: charset-normalizer~=2.0.0 in /usr/local/lib/python3.10/dist-packages (from requests[socks]->gdown) (2.0.12)\n",
            "Requirement already satisfied: idna<4,>=2.5 in /usr/local/lib/python3.10/dist-packages (from requests[socks]->gdown) (3.4)\n",
            "Requirement already satisfied: PySocks!=1.5.7,>=1.5.6 in /usr/local/lib/python3.10/dist-packages (from requests[socks]->gdown) (1.7.1)\n",
            "Installing collected packages: gdown\n",
            "  Attempting uninstall: gdown\n",
            "    Found existing installation: gdown 4.6.6\n",
            "    Uninstalling gdown-4.6.6:\n",
            "      Successfully uninstalled gdown-4.6.6\n",
            "Successfully installed gdown-4.7.1\n",
            "Looking in indexes: https://pypi.org/simple, https://us-python.pkg.dev/colab-wheels/public/simple/\n",
            "Requirement already satisfied: gdown in /usr/local/lib/python3.10/dist-packages (4.7.1)\n",
            "Requirement already satisfied: filelock in /usr/local/lib/python3.10/dist-packages (from gdown) (3.12.2)\n",
            "Requirement already satisfied: requests[socks] in /usr/local/lib/python3.10/dist-packages (from gdown) (2.27.1)\n",
            "Requirement already satisfied: six in /usr/local/lib/python3.10/dist-packages (from gdown) (1.16.0)\n",
            "Requirement already satisfied: tqdm in /usr/local/lib/python3.10/dist-packages (from gdown) (4.65.0)\n",
            "Requirement already satisfied: beautifulsoup4 in /usr/local/lib/python3.10/dist-packages (from gdown) (4.11.2)\n",
            "Requirement already satisfied: soupsieve>1.2 in /usr/local/lib/python3.10/dist-packages (from beautifulsoup4->gdown) (2.4.1)\n",
            "Requirement already satisfied: urllib3<1.27,>=1.21.1 in /usr/local/lib/python3.10/dist-packages (from requests[socks]->gdown) (1.26.16)\n",
            "Requirement already satisfied: certifi>=2017.4.17 in /usr/local/lib/python3.10/dist-packages (from requests[socks]->gdown) (2023.5.7)\n",
            "Requirement already satisfied: charset-normalizer~=2.0.0 in /usr/local/lib/python3.10/dist-packages (from requests[socks]->gdown) (2.0.12)\n",
            "Requirement already satisfied: idna<4,>=2.5 in /usr/local/lib/python3.10/dist-packages (from requests[socks]->gdown) (3.4)\n",
            "Requirement already satisfied: PySocks!=1.5.7,>=1.5.6 in /usr/local/lib/python3.10/dist-packages (from requests[socks]->gdown) (1.7.1)\n"
          ]
        }
      ]
    },
    {
      "cell_type": "code",
      "source": [
        "from sklearn.preprocessing import StandardScaler #"
      ],
      "metadata": {
        "id": "57w_uIq79xjw"
      },
      "execution_count": null,
      "outputs": []
    },
    {
      "cell_type": "code",
      "source": [
        "# Скачиваем аданные\n",
        "# Перечень задач\n",
        "!gdown --no-cookies --fuzzy https://docs.google.com/spreadsheets/d/1V4svGz2zl-mQ6fDO3ILxMk1vCT9VhcW3/edit?usp=sharing&ouid=106906074132043001509&rtpof=true&sd=true&export=download\n",
        "# attr.csv\n",
        "!gdown --no-cookies --fuzzy https://drive.google.com/file/d/1iyYykIKfNBiL8AaWpAOEMzjJhnX1Yhy7/view?usp=sharing&export=download\n",
        "# dataset_hackaton_ksg__v2__23062023__1710_GMT3.csv\n",
        "!gdown --no-cookies --fuzzy https://drive.google.com/file/d/170l6ErewO2Y8k7C7hSN3yjGpW64pCuOT/view?usp=sharing&export=download\n",
        "# dataset_ksg.csv\n",
        "!gdown --no-cookies --fuzzy https://drive.google.com/file/d/1qwc48BlsuAlYy70_kWbNt_n8fA7vb3-I/view?usp=sharing&export=download"
      ],
      "metadata": {
        "colab": {
          "base_uri": "https://localhost:8080/"
        },
        "id": "0KZN_W226Ji9",
        "outputId": "a46039b1-323b-401d-b354-90b46ec9afc5"
      },
      "execution_count": null,
      "outputs": [
        {
          "output_type": "stream",
          "name": "stdout",
          "text": [
            "Downloading...\n",
            "From: https://drive.google.com/uc?id=1V4svGz2zl-mQ6fDO3ILxMk1vCT9VhcW3\n",
            "To: /content/Перечень задач.xlsx\n",
            "100% 10.5k/10.5k [00:00<00:00, 32.0MB/s]\n",
            "Downloading...\n",
            "From: https://drive.google.com/uc?id=1iyYykIKfNBiL8AaWpAOEMzjJhnX1Yhy7\n",
            "To: /content/attr.csv\n",
            "100% 215k/215k [00:00<00:00, 121MB/s]\n",
            "Downloading...\n",
            "From (uriginal): https://drive.google.com/uc?id=170l6ErewO2Y8k7C7hSN3yjGpW64pCuOT\n",
            "From (redirected): https://drive.google.com/uc?id=170l6ErewO2Y8k7C7hSN3yjGpW64pCuOT&confirm=t&uuid=a91f162b-4b07-4e6c-a271-59b4f4573404\n",
            "To: /content/dataset_hackaton_ksg__v2__23062023__1710_GMT3.csv\n",
            "100% 246M/246M [00:02<00:00, 119MB/s]\n",
            "Downloading...\n",
            "From (uriginal): https://drive.google.com/uc?id=1qwc48BlsuAlYy70_kWbNt_n8fA7vb3-I\n",
            "From (redirected): https://drive.google.com/uc?id=1qwc48BlsuAlYy70_kWbNt_n8fA7vb3-I&confirm=t&uuid=1e886799-be4d-4184-9485-227a33bfe020\n",
            "To: /content/dataset_ksg.csv\n",
            "100% 107M/107M [00:00<00:00, 132MB/s] \n"
          ]
        }
      ]
    },
    {
      "cell_type": "markdown",
      "metadata": {
        "id": "ZGfkvvTRTjuA"
      },
      "source": [
        "#2.Обработка данных"
      ]
    },
    {
      "cell_type": "code",
      "execution_count": null,
      "metadata": {
        "id": "k0rj_EmRTsRf"
      },
      "outputs": [],
      "source": [
        "import pandas as pd\n",
        "import numpy as np\n",
        "from sklearn.preprocessing import StandardScaler #"
      ]
    },
    {
      "cell_type": "code",
      "execution_count": null,
      "metadata": {
        "colab": {
          "base_uri": "https://localhost:8080/"
        },
        "id": "vZdwUge4ToRk",
        "outputId": "bfa7230e-0356-462a-f4e0-bfa7d01fdc64"
      },
      "outputs": [
        {
          "output_type": "stream",
          "name": "stderr",
          "text": [
            "<ipython-input-5-1b798ff4f334>:5: DtypeWarning: Columns (13) have mixed types. Specify dtype option on import or set low_memory=False.\n",
            "  df = pd.read_csv('/content/dataset_hackaton_ksg__v2__23062023__1710_GMT3.csv', sep=';')\n"
          ]
        }
      ],
      "source": [
        "# Загружаем файлы\n",
        "df_task = pd.read_excel('/content/Перечень задач.xlsx')\n",
        "df_attr = pd.read_csv('/content/attr.csv')\n",
        "df_ksg = pd.read_csv('/content/dataset_ksg.csv')\n",
        "df = pd.read_csv('/content/dataset_hackaton_ksg__v2__23062023__1710_GMT3.csv', sep=';')"
      ]
    },
    {
      "cell_type": "code",
      "source": [
        "df_attr"
      ],
      "metadata": {
        "colab": {
          "base_uri": "https://localhost:8080/",
          "height": 424
        },
        "id": "2nFJ_3On7nIW",
        "outputId": "126ac15e-8d9b-4f26-fd36-1ae8b15b5986"
      },
      "execution_count": null,
      "outputs": [
        {
          "output_type": "execute_result",
          "data": {
            "text/plain": [
              "       obj_key                         состояние площадки   Площадь  \\\n",
              "0     022-0170                         Свободна, передана  16402.54   \n",
              "1     022-0526                                        NaN  18100.00   \n",
              "2     022-0527                                Не передана   9850.00   \n",
              "3     022-0522                                Не передана  13260.00   \n",
              "4     022-0355  Не передана под снос (для объектов сноса)       NaN   \n",
              "...        ...                                        ...       ...   \n",
              "3431  020-0156                                     Занята  13288.00   \n",
              "3432  019-0676                      Свободна, не передана   6291.00   \n",
              "3433  019-0674                                     Занята   9030.00   \n",
              "3434  020-0157                                     Занята   7243.90   \n",
              "3435  017-0527                                     Занята  14784.00   \n",
              "\n",
              "      Генпроектировщик  Генподрядчик  Кол-во рабочих date_report  \n",
              "0                    1             2           271.0  2023.01.20  \n",
              "1                    0             0             NaN  2023.01.20  \n",
              "2                    0             0             NaN  2023.01.20  \n",
              "3                    0             0             NaN  2023.01.20  \n",
              "4                    1             2             NaN  2023.01.20  \n",
              "...                ...           ...             ...         ...  \n",
              "3431                21            15             NaN  2023.06.04  \n",
              "3432                29            20           181.0  2023.06.04  \n",
              "3433                 6             0             NaN  2023.06.04  \n",
              "3434                30             7            63.0  2023.06.04  \n",
              "3435                 8             5             NaN  2023.06.04  \n",
              "\n",
              "[3436 rows x 7 columns]"
            ],
            "text/html": [
              "\n",
              "  <div id=\"df-c7a321ee-334d-43f2-b9a3-f9eaf81fbc23\">\n",
              "    <div class=\"colab-df-container\">\n",
              "      <div>\n",
              "<style scoped>\n",
              "    .dataframe tbody tr th:only-of-type {\n",
              "        vertical-align: middle;\n",
              "    }\n",
              "\n",
              "    .dataframe tbody tr th {\n",
              "        vertical-align: top;\n",
              "    }\n",
              "\n",
              "    .dataframe thead th {\n",
              "        text-align: right;\n",
              "    }\n",
              "</style>\n",
              "<table border=\"1\" class=\"dataframe\">\n",
              "  <thead>\n",
              "    <tr style=\"text-align: right;\">\n",
              "      <th></th>\n",
              "      <th>obj_key</th>\n",
              "      <th>состояние площадки</th>\n",
              "      <th>Площадь</th>\n",
              "      <th>Генпроектировщик</th>\n",
              "      <th>Генподрядчик</th>\n",
              "      <th>Кол-во рабочих</th>\n",
              "      <th>date_report</th>\n",
              "    </tr>\n",
              "  </thead>\n",
              "  <tbody>\n",
              "    <tr>\n",
              "      <th>0</th>\n",
              "      <td>022-0170</td>\n",
              "      <td>Свободна, передана</td>\n",
              "      <td>16402.54</td>\n",
              "      <td>1</td>\n",
              "      <td>2</td>\n",
              "      <td>271.0</td>\n",
              "      <td>2023.01.20</td>\n",
              "    </tr>\n",
              "    <tr>\n",
              "      <th>1</th>\n",
              "      <td>022-0526</td>\n",
              "      <td>NaN</td>\n",
              "      <td>18100.00</td>\n",
              "      <td>0</td>\n",
              "      <td>0</td>\n",
              "      <td>NaN</td>\n",
              "      <td>2023.01.20</td>\n",
              "    </tr>\n",
              "    <tr>\n",
              "      <th>2</th>\n",
              "      <td>022-0527</td>\n",
              "      <td>Не передана</td>\n",
              "      <td>9850.00</td>\n",
              "      <td>0</td>\n",
              "      <td>0</td>\n",
              "      <td>NaN</td>\n",
              "      <td>2023.01.20</td>\n",
              "    </tr>\n",
              "    <tr>\n",
              "      <th>3</th>\n",
              "      <td>022-0522</td>\n",
              "      <td>Не передана</td>\n",
              "      <td>13260.00</td>\n",
              "      <td>0</td>\n",
              "      <td>0</td>\n",
              "      <td>NaN</td>\n",
              "      <td>2023.01.20</td>\n",
              "    </tr>\n",
              "    <tr>\n",
              "      <th>4</th>\n",
              "      <td>022-0355</td>\n",
              "      <td>Не передана под снос (для объектов сноса)</td>\n",
              "      <td>NaN</td>\n",
              "      <td>1</td>\n",
              "      <td>2</td>\n",
              "      <td>NaN</td>\n",
              "      <td>2023.01.20</td>\n",
              "    </tr>\n",
              "    <tr>\n",
              "      <th>...</th>\n",
              "      <td>...</td>\n",
              "      <td>...</td>\n",
              "      <td>...</td>\n",
              "      <td>...</td>\n",
              "      <td>...</td>\n",
              "      <td>...</td>\n",
              "      <td>...</td>\n",
              "    </tr>\n",
              "    <tr>\n",
              "      <th>3431</th>\n",
              "      <td>020-0156</td>\n",
              "      <td>Занята</td>\n",
              "      <td>13288.00</td>\n",
              "      <td>21</td>\n",
              "      <td>15</td>\n",
              "      <td>NaN</td>\n",
              "      <td>2023.06.04</td>\n",
              "    </tr>\n",
              "    <tr>\n",
              "      <th>3432</th>\n",
              "      <td>019-0676</td>\n",
              "      <td>Свободна, не передана</td>\n",
              "      <td>6291.00</td>\n",
              "      <td>29</td>\n",
              "      <td>20</td>\n",
              "      <td>181.0</td>\n",
              "      <td>2023.06.04</td>\n",
              "    </tr>\n",
              "    <tr>\n",
              "      <th>3433</th>\n",
              "      <td>019-0674</td>\n",
              "      <td>Занята</td>\n",
              "      <td>9030.00</td>\n",
              "      <td>6</td>\n",
              "      <td>0</td>\n",
              "      <td>NaN</td>\n",
              "      <td>2023.06.04</td>\n",
              "    </tr>\n",
              "    <tr>\n",
              "      <th>3434</th>\n",
              "      <td>020-0157</td>\n",
              "      <td>Занята</td>\n",
              "      <td>7243.90</td>\n",
              "      <td>30</td>\n",
              "      <td>7</td>\n",
              "      <td>63.0</td>\n",
              "      <td>2023.06.04</td>\n",
              "    </tr>\n",
              "    <tr>\n",
              "      <th>3435</th>\n",
              "      <td>017-0527</td>\n",
              "      <td>Занята</td>\n",
              "      <td>14784.00</td>\n",
              "      <td>8</td>\n",
              "      <td>5</td>\n",
              "      <td>NaN</td>\n",
              "      <td>2023.06.04</td>\n",
              "    </tr>\n",
              "  </tbody>\n",
              "</table>\n",
              "<p>3436 rows × 7 columns</p>\n",
              "</div>\n",
              "      <button class=\"colab-df-convert\" onclick=\"convertToInteractive('df-c7a321ee-334d-43f2-b9a3-f9eaf81fbc23')\"\n",
              "              title=\"Convert this dataframe to an interactive table.\"\n",
              "              style=\"display:none;\">\n",
              "        \n",
              "  <svg xmlns=\"http://www.w3.org/2000/svg\" height=\"24px\"viewBox=\"0 0 24 24\"\n",
              "       width=\"24px\">\n",
              "    <path d=\"M0 0h24v24H0V0z\" fill=\"none\"/>\n",
              "    <path d=\"M18.56 5.44l.94 2.06.94-2.06 2.06-.94-2.06-.94-.94-2.06-.94 2.06-2.06.94zm-11 1L8.5 8.5l.94-2.06 2.06-.94-2.06-.94L8.5 2.5l-.94 2.06-2.06.94zm10 10l.94 2.06.94-2.06 2.06-.94-2.06-.94-.94-2.06-.94 2.06-2.06.94z\"/><path d=\"M17.41 7.96l-1.37-1.37c-.4-.4-.92-.59-1.43-.59-.52 0-1.04.2-1.43.59L10.3 9.45l-7.72 7.72c-.78.78-.78 2.05 0 2.83L4 21.41c.39.39.9.59 1.41.59.51 0 1.02-.2 1.41-.59l7.78-7.78 2.81-2.81c.8-.78.8-2.07 0-2.86zM5.41 20L4 18.59l7.72-7.72 1.47 1.35L5.41 20z\"/>\n",
              "  </svg>\n",
              "      </button>\n",
              "      \n",
              "  <style>\n",
              "    .colab-df-container {\n",
              "      display:flex;\n",
              "      flex-wrap:wrap;\n",
              "      gap: 12px;\n",
              "    }\n",
              "\n",
              "    .colab-df-convert {\n",
              "      background-color: #E8F0FE;\n",
              "      border: none;\n",
              "      border-radius: 50%;\n",
              "      cursor: pointer;\n",
              "      display: none;\n",
              "      fill: #1967D2;\n",
              "      height: 32px;\n",
              "      padding: 0 0 0 0;\n",
              "      width: 32px;\n",
              "    }\n",
              "\n",
              "    .colab-df-convert:hover {\n",
              "      background-color: #E2EBFA;\n",
              "      box-shadow: 0px 1px 2px rgba(60, 64, 67, 0.3), 0px 1px 3px 1px rgba(60, 64, 67, 0.15);\n",
              "      fill: #174EA6;\n",
              "    }\n",
              "\n",
              "    [theme=dark] .colab-df-convert {\n",
              "      background-color: #3B4455;\n",
              "      fill: #D2E3FC;\n",
              "    }\n",
              "\n",
              "    [theme=dark] .colab-df-convert:hover {\n",
              "      background-color: #434B5C;\n",
              "      box-shadow: 0px 1px 3px 1px rgba(0, 0, 0, 0.15);\n",
              "      filter: drop-shadow(0px 1px 2px rgba(0, 0, 0, 0.3));\n",
              "      fill: #FFFFFF;\n",
              "    }\n",
              "  </style>\n",
              "\n",
              "      <script>\n",
              "        const buttonEl =\n",
              "          document.querySelector('#df-c7a321ee-334d-43f2-b9a3-f9eaf81fbc23 button.colab-df-convert');\n",
              "        buttonEl.style.display =\n",
              "          google.colab.kernel.accessAllowed ? 'block' : 'none';\n",
              "\n",
              "        async function convertToInteractive(key) {\n",
              "          const element = document.querySelector('#df-c7a321ee-334d-43f2-b9a3-f9eaf81fbc23');\n",
              "          const dataTable =\n",
              "            await google.colab.kernel.invokeFunction('convertToInteractive',\n",
              "                                                     [key], {});\n",
              "          if (!dataTable) return;\n",
              "\n",
              "          const docLinkHtml = 'Like what you see? Visit the ' +\n",
              "            '<a target=\"_blank\" href=https://colab.research.google.com/notebooks/data_table.ipynb>data table notebook</a>'\n",
              "            + ' to learn more about interactive tables.';\n",
              "          element.innerHTML = '';\n",
              "          dataTable['output_type'] = 'display_data';\n",
              "          await google.colab.output.renderOutput(dataTable, element);\n",
              "          const docLink = document.createElement('div');\n",
              "          docLink.innerHTML = docLinkHtml;\n",
              "          element.appendChild(docLink);\n",
              "        }\n",
              "      </script>\n",
              "    </div>\n",
              "  </div>\n",
              "  "
            ]
          },
          "metadata": {},
          "execution_count": 6
        }
      ]
    },
    {
      "cell_type": "code",
      "execution_count": null,
      "metadata": {
        "id": "TkY-gDZDUkhc"
      },
      "outputs": [],
      "source": [
        "# Объединяем данные по столбцам даты отчёта и кода объекта\n",
        "merged_df = pd.merge(df, df_attr, on=['date_report', 'obj_key'])"
      ]
    },
    {
      "cell_type": "code",
      "source": [
        "merged_df.head(1)"
      ],
      "metadata": {
        "colab": {
          "base_uri": "https://localhost:8080/",
          "height": 197
        },
        "id": "6JjU7Rxt8HqW",
        "outputId": "a9cc89f4-6226-440d-e248-73563a97dcce"
      },
      "execution_count": null,
      "outputs": [
        {
          "output_type": "execute_result",
          "data": {
            "text/plain": [
              "   Unnamed: 0  № п/п      obj_prg                      obj_subprg   obj_key  \\\n",
              "0           0     79  Образование  Общеобразовательные учреждения  022-0524   \n",
              "\n",
              "  Кодзадачи        НазваниеЗадачи  ПроцентЗавершенияЗадачи ДатаНачалаЗадачи  \\\n",
              "0         1  Предпроектные работы                      0.0       2022-01-14   \n",
              "\n",
              "  ДатаОкончанияЗадачи ДатаначалаБП0 ДатаокончанияБП0  Статуспоэкспертизе  \\\n",
              "0          2022-09-22           NaN              NaN                 NaN   \n",
              "\n",
              "  Экспертиза date_report состояние площадки  Площадь  Генпроектировщик  \\\n",
              "0        NaN  2023.02.13             Занята   6800.0                 0   \n",
              "\n",
              "   Генподрядчик  Кол-во рабочих  \n",
              "0             0             NaN  "
            ],
            "text/html": [
              "\n",
              "  <div id=\"df-693f7676-6cac-449d-9bdd-b7a0b1cf6bd7\">\n",
              "    <div class=\"colab-df-container\">\n",
              "      <div>\n",
              "<style scoped>\n",
              "    .dataframe tbody tr th:only-of-type {\n",
              "        vertical-align: middle;\n",
              "    }\n",
              "\n",
              "    .dataframe tbody tr th {\n",
              "        vertical-align: top;\n",
              "    }\n",
              "\n",
              "    .dataframe thead th {\n",
              "        text-align: right;\n",
              "    }\n",
              "</style>\n",
              "<table border=\"1\" class=\"dataframe\">\n",
              "  <thead>\n",
              "    <tr style=\"text-align: right;\">\n",
              "      <th></th>\n",
              "      <th>Unnamed: 0</th>\n",
              "      <th>№ п/п</th>\n",
              "      <th>obj_prg</th>\n",
              "      <th>obj_subprg</th>\n",
              "      <th>obj_key</th>\n",
              "      <th>Кодзадачи</th>\n",
              "      <th>НазваниеЗадачи</th>\n",
              "      <th>ПроцентЗавершенияЗадачи</th>\n",
              "      <th>ДатаНачалаЗадачи</th>\n",
              "      <th>ДатаОкончанияЗадачи</th>\n",
              "      <th>ДатаначалаБП0</th>\n",
              "      <th>ДатаокончанияБП0</th>\n",
              "      <th>Статуспоэкспертизе</th>\n",
              "      <th>Экспертиза</th>\n",
              "      <th>date_report</th>\n",
              "      <th>состояние площадки</th>\n",
              "      <th>Площадь</th>\n",
              "      <th>Генпроектировщик</th>\n",
              "      <th>Генподрядчик</th>\n",
              "      <th>Кол-во рабочих</th>\n",
              "    </tr>\n",
              "  </thead>\n",
              "  <tbody>\n",
              "    <tr>\n",
              "      <th>0</th>\n",
              "      <td>0</td>\n",
              "      <td>79</td>\n",
              "      <td>Образование</td>\n",
              "      <td>Общеобразовательные учреждения</td>\n",
              "      <td>022-0524</td>\n",
              "      <td>1</td>\n",
              "      <td>Предпроектные работы</td>\n",
              "      <td>0.0</td>\n",
              "      <td>2022-01-14</td>\n",
              "      <td>2022-09-22</td>\n",
              "      <td>NaN</td>\n",
              "      <td>NaN</td>\n",
              "      <td>NaN</td>\n",
              "      <td>NaN</td>\n",
              "      <td>2023.02.13</td>\n",
              "      <td>Занята</td>\n",
              "      <td>6800.0</td>\n",
              "      <td>0</td>\n",
              "      <td>0</td>\n",
              "      <td>NaN</td>\n",
              "    </tr>\n",
              "  </tbody>\n",
              "</table>\n",
              "</div>\n",
              "      <button class=\"colab-df-convert\" onclick=\"convertToInteractive('df-693f7676-6cac-449d-9bdd-b7a0b1cf6bd7')\"\n",
              "              title=\"Convert this dataframe to an interactive table.\"\n",
              "              style=\"display:none;\">\n",
              "        \n",
              "  <svg xmlns=\"http://www.w3.org/2000/svg\" height=\"24px\"viewBox=\"0 0 24 24\"\n",
              "       width=\"24px\">\n",
              "    <path d=\"M0 0h24v24H0V0z\" fill=\"none\"/>\n",
              "    <path d=\"M18.56 5.44l.94 2.06.94-2.06 2.06-.94-2.06-.94-.94-2.06-.94 2.06-2.06.94zm-11 1L8.5 8.5l.94-2.06 2.06-.94-2.06-.94L8.5 2.5l-.94 2.06-2.06.94zm10 10l.94 2.06.94-2.06 2.06-.94-2.06-.94-.94-2.06-.94 2.06-2.06.94z\"/><path d=\"M17.41 7.96l-1.37-1.37c-.4-.4-.92-.59-1.43-.59-.52 0-1.04.2-1.43.59L10.3 9.45l-7.72 7.72c-.78.78-.78 2.05 0 2.83L4 21.41c.39.39.9.59 1.41.59.51 0 1.02-.2 1.41-.59l7.78-7.78 2.81-2.81c.8-.78.8-2.07 0-2.86zM5.41 20L4 18.59l7.72-7.72 1.47 1.35L5.41 20z\"/>\n",
              "  </svg>\n",
              "      </button>\n",
              "      \n",
              "  <style>\n",
              "    .colab-df-container {\n",
              "      display:flex;\n",
              "      flex-wrap:wrap;\n",
              "      gap: 12px;\n",
              "    }\n",
              "\n",
              "    .colab-df-convert {\n",
              "      background-color: #E8F0FE;\n",
              "      border: none;\n",
              "      border-radius: 50%;\n",
              "      cursor: pointer;\n",
              "      display: none;\n",
              "      fill: #1967D2;\n",
              "      height: 32px;\n",
              "      padding: 0 0 0 0;\n",
              "      width: 32px;\n",
              "    }\n",
              "\n",
              "    .colab-df-convert:hover {\n",
              "      background-color: #E2EBFA;\n",
              "      box-shadow: 0px 1px 2px rgba(60, 64, 67, 0.3), 0px 1px 3px 1px rgba(60, 64, 67, 0.15);\n",
              "      fill: #174EA6;\n",
              "    }\n",
              "\n",
              "    [theme=dark] .colab-df-convert {\n",
              "      background-color: #3B4455;\n",
              "      fill: #D2E3FC;\n",
              "    }\n",
              "\n",
              "    [theme=dark] .colab-df-convert:hover {\n",
              "      background-color: #434B5C;\n",
              "      box-shadow: 0px 1px 3px 1px rgba(0, 0, 0, 0.15);\n",
              "      filter: drop-shadow(0px 1px 2px rgba(0, 0, 0, 0.3));\n",
              "      fill: #FFFFFF;\n",
              "    }\n",
              "  </style>\n",
              "\n",
              "      <script>\n",
              "        const buttonEl =\n",
              "          document.querySelector('#df-693f7676-6cac-449d-9bdd-b7a0b1cf6bd7 button.colab-df-convert');\n",
              "        buttonEl.style.display =\n",
              "          google.colab.kernel.accessAllowed ? 'block' : 'none';\n",
              "\n",
              "        async function convertToInteractive(key) {\n",
              "          const element = document.querySelector('#df-693f7676-6cac-449d-9bdd-b7a0b1cf6bd7');\n",
              "          const dataTable =\n",
              "            await google.colab.kernel.invokeFunction('convertToInteractive',\n",
              "                                                     [key], {});\n",
              "          if (!dataTable) return;\n",
              "\n",
              "          const docLinkHtml = 'Like what you see? Visit the ' +\n",
              "            '<a target=\"_blank\" href=https://colab.research.google.com/notebooks/data_table.ipynb>data table notebook</a>'\n",
              "            + ' to learn more about interactive tables.';\n",
              "          element.innerHTML = '';\n",
              "          dataTable['output_type'] = 'display_data';\n",
              "          await google.colab.output.renderOutput(dataTable, element);\n",
              "          const docLink = document.createElement('div');\n",
              "          docLink.innerHTML = docLinkHtml;\n",
              "          element.appendChild(docLink);\n",
              "        }\n",
              "      </script>\n",
              "    </div>\n",
              "  </div>\n",
              "  "
            ]
          },
          "metadata": {},
          "execution_count": 8
        }
      ]
    },
    {
      "cell_type": "code",
      "execution_count": null,
      "metadata": {
        "colab": {
          "base_uri": "https://localhost:8080/"
        },
        "id": "knvtlM2gU9M1",
        "outputId": "df71cf43-577c-46e1-8f8c-177627934b8a"
      },
      "outputs": [
        {
          "output_type": "stream",
          "name": "stdout",
          "text": [
            "Отсутствующие столбцы в df_ksg: {'Площадь', 'Генподрядчик', 'Unnamed: 0', 'состояние площадки', 'Кол-во рабочих', 'Генпроектировщик'}\n",
            "Отсутствующие столбцы в merged_df: set()\n"
          ]
        }
      ],
      "source": [
        "# сравнение названий столбцов\n",
        "missing_columns_df1 = set(merged_df.columns) - set(df_ksg.columns)\n",
        "missing_columns_df2 = set(df_ksg.columns) - set(merged_df.columns)\n",
        "\n",
        "# вывод списка отсутствующих столбцов для каждого датасета\n",
        "print('Отсутствующие столбцы в df_ksg:', missing_columns_df1)\n",
        "print('Отсутствующие столбцы в merged_df:', missing_columns_df2)\n",
        "\n",
        "# В merged_df наибольшее количество столбцов поэтому работаем с ним"
      ]
    },
    {
      "cell_type": "code",
      "execution_count": null,
      "metadata": {
        "id": "ZEx3y3GFVFOh"
      },
      "outputs": [],
      "source": [
        "# Заполним все пропуски нулями\n",
        "merged_df.fillna(0, inplace=True)\n",
        "\n",
        "# Преобразуем столбцы дат в формат даты\n",
        "merged_df[['ДатаНачалаЗадачи', 'ДатаОкончанияЗадачи', 'date_report']] = merged_df[['ДатаНачалаЗадачи', 'ДатаОкончанияЗадачи', 'date_report']].apply(pd.to_datetime)\n",
        "merged_df[['ДатаначалаБП0', 'ДатаокончанияБП0']] = merged_df[['ДатаначалаБП0', 'ДатаокончанияБП0']].apply(pd.to_datetime)\n",
        "\n",
        "# Вычисляем количество дней на выполнение этапа\n",
        "merged_df['ФактСтрокВып_дн'] = merged_df['ДатаОкончанияЗадачи'] - merged_df['ДатаНачалаЗадачи']\n",
        "merged_df['СтрокВыпДог_дн'] = merged_df['ДатаокончанияБП0'] - merged_df['ДатаначалаБП0']\n",
        "\n",
        "# Переведем в строковые значения\n",
        "merged_df['ФактСтрокВып_дн'] = merged_df['ФактСтрокВып_дн'].astype(str)\n",
        "merged_df['СтрокВыпДог_дн'] = merged_df['СтрокВыпДог_дн'].astype(str)\n",
        "\n",
        "# Создадим списки дней\n",
        "list_fact = merged_df['ФактСтрокВып_дн'].to_list()\n",
        "list_doc = merged_df['СтрокВыпДог_дн'].to_list()\n",
        "\n",
        "# Преобразовываем дни в формат int\n",
        "new_list_fact = []\n",
        "for i in list_fact:\n",
        "    i = i.split(' ')\n",
        "    i = i[0]\n",
        "    new_list_fact.append(i)\n",
        "\n",
        "merged_df['ФактСтрокВып_дн'] = new_list_fact\n",
        "\n",
        "new_list_doc = []\n",
        "for i in list_doc:\n",
        "    i = i.split(' ')\n",
        "    i = i[0]\n",
        "    new_list_doc.append(i)\n",
        "\n",
        "merged_df['СтрокВыпДог_дн'] = new_list_doc\n",
        "\n",
        "merged_df['ФактСтрокВып_дн'] = merged_df['ФактСтрокВып_дн'].astype(int)\n",
        "merged_df['СтрокВыпДог_дн'] = merged_df['СтрокВыпДог_дн'].astype(int)\n",
        "\n",
        "# Создадим новый столбец с данными из столбцов obj_key Кодзадачи НазваниеЗадачи\n",
        "merged_df['obj_tasks'] = merged_df['obj_key'].astype(str) + \" \" + merged_df['Кодзадачи'].astype(str) + \" \" + merged_df['НазваниеЗадачи'].astype(str)\n",
        "# Создадим новый столбец с данными из столбцов obj_prg, obj_subprg, Кодзадачи, НазваниеЗадачи\n",
        "merged_df['obj_tasks_subprg'] = merged_df['obj_prg'].astype(str) + \" \" + merged_df['obj_subprg'].astype(str) + \" \" + merged_df['Кодзадачи'].astype(str) + \" \" + merged_df['НазваниеЗадачи'].astype(str)+ \" \" + merged_df['состояние площадки'].astype(str)\n",
        "\n",
        "# Переведём статус экспертизы к числовому формату\n",
        "merged_df['Экспертиза'] = merged_df['Экспертиза'].replace({'1ТС': 1, '2ТС': 2, '2С': 3, '2Т': 4, '1Т': 5, '1С': 6}) # [0, '1ТС', '2ТС', '2С', '2Т', '1Т', '1С']\n"
      ]
    },
    {
      "cell_type": "code",
      "execution_count": null,
      "metadata": {
        "colab": {
          "base_uri": "https://localhost:8080/",
          "height": 424
        },
        "id": "KJC73sAgUTjj",
        "outputId": "0f009738-1f74-406b-81af-4bf435d1c32a"
      },
      "outputs": [
        {
          "output_type": "execute_result",
          "data": {
            "text/plain": [
              "        Unnamed: 0  № п/п      obj_prg                      obj_subprg  \\\n",
              "0                0     79  Образование  Общеобразовательные учреждения   \n",
              "1               73     79  Образование  Общеобразовательные учреждения   \n",
              "2              109     79  Образование  Общеобразовательные учреждения   \n",
              "3              165     79  Образование  Общеобразовательные учреждения   \n",
              "4              241     79  Образование  Общеобразовательные учреждения   \n",
              "...            ...    ...          ...                             ...   \n",
              "387147       58068     77  Образование  Общеобразовательные учреждения   \n",
              "387148       59153     77  Образование  Общеобразовательные учреждения   \n",
              "387149       63496     86  Образование  Общеобразовательные учреждения   \n",
              "387150       63497     87  Образование  Общеобразовательные учреждения   \n",
              "387151       63498     88  Образование  Общеобразовательные учреждения   \n",
              "\n",
              "         obj_key Кодзадачи                                   НазваниеЗадачи  \\\n",
              "0       022-0524         1                             Предпроектные работы   \n",
              "1       022-0524       1.0  Нетиповая задача для блока Предпроектные работы   \n",
              "2       022-0524       1.1                             Объект включен в АИП   \n",
              "3       022-0524       1.2                                      Выпуск ГПЗУ   \n",
              "4       022-0524     1.2.1                  Подача заявки на получение ГПЗУ   \n",
              "...          ...       ...                                              ...   \n",
              "387147  022-0355     7.1.5                 Получение Акта итоговой проверки   \n",
              "387148  022-0355     7.4.5                       Итоговый акт приемки работ   \n",
              "387149  023-0093         0                                                0   \n",
              "387150  023-0091         0                                                0   \n",
              "387151  023-0089         0                                                0   \n",
              "\n",
              "        ПроцентЗавершенияЗадачи ДатаНачалаЗадачи ДатаОкончанияЗадачи  \n",
              "0                           0.0       2022-01-14          2022-09-22  \n",
              "1                           0.0       2022-09-22          2022-09-22  \n",
              "2                           0.0       2022-01-14          2022-01-14  \n",
              "3                           0.0       2022-01-14          2022-02-24  \n",
              "4                           0.0       2022-01-14          2022-01-14  \n",
              "...                         ...              ...                 ...  \n",
              "387147                      0.0       2023-07-01          2023-07-30  \n",
              "387148                      0.0       2023-07-30          2023-07-30  \n",
              "387149                      0.0       1970-01-01          1970-01-01  \n",
              "387150                      0.0       1970-01-01          1970-01-01  \n",
              "387151                      0.0       1970-01-01          1970-01-01  \n",
              "\n",
              "[387152 rows x 10 columns]"
            ],
            "text/html": [
              "\n",
              "  <div id=\"df-ddb56605-a775-4a85-bfe4-8f53c27efbee\">\n",
              "    <div class=\"colab-df-container\">\n",
              "      <div>\n",
              "<style scoped>\n",
              "    .dataframe tbody tr th:only-of-type {\n",
              "        vertical-align: middle;\n",
              "    }\n",
              "\n",
              "    .dataframe tbody tr th {\n",
              "        vertical-align: top;\n",
              "    }\n",
              "\n",
              "    .dataframe thead th {\n",
              "        text-align: right;\n",
              "    }\n",
              "</style>\n",
              "<table border=\"1\" class=\"dataframe\">\n",
              "  <thead>\n",
              "    <tr style=\"text-align: right;\">\n",
              "      <th></th>\n",
              "      <th>Unnamed: 0</th>\n",
              "      <th>№ п/п</th>\n",
              "      <th>obj_prg</th>\n",
              "      <th>obj_subprg</th>\n",
              "      <th>obj_key</th>\n",
              "      <th>Кодзадачи</th>\n",
              "      <th>НазваниеЗадачи</th>\n",
              "      <th>ПроцентЗавершенияЗадачи</th>\n",
              "      <th>ДатаНачалаЗадачи</th>\n",
              "      <th>ДатаОкончанияЗадачи</th>\n",
              "    </tr>\n",
              "  </thead>\n",
              "  <tbody>\n",
              "    <tr>\n",
              "      <th>0</th>\n",
              "      <td>0</td>\n",
              "      <td>79</td>\n",
              "      <td>Образование</td>\n",
              "      <td>Общеобразовательные учреждения</td>\n",
              "      <td>022-0524</td>\n",
              "      <td>1</td>\n",
              "      <td>Предпроектные работы</td>\n",
              "      <td>0.0</td>\n",
              "      <td>2022-01-14</td>\n",
              "      <td>2022-09-22</td>\n",
              "    </tr>\n",
              "    <tr>\n",
              "      <th>1</th>\n",
              "      <td>73</td>\n",
              "      <td>79</td>\n",
              "      <td>Образование</td>\n",
              "      <td>Общеобразовательные учреждения</td>\n",
              "      <td>022-0524</td>\n",
              "      <td>1.0</td>\n",
              "      <td>Нетиповая задача для блока Предпроектные работы</td>\n",
              "      <td>0.0</td>\n",
              "      <td>2022-09-22</td>\n",
              "      <td>2022-09-22</td>\n",
              "    </tr>\n",
              "    <tr>\n",
              "      <th>2</th>\n",
              "      <td>109</td>\n",
              "      <td>79</td>\n",
              "      <td>Образование</td>\n",
              "      <td>Общеобразовательные учреждения</td>\n",
              "      <td>022-0524</td>\n",
              "      <td>1.1</td>\n",
              "      <td>Объект включен в АИП</td>\n",
              "      <td>0.0</td>\n",
              "      <td>2022-01-14</td>\n",
              "      <td>2022-01-14</td>\n",
              "    </tr>\n",
              "    <tr>\n",
              "      <th>3</th>\n",
              "      <td>165</td>\n",
              "      <td>79</td>\n",
              "      <td>Образование</td>\n",
              "      <td>Общеобразовательные учреждения</td>\n",
              "      <td>022-0524</td>\n",
              "      <td>1.2</td>\n",
              "      <td>Выпуск ГПЗУ</td>\n",
              "      <td>0.0</td>\n",
              "      <td>2022-01-14</td>\n",
              "      <td>2022-02-24</td>\n",
              "    </tr>\n",
              "    <tr>\n",
              "      <th>4</th>\n",
              "      <td>241</td>\n",
              "      <td>79</td>\n",
              "      <td>Образование</td>\n",
              "      <td>Общеобразовательные учреждения</td>\n",
              "      <td>022-0524</td>\n",
              "      <td>1.2.1</td>\n",
              "      <td>Подача заявки на получение ГПЗУ</td>\n",
              "      <td>0.0</td>\n",
              "      <td>2022-01-14</td>\n",
              "      <td>2022-01-14</td>\n",
              "    </tr>\n",
              "    <tr>\n",
              "      <th>...</th>\n",
              "      <td>...</td>\n",
              "      <td>...</td>\n",
              "      <td>...</td>\n",
              "      <td>...</td>\n",
              "      <td>...</td>\n",
              "      <td>...</td>\n",
              "      <td>...</td>\n",
              "      <td>...</td>\n",
              "      <td>...</td>\n",
              "      <td>...</td>\n",
              "    </tr>\n",
              "    <tr>\n",
              "      <th>387147</th>\n",
              "      <td>58068</td>\n",
              "      <td>77</td>\n",
              "      <td>Образование</td>\n",
              "      <td>Общеобразовательные учреждения</td>\n",
              "      <td>022-0355</td>\n",
              "      <td>7.1.5</td>\n",
              "      <td>Получение Акта итоговой проверки</td>\n",
              "      <td>0.0</td>\n",
              "      <td>2023-07-01</td>\n",
              "      <td>2023-07-30</td>\n",
              "    </tr>\n",
              "    <tr>\n",
              "      <th>387148</th>\n",
              "      <td>59153</td>\n",
              "      <td>77</td>\n",
              "      <td>Образование</td>\n",
              "      <td>Общеобразовательные учреждения</td>\n",
              "      <td>022-0355</td>\n",
              "      <td>7.4.5</td>\n",
              "      <td>Итоговый акт приемки работ</td>\n",
              "      <td>0.0</td>\n",
              "      <td>2023-07-30</td>\n",
              "      <td>2023-07-30</td>\n",
              "    </tr>\n",
              "    <tr>\n",
              "      <th>387149</th>\n",
              "      <td>63496</td>\n",
              "      <td>86</td>\n",
              "      <td>Образование</td>\n",
              "      <td>Общеобразовательные учреждения</td>\n",
              "      <td>023-0093</td>\n",
              "      <td>0</td>\n",
              "      <td>0</td>\n",
              "      <td>0.0</td>\n",
              "      <td>1970-01-01</td>\n",
              "      <td>1970-01-01</td>\n",
              "    </tr>\n",
              "    <tr>\n",
              "      <th>387150</th>\n",
              "      <td>63497</td>\n",
              "      <td>87</td>\n",
              "      <td>Образование</td>\n",
              "      <td>Общеобразовательные учреждения</td>\n",
              "      <td>023-0091</td>\n",
              "      <td>0</td>\n",
              "      <td>0</td>\n",
              "      <td>0.0</td>\n",
              "      <td>1970-01-01</td>\n",
              "      <td>1970-01-01</td>\n",
              "    </tr>\n",
              "    <tr>\n",
              "      <th>387151</th>\n",
              "      <td>63498</td>\n",
              "      <td>88</td>\n",
              "      <td>Образование</td>\n",
              "      <td>Общеобразовательные учреждения</td>\n",
              "      <td>023-0089</td>\n",
              "      <td>0</td>\n",
              "      <td>0</td>\n",
              "      <td>0.0</td>\n",
              "      <td>1970-01-01</td>\n",
              "      <td>1970-01-01</td>\n",
              "    </tr>\n",
              "  </tbody>\n",
              "</table>\n",
              "<p>387152 rows × 10 columns</p>\n",
              "</div>\n",
              "      <button class=\"colab-df-convert\" onclick=\"convertToInteractive('df-ddb56605-a775-4a85-bfe4-8f53c27efbee')\"\n",
              "              title=\"Convert this dataframe to an interactive table.\"\n",
              "              style=\"display:none;\">\n",
              "        \n",
              "  <svg xmlns=\"http://www.w3.org/2000/svg\" height=\"24px\"viewBox=\"0 0 24 24\"\n",
              "       width=\"24px\">\n",
              "    <path d=\"M0 0h24v24H0V0z\" fill=\"none\"/>\n",
              "    <path d=\"M18.56 5.44l.94 2.06.94-2.06 2.06-.94-2.06-.94-.94-2.06-.94 2.06-2.06.94zm-11 1L8.5 8.5l.94-2.06 2.06-.94-2.06-.94L8.5 2.5l-.94 2.06-2.06.94zm10 10l.94 2.06.94-2.06 2.06-.94-2.06-.94-.94-2.06-.94 2.06-2.06.94z\"/><path d=\"M17.41 7.96l-1.37-1.37c-.4-.4-.92-.59-1.43-.59-.52 0-1.04.2-1.43.59L10.3 9.45l-7.72 7.72c-.78.78-.78 2.05 0 2.83L4 21.41c.39.39.9.59 1.41.59.51 0 1.02-.2 1.41-.59l7.78-7.78 2.81-2.81c.8-.78.8-2.07 0-2.86zM5.41 20L4 18.59l7.72-7.72 1.47 1.35L5.41 20z\"/>\n",
              "  </svg>\n",
              "      </button>\n",
              "      \n",
              "  <style>\n",
              "    .colab-df-container {\n",
              "      display:flex;\n",
              "      flex-wrap:wrap;\n",
              "      gap: 12px;\n",
              "    }\n",
              "\n",
              "    .colab-df-convert {\n",
              "      background-color: #E8F0FE;\n",
              "      border: none;\n",
              "      border-radius: 50%;\n",
              "      cursor: pointer;\n",
              "      display: none;\n",
              "      fill: #1967D2;\n",
              "      height: 32px;\n",
              "      padding: 0 0 0 0;\n",
              "      width: 32px;\n",
              "    }\n",
              "\n",
              "    .colab-df-convert:hover {\n",
              "      background-color: #E2EBFA;\n",
              "      box-shadow: 0px 1px 2px rgba(60, 64, 67, 0.3), 0px 1px 3px 1px rgba(60, 64, 67, 0.15);\n",
              "      fill: #174EA6;\n",
              "    }\n",
              "\n",
              "    [theme=dark] .colab-df-convert {\n",
              "      background-color: #3B4455;\n",
              "      fill: #D2E3FC;\n",
              "    }\n",
              "\n",
              "    [theme=dark] .colab-df-convert:hover {\n",
              "      background-color: #434B5C;\n",
              "      box-shadow: 0px 1px 3px 1px rgba(0, 0, 0, 0.15);\n",
              "      filter: drop-shadow(0px 1px 2px rgba(0, 0, 0, 0.3));\n",
              "      fill: #FFFFFF;\n",
              "    }\n",
              "  </style>\n",
              "\n",
              "      <script>\n",
              "        const buttonEl =\n",
              "          document.querySelector('#df-ddb56605-a775-4a85-bfe4-8f53c27efbee button.colab-df-convert');\n",
              "        buttonEl.style.display =\n",
              "          google.colab.kernel.accessAllowed ? 'block' : 'none';\n",
              "\n",
              "        async function convertToInteractive(key) {\n",
              "          const element = document.querySelector('#df-ddb56605-a775-4a85-bfe4-8f53c27efbee');\n",
              "          const dataTable =\n",
              "            await google.colab.kernel.invokeFunction('convertToInteractive',\n",
              "                                                     [key], {});\n",
              "          if (!dataTable) return;\n",
              "\n",
              "          const docLinkHtml = 'Like what you see? Visit the ' +\n",
              "            '<a target=\"_blank\" href=https://colab.research.google.com/notebooks/data_table.ipynb>data table notebook</a>'\n",
              "            + ' to learn more about interactive tables.';\n",
              "          element.innerHTML = '';\n",
              "          dataTable['output_type'] = 'display_data';\n",
              "          await google.colab.output.renderOutput(dataTable, element);\n",
              "          const docLink = document.createElement('div');\n",
              "          docLink.innerHTML = docLinkHtml;\n",
              "          element.appendChild(docLink);\n",
              "        }\n",
              "      </script>\n",
              "    </div>\n",
              "  </div>\n",
              "  "
            ]
          },
          "metadata": {},
          "execution_count": 11
        }
      ],
      "source": [
        "merged_df.iloc[:, 0:10]"
      ]
    },
    {
      "cell_type": "code",
      "source": [
        "merged_df.iloc[:, 0:10].info()"
      ],
      "metadata": {
        "colab": {
          "base_uri": "https://localhost:8080/"
        },
        "id": "aU-Rka4NvY4a",
        "outputId": "17d87b34-eed6-48bc-d130-610d11f8d037"
      },
      "execution_count": null,
      "outputs": [
        {
          "output_type": "stream",
          "name": "stdout",
          "text": [
            "<class 'pandas.core.frame.DataFrame'>\n",
            "Int64Index: 387152 entries, 0 to 387151\n",
            "Data columns (total 10 columns):\n",
            " #   Column                   Non-Null Count   Dtype         \n",
            "---  ------                   --------------   -----         \n",
            " 0   Unnamed: 0               387152 non-null  int64         \n",
            " 1   № п/п                    387152 non-null  int64         \n",
            " 2   obj_prg                  387152 non-null  object        \n",
            " 3   obj_subprg               387152 non-null  object        \n",
            " 4   obj_key                  387152 non-null  object        \n",
            " 5   Кодзадачи                387152 non-null  object        \n",
            " 6   НазваниеЗадачи           387152 non-null  object        \n",
            " 7   ПроцентЗавершенияЗадачи  387152 non-null  float64       \n",
            " 8   ДатаНачалаЗадачи         387152 non-null  datetime64[ns]\n",
            " 9   ДатаОкончанияЗадачи      387152 non-null  datetime64[ns]\n",
            "dtypes: datetime64[ns](2), float64(1), int64(2), object(5)\n",
            "memory usage: 32.5+ MB\n"
          ]
        }
      ]
    },
    {
      "cell_type": "code",
      "execution_count": null,
      "metadata": {
        "colab": {
          "base_uri": "https://localhost:8080/",
          "height": 956
        },
        "id": "dDCgTM1LYHXk",
        "outputId": "6e70c2b5-6376-496d-f195-bec6cf1688bc"
      },
      "outputs": [
        {
          "output_type": "execute_result",
          "data": {
            "text/plain": [
              "       ДатаначалаБП0 ДатаокончанияБП0  Статуспоэкспертизе  Экспертиза  \\\n",
              "0         1970-01-01       1970-01-01                 0.0           0   \n",
              "1         1970-01-01       1970-01-01                 0.0           0   \n",
              "2         1970-01-01       1970-01-01                 0.0           0   \n",
              "3         1970-01-01       1970-01-01                 0.0           0   \n",
              "4         1970-01-01       1970-01-01                 0.0           0   \n",
              "...              ...              ...                 ...         ...   \n",
              "387147    2023-06-01       2023-06-30                 0.0           0   \n",
              "387148    2023-06-30       2023-06-30                 0.0           0   \n",
              "387149    1970-01-01       1970-01-01                 0.0           0   \n",
              "387150    1970-01-01       1970-01-01                 0.0           0   \n",
              "387151    1970-01-01       1970-01-01                 0.0           0   \n",
              "\n",
              "       date_report                      состояние площадки  Площадь  \\\n",
              "0       2023-02-13                                  Занята   6800.0   \n",
              "1       2023-02-13                                  Занята   6800.0   \n",
              "2       2023-02-13                                  Занята   6800.0   \n",
              "3       2023-02-13                                  Занята   6800.0   \n",
              "4       2023-02-13                                  Занята   6800.0   \n",
              "...            ...                                     ...      ...   \n",
              "387147  2023-05-29  Передана под снос (для объектов сноса)      0.0   \n",
              "387148  2023-05-29  Передана под снос (для объектов сноса)      0.0   \n",
              "387149  2023-05-29                             Не передана  17000.0   \n",
              "387150  2023-05-29                                       0  17000.0   \n",
              "387151  2023-05-29                             Не передана   7500.0   \n",
              "\n",
              "        Генпроектировщик  Генподрядчик  Кол-во рабочих  ФактСтрокВып_дн  \\\n",
              "0                      0             0             0.0              251   \n",
              "1                      0             0             0.0                0   \n",
              "2                      0             0             0.0                0   \n",
              "3                      0             0             0.0               41   \n",
              "4                      0             0             0.0                0   \n",
              "...                  ...           ...             ...              ...   \n",
              "387147                 1             2             6.0               29   \n",
              "387148                 1             2             6.0                0   \n",
              "387149                 0             0             0.0                0   \n",
              "387150                 0             0             0.0                0   \n",
              "387151                 0             0             0.0                0   \n",
              "\n",
              "        СтрокВыпДог_дн                                          obj_tasks  \\\n",
              "0                    0                    022-0524 1 Предпроектные работы   \n",
              "1                    0  022-0524 1.0 Нетиповая задача для блока Предпр...   \n",
              "2                    0                  022-0524 1.1 Объект включен в АИП   \n",
              "3                    0                           022-0524 1.2 Выпуск ГПЗУ   \n",
              "4                    0     022-0524 1.2.1 Подача заявки на получение ГПЗУ   \n",
              "...                ...                                                ...   \n",
              "387147              29    022-0355 7.1.5 Получение Акта итоговой проверки   \n",
              "387148               0          022-0355 7.4.5 Итоговый акт приемки работ   \n",
              "387149               0                                       023-0093 0 0   \n",
              "387150               0                                       023-0091 0 0   \n",
              "387151               0                                       023-0089 0 0   \n",
              "\n",
              "                                         obj_tasks_subprg  \n",
              "0       Образование Общеобразовательные учреждения 1 П...  \n",
              "1       Образование Общеобразовательные учреждения 1.0...  \n",
              "2       Образование Общеобразовательные учреждения 1.1...  \n",
              "3       Образование Общеобразовательные учреждения 1.2...  \n",
              "4       Образование Общеобразовательные учреждения 1.2...  \n",
              "...                                                   ...  \n",
              "387147  Образование Общеобразовательные учреждения 7.1...  \n",
              "387148  Образование Общеобразовательные учреждения 7.4...  \n",
              "387149  Образование Общеобразовательные учреждения 0 0...  \n",
              "387150   Образование Общеобразовательные учреждения 0 0 0  \n",
              "387151  Образование Общеобразовательные учреждения 0 0...  \n",
              "\n",
              "[387152 rows x 14 columns]"
            ],
            "text/html": [
              "\n",
              "  <div id=\"df-27970bfc-2ca2-4156-927d-d3593b7c7559\">\n",
              "    <div class=\"colab-df-container\">\n",
              "      <div>\n",
              "<style scoped>\n",
              "    .dataframe tbody tr th:only-of-type {\n",
              "        vertical-align: middle;\n",
              "    }\n",
              "\n",
              "    .dataframe tbody tr th {\n",
              "        vertical-align: top;\n",
              "    }\n",
              "\n",
              "    .dataframe thead th {\n",
              "        text-align: right;\n",
              "    }\n",
              "</style>\n",
              "<table border=\"1\" class=\"dataframe\">\n",
              "  <thead>\n",
              "    <tr style=\"text-align: right;\">\n",
              "      <th></th>\n",
              "      <th>ДатаначалаБП0</th>\n",
              "      <th>ДатаокончанияБП0</th>\n",
              "      <th>Статуспоэкспертизе</th>\n",
              "      <th>Экспертиза</th>\n",
              "      <th>date_report</th>\n",
              "      <th>состояние площадки</th>\n",
              "      <th>Площадь</th>\n",
              "      <th>Генпроектировщик</th>\n",
              "      <th>Генподрядчик</th>\n",
              "      <th>Кол-во рабочих</th>\n",
              "      <th>ФактСтрокВып_дн</th>\n",
              "      <th>СтрокВыпДог_дн</th>\n",
              "      <th>obj_tasks</th>\n",
              "      <th>obj_tasks_subprg</th>\n",
              "    </tr>\n",
              "  </thead>\n",
              "  <tbody>\n",
              "    <tr>\n",
              "      <th>0</th>\n",
              "      <td>1970-01-01</td>\n",
              "      <td>1970-01-01</td>\n",
              "      <td>0.0</td>\n",
              "      <td>0</td>\n",
              "      <td>2023-02-13</td>\n",
              "      <td>Занята</td>\n",
              "      <td>6800.0</td>\n",
              "      <td>0</td>\n",
              "      <td>0</td>\n",
              "      <td>0.0</td>\n",
              "      <td>251</td>\n",
              "      <td>0</td>\n",
              "      <td>022-0524 1 Предпроектные работы</td>\n",
              "      <td>Образование Общеобразовательные учреждения 1 П...</td>\n",
              "    </tr>\n",
              "    <tr>\n",
              "      <th>1</th>\n",
              "      <td>1970-01-01</td>\n",
              "      <td>1970-01-01</td>\n",
              "      <td>0.0</td>\n",
              "      <td>0</td>\n",
              "      <td>2023-02-13</td>\n",
              "      <td>Занята</td>\n",
              "      <td>6800.0</td>\n",
              "      <td>0</td>\n",
              "      <td>0</td>\n",
              "      <td>0.0</td>\n",
              "      <td>0</td>\n",
              "      <td>0</td>\n",
              "      <td>022-0524 1.0 Нетиповая задача для блока Предпр...</td>\n",
              "      <td>Образование Общеобразовательные учреждения 1.0...</td>\n",
              "    </tr>\n",
              "    <tr>\n",
              "      <th>2</th>\n",
              "      <td>1970-01-01</td>\n",
              "      <td>1970-01-01</td>\n",
              "      <td>0.0</td>\n",
              "      <td>0</td>\n",
              "      <td>2023-02-13</td>\n",
              "      <td>Занята</td>\n",
              "      <td>6800.0</td>\n",
              "      <td>0</td>\n",
              "      <td>0</td>\n",
              "      <td>0.0</td>\n",
              "      <td>0</td>\n",
              "      <td>0</td>\n",
              "      <td>022-0524 1.1 Объект включен в АИП</td>\n",
              "      <td>Образование Общеобразовательные учреждения 1.1...</td>\n",
              "    </tr>\n",
              "    <tr>\n",
              "      <th>3</th>\n",
              "      <td>1970-01-01</td>\n",
              "      <td>1970-01-01</td>\n",
              "      <td>0.0</td>\n",
              "      <td>0</td>\n",
              "      <td>2023-02-13</td>\n",
              "      <td>Занята</td>\n",
              "      <td>6800.0</td>\n",
              "      <td>0</td>\n",
              "      <td>0</td>\n",
              "      <td>0.0</td>\n",
              "      <td>41</td>\n",
              "      <td>0</td>\n",
              "      <td>022-0524 1.2 Выпуск ГПЗУ</td>\n",
              "      <td>Образование Общеобразовательные учреждения 1.2...</td>\n",
              "    </tr>\n",
              "    <tr>\n",
              "      <th>4</th>\n",
              "      <td>1970-01-01</td>\n",
              "      <td>1970-01-01</td>\n",
              "      <td>0.0</td>\n",
              "      <td>0</td>\n",
              "      <td>2023-02-13</td>\n",
              "      <td>Занята</td>\n",
              "      <td>6800.0</td>\n",
              "      <td>0</td>\n",
              "      <td>0</td>\n",
              "      <td>0.0</td>\n",
              "      <td>0</td>\n",
              "      <td>0</td>\n",
              "      <td>022-0524 1.2.1 Подача заявки на получение ГПЗУ</td>\n",
              "      <td>Образование Общеобразовательные учреждения 1.2...</td>\n",
              "    </tr>\n",
              "    <tr>\n",
              "      <th>...</th>\n",
              "      <td>...</td>\n",
              "      <td>...</td>\n",
              "      <td>...</td>\n",
              "      <td>...</td>\n",
              "      <td>...</td>\n",
              "      <td>...</td>\n",
              "      <td>...</td>\n",
              "      <td>...</td>\n",
              "      <td>...</td>\n",
              "      <td>...</td>\n",
              "      <td>...</td>\n",
              "      <td>...</td>\n",
              "      <td>...</td>\n",
              "      <td>...</td>\n",
              "    </tr>\n",
              "    <tr>\n",
              "      <th>387147</th>\n",
              "      <td>2023-06-01</td>\n",
              "      <td>2023-06-30</td>\n",
              "      <td>0.0</td>\n",
              "      <td>0</td>\n",
              "      <td>2023-05-29</td>\n",
              "      <td>Передана под снос (для объектов сноса)</td>\n",
              "      <td>0.0</td>\n",
              "      <td>1</td>\n",
              "      <td>2</td>\n",
              "      <td>6.0</td>\n",
              "      <td>29</td>\n",
              "      <td>29</td>\n",
              "      <td>022-0355 7.1.5 Получение Акта итоговой проверки</td>\n",
              "      <td>Образование Общеобразовательные учреждения 7.1...</td>\n",
              "    </tr>\n",
              "    <tr>\n",
              "      <th>387148</th>\n",
              "      <td>2023-06-30</td>\n",
              "      <td>2023-06-30</td>\n",
              "      <td>0.0</td>\n",
              "      <td>0</td>\n",
              "      <td>2023-05-29</td>\n",
              "      <td>Передана под снос (для объектов сноса)</td>\n",
              "      <td>0.0</td>\n",
              "      <td>1</td>\n",
              "      <td>2</td>\n",
              "      <td>6.0</td>\n",
              "      <td>0</td>\n",
              "      <td>0</td>\n",
              "      <td>022-0355 7.4.5 Итоговый акт приемки работ</td>\n",
              "      <td>Образование Общеобразовательные учреждения 7.4...</td>\n",
              "    </tr>\n",
              "    <tr>\n",
              "      <th>387149</th>\n",
              "      <td>1970-01-01</td>\n",
              "      <td>1970-01-01</td>\n",
              "      <td>0.0</td>\n",
              "      <td>0</td>\n",
              "      <td>2023-05-29</td>\n",
              "      <td>Не передана</td>\n",
              "      <td>17000.0</td>\n",
              "      <td>0</td>\n",
              "      <td>0</td>\n",
              "      <td>0.0</td>\n",
              "      <td>0</td>\n",
              "      <td>0</td>\n",
              "      <td>023-0093 0 0</td>\n",
              "      <td>Образование Общеобразовательные учреждения 0 0...</td>\n",
              "    </tr>\n",
              "    <tr>\n",
              "      <th>387150</th>\n",
              "      <td>1970-01-01</td>\n",
              "      <td>1970-01-01</td>\n",
              "      <td>0.0</td>\n",
              "      <td>0</td>\n",
              "      <td>2023-05-29</td>\n",
              "      <td>0</td>\n",
              "      <td>17000.0</td>\n",
              "      <td>0</td>\n",
              "      <td>0</td>\n",
              "      <td>0.0</td>\n",
              "      <td>0</td>\n",
              "      <td>0</td>\n",
              "      <td>023-0091 0 0</td>\n",
              "      <td>Образование Общеобразовательные учреждения 0 0 0</td>\n",
              "    </tr>\n",
              "    <tr>\n",
              "      <th>387151</th>\n",
              "      <td>1970-01-01</td>\n",
              "      <td>1970-01-01</td>\n",
              "      <td>0.0</td>\n",
              "      <td>0</td>\n",
              "      <td>2023-05-29</td>\n",
              "      <td>Не передана</td>\n",
              "      <td>7500.0</td>\n",
              "      <td>0</td>\n",
              "      <td>0</td>\n",
              "      <td>0.0</td>\n",
              "      <td>0</td>\n",
              "      <td>0</td>\n",
              "      <td>023-0089 0 0</td>\n",
              "      <td>Образование Общеобразовательные учреждения 0 0...</td>\n",
              "    </tr>\n",
              "  </tbody>\n",
              "</table>\n",
              "<p>387152 rows × 14 columns</p>\n",
              "</div>\n",
              "      <button class=\"colab-df-convert\" onclick=\"convertToInteractive('df-27970bfc-2ca2-4156-927d-d3593b7c7559')\"\n",
              "              title=\"Convert this dataframe to an interactive table.\"\n",
              "              style=\"display:none;\">\n",
              "        \n",
              "  <svg xmlns=\"http://www.w3.org/2000/svg\" height=\"24px\"viewBox=\"0 0 24 24\"\n",
              "       width=\"24px\">\n",
              "    <path d=\"M0 0h24v24H0V0z\" fill=\"none\"/>\n",
              "    <path d=\"M18.56 5.44l.94 2.06.94-2.06 2.06-.94-2.06-.94-.94-2.06-.94 2.06-2.06.94zm-11 1L8.5 8.5l.94-2.06 2.06-.94-2.06-.94L8.5 2.5l-.94 2.06-2.06.94zm10 10l.94 2.06.94-2.06 2.06-.94-2.06-.94-.94-2.06-.94 2.06-2.06.94z\"/><path d=\"M17.41 7.96l-1.37-1.37c-.4-.4-.92-.59-1.43-.59-.52 0-1.04.2-1.43.59L10.3 9.45l-7.72 7.72c-.78.78-.78 2.05 0 2.83L4 21.41c.39.39.9.59 1.41.59.51 0 1.02-.2 1.41-.59l7.78-7.78 2.81-2.81c.8-.78.8-2.07 0-2.86zM5.41 20L4 18.59l7.72-7.72 1.47 1.35L5.41 20z\"/>\n",
              "  </svg>\n",
              "      </button>\n",
              "      \n",
              "  <style>\n",
              "    .colab-df-container {\n",
              "      display:flex;\n",
              "      flex-wrap:wrap;\n",
              "      gap: 12px;\n",
              "    }\n",
              "\n",
              "    .colab-df-convert {\n",
              "      background-color: #E8F0FE;\n",
              "      border: none;\n",
              "      border-radius: 50%;\n",
              "      cursor: pointer;\n",
              "      display: none;\n",
              "      fill: #1967D2;\n",
              "      height: 32px;\n",
              "      padding: 0 0 0 0;\n",
              "      width: 32px;\n",
              "    }\n",
              "\n",
              "    .colab-df-convert:hover {\n",
              "      background-color: #E2EBFA;\n",
              "      box-shadow: 0px 1px 2px rgba(60, 64, 67, 0.3), 0px 1px 3px 1px rgba(60, 64, 67, 0.15);\n",
              "      fill: #174EA6;\n",
              "    }\n",
              "\n",
              "    [theme=dark] .colab-df-convert {\n",
              "      background-color: #3B4455;\n",
              "      fill: #D2E3FC;\n",
              "    }\n",
              "\n",
              "    [theme=dark] .colab-df-convert:hover {\n",
              "      background-color: #434B5C;\n",
              "      box-shadow: 0px 1px 3px 1px rgba(0, 0, 0, 0.15);\n",
              "      filter: drop-shadow(0px 1px 2px rgba(0, 0, 0, 0.3));\n",
              "      fill: #FFFFFF;\n",
              "    }\n",
              "  </style>\n",
              "\n",
              "      <script>\n",
              "        const buttonEl =\n",
              "          document.querySelector('#df-27970bfc-2ca2-4156-927d-d3593b7c7559 button.colab-df-convert');\n",
              "        buttonEl.style.display =\n",
              "          google.colab.kernel.accessAllowed ? 'block' : 'none';\n",
              "\n",
              "        async function convertToInteractive(key) {\n",
              "          const element = document.querySelector('#df-27970bfc-2ca2-4156-927d-d3593b7c7559');\n",
              "          const dataTable =\n",
              "            await google.colab.kernel.invokeFunction('convertToInteractive',\n",
              "                                                     [key], {});\n",
              "          if (!dataTable) return;\n",
              "\n",
              "          const docLinkHtml = 'Like what you see? Visit the ' +\n",
              "            '<a target=\"_blank\" href=https://colab.research.google.com/notebooks/data_table.ipynb>data table notebook</a>'\n",
              "            + ' to learn more about interactive tables.';\n",
              "          element.innerHTML = '';\n",
              "          dataTable['output_type'] = 'display_data';\n",
              "          await google.colab.output.renderOutput(dataTable, element);\n",
              "          const docLink = document.createElement('div');\n",
              "          docLink.innerHTML = docLinkHtml;\n",
              "          element.appendChild(docLink);\n",
              "        }\n",
              "      </script>\n",
              "    </div>\n",
              "  </div>\n",
              "  "
            ]
          },
          "metadata": {},
          "execution_count": 13
        }
      ],
      "source": [
        "merged_df.iloc[:, 10:]"
      ]
    },
    {
      "cell_type": "code",
      "source": [
        "merged_df.iloc[:, 10:].info()"
      ],
      "metadata": {
        "colab": {
          "base_uri": "https://localhost:8080/"
        },
        "id": "UHeLYVtWvdWQ",
        "outputId": "0fbbffdf-1a3a-4e2c-facf-4186209b127f"
      },
      "execution_count": null,
      "outputs": [
        {
          "output_type": "stream",
          "name": "stdout",
          "text": [
            "<class 'pandas.core.frame.DataFrame'>\n",
            "Int64Index: 387152 entries, 0 to 387151\n",
            "Data columns (total 14 columns):\n",
            " #   Column              Non-Null Count   Dtype         \n",
            "---  ------              --------------   -----         \n",
            " 0   ДатаначалаБП0       387152 non-null  datetime64[ns]\n",
            " 1   ДатаокончанияБП0    387152 non-null  datetime64[ns]\n",
            " 2   Статуспоэкспертизе  387152 non-null  float64       \n",
            " 3   Экспертиза          387152 non-null  int64         \n",
            " 4   date_report         387152 non-null  datetime64[ns]\n",
            " 5   состояние площадки  387152 non-null  object        \n",
            " 6   Площадь             387152 non-null  float64       \n",
            " 7   Генпроектировщик    387152 non-null  int64         \n",
            " 8   Генподрядчик        387152 non-null  int64         \n",
            " 9   Кол-во рабочих      387152 non-null  float64       \n",
            " 10  ФактСтрокВып_дн     387152 non-null  int64         \n",
            " 11  СтрокВыпДог_дн      387152 non-null  int64         \n",
            " 12  obj_tasks           387152 non-null  object        \n",
            " 13  obj_tasks_subprg    387152 non-null  object        \n",
            "dtypes: datetime64[ns](3), float64(3), int64(5), object(3)\n",
            "memory usage: 44.3+ MB\n"
          ]
        }
      ]
    },
    {
      "cell_type": "code",
      "source": [
        "merged_df['Экспертиза'].unique() #obj_key"
      ],
      "metadata": {
        "colab": {
          "base_uri": "https://localhost:8080/"
        },
        "id": "e1KT-BMuvpZ4",
        "outputId": "395e4dd8-1df0-463d-f854-ea754f14461d"
      },
      "execution_count": null,
      "outputs": [
        {
          "output_type": "execute_result",
          "data": {
            "text/plain": [
              "array([0, 1, 2, 3, 4, 5, 6])"
            ]
          },
          "metadata": {},
          "execution_count": 15
        }
      ]
    },
    {
      "cell_type": "code",
      "source": [
        "merged_df['obj_key'].unique() # merged_"
      ],
      "metadata": {
        "colab": {
          "base_uri": "https://localhost:8080/"
        },
        "id": "b_N30JZJ7ElF",
        "outputId": "8f3ab040-a691-495a-9b5c-2bf624765cfd"
      },
      "execution_count": null,
      "outputs": [
        {
          "output_type": "execute_result",
          "data": {
            "text/plain": [
              "array(['022-0524', '022-0354', '022-0526', '019-0594', '019-0675',\n",
              "       '020-0710', '019-0430', '022-0170', '020-0156', '019-0429',\n",
              "       '019-0428', '020-0709', '020-0157', '020-0711', '019-0676',\n",
              "       '019-0431', '020-0720', '020-0708', '020-0683', '017-0527',\n",
              "       '020-0155', '021-0048', '022-0176', '019-0674', '021-0781',\n",
              "       '022-0522', '022-0527', '022-0528', '022-0355', '022-0525',\n",
              "       '023-0093', '023-0091', '023-0089'], dtype=object)"
            ]
          },
          "metadata": {},
          "execution_count": 16
        }
      ]
    },
    {
      "cell_type": "code",
      "source": [
        "merged_df"
      ],
      "metadata": {
        "colab": {
          "base_uri": "https://localhost:8080/",
          "height": 991
        },
        "id": "5XsKppUGP9Vd",
        "outputId": "5e579289-9d97-460c-c4a8-ba7f55ea8209"
      },
      "execution_count": null,
      "outputs": [
        {
          "output_type": "execute_result",
          "data": {
            "text/plain": [
              "        Unnamed: 0  № п/п      obj_prg                      obj_subprg  \\\n",
              "0                0     79  Образование  Общеобразовательные учреждения   \n",
              "1               73     79  Образование  Общеобразовательные учреждения   \n",
              "2              109     79  Образование  Общеобразовательные учреждения   \n",
              "3              165     79  Образование  Общеобразовательные учреждения   \n",
              "4              241     79  Образование  Общеобразовательные учреждения   \n",
              "...            ...    ...          ...                             ...   \n",
              "387147       58068     77  Образование  Общеобразовательные учреждения   \n",
              "387148       59153     77  Образование  Общеобразовательные учреждения   \n",
              "387149       63496     86  Образование  Общеобразовательные учреждения   \n",
              "387150       63497     87  Образование  Общеобразовательные учреждения   \n",
              "387151       63498     88  Образование  Общеобразовательные учреждения   \n",
              "\n",
              "         obj_key Кодзадачи                                   НазваниеЗадачи  \\\n",
              "0       022-0524         1                             Предпроектные работы   \n",
              "1       022-0524       1.0  Нетиповая задача для блока Предпроектные работы   \n",
              "2       022-0524       1.1                             Объект включен в АИП   \n",
              "3       022-0524       1.2                                      Выпуск ГПЗУ   \n",
              "4       022-0524     1.2.1                  Подача заявки на получение ГПЗУ   \n",
              "...          ...       ...                                              ...   \n",
              "387147  022-0355     7.1.5                 Получение Акта итоговой проверки   \n",
              "387148  022-0355     7.4.5                       Итоговый акт приемки работ   \n",
              "387149  023-0093         0                                                0   \n",
              "387150  023-0091         0                                                0   \n",
              "387151  023-0089         0                                                0   \n",
              "\n",
              "        ПроцентЗавершенияЗадачи ДатаНачалаЗадачи ДатаОкончанияЗадачи  ...  \\\n",
              "0                           0.0       2022-01-14          2022-09-22  ...   \n",
              "1                           0.0       2022-09-22          2022-09-22  ...   \n",
              "2                           0.0       2022-01-14          2022-01-14  ...   \n",
              "3                           0.0       2022-01-14          2022-02-24  ...   \n",
              "4                           0.0       2022-01-14          2022-01-14  ...   \n",
              "...                         ...              ...                 ...  ...   \n",
              "387147                      0.0       2023-07-01          2023-07-30  ...   \n",
              "387148                      0.0       2023-07-30          2023-07-30  ...   \n",
              "387149                      0.0       1970-01-01          1970-01-01  ...   \n",
              "387150                      0.0       1970-01-01          1970-01-01  ...   \n",
              "387151                      0.0       1970-01-01          1970-01-01  ...   \n",
              "\n",
              "       date_report                      состояние площадки  Площадь  \\\n",
              "0       2023-02-13                                  Занята   6800.0   \n",
              "1       2023-02-13                                  Занята   6800.0   \n",
              "2       2023-02-13                                  Занята   6800.0   \n",
              "3       2023-02-13                                  Занята   6800.0   \n",
              "4       2023-02-13                                  Занята   6800.0   \n",
              "...            ...                                     ...      ...   \n",
              "387147  2023-05-29  Передана под снос (для объектов сноса)      0.0   \n",
              "387148  2023-05-29  Передана под снос (для объектов сноса)      0.0   \n",
              "387149  2023-05-29                             Не передана  17000.0   \n",
              "387150  2023-05-29                                       0  17000.0   \n",
              "387151  2023-05-29                             Не передана   7500.0   \n",
              "\n",
              "        Генпроектировщик Генподрядчик Кол-во рабочих  ФактСтрокВып_дн  \\\n",
              "0                      0            0            0.0              251   \n",
              "1                      0            0            0.0                0   \n",
              "2                      0            0            0.0                0   \n",
              "3                      0            0            0.0               41   \n",
              "4                      0            0            0.0                0   \n",
              "...                  ...          ...            ...              ...   \n",
              "387147                 1            2            6.0               29   \n",
              "387148                 1            2            6.0                0   \n",
              "387149                 0            0            0.0                0   \n",
              "387150                 0            0            0.0                0   \n",
              "387151                 0            0            0.0                0   \n",
              "\n",
              "        СтрокВыпДог_дн                                          obj_tasks  \\\n",
              "0                    0                    022-0524 1 Предпроектные работы   \n",
              "1                    0  022-0524 1.0 Нетиповая задача для блока Предпр...   \n",
              "2                    0                  022-0524 1.1 Объект включен в АИП   \n",
              "3                    0                           022-0524 1.2 Выпуск ГПЗУ   \n",
              "4                    0     022-0524 1.2.1 Подача заявки на получение ГПЗУ   \n",
              "...                ...                                                ...   \n",
              "387147              29    022-0355 7.1.5 Получение Акта итоговой проверки   \n",
              "387148               0          022-0355 7.4.5 Итоговый акт приемки работ   \n",
              "387149               0                                       023-0093 0 0   \n",
              "387150               0                                       023-0091 0 0   \n",
              "387151               0                                       023-0089 0 0   \n",
              "\n",
              "                                         obj_tasks_subprg  \n",
              "0       Образование Общеобразовательные учреждения 1 П...  \n",
              "1       Образование Общеобразовательные учреждения 1.0...  \n",
              "2       Образование Общеобразовательные учреждения 1.1...  \n",
              "3       Образование Общеобразовательные учреждения 1.2...  \n",
              "4       Образование Общеобразовательные учреждения 1.2...  \n",
              "...                                                   ...  \n",
              "387147  Образование Общеобразовательные учреждения 7.1...  \n",
              "387148  Образование Общеобразовательные учреждения 7.4...  \n",
              "387149  Образование Общеобразовательные учреждения 0 0...  \n",
              "387150   Образование Общеобразовательные учреждения 0 0 0  \n",
              "387151  Образование Общеобразовательные учреждения 0 0...  \n",
              "\n",
              "[387152 rows x 24 columns]"
            ],
            "text/html": [
              "\n",
              "  <div id=\"df-32b65d86-807a-40b6-8b03-8bc92294aea0\">\n",
              "    <div class=\"colab-df-container\">\n",
              "      <div>\n",
              "<style scoped>\n",
              "    .dataframe tbody tr th:only-of-type {\n",
              "        vertical-align: middle;\n",
              "    }\n",
              "\n",
              "    .dataframe tbody tr th {\n",
              "        vertical-align: top;\n",
              "    }\n",
              "\n",
              "    .dataframe thead th {\n",
              "        text-align: right;\n",
              "    }\n",
              "</style>\n",
              "<table border=\"1\" class=\"dataframe\">\n",
              "  <thead>\n",
              "    <tr style=\"text-align: right;\">\n",
              "      <th></th>\n",
              "      <th>Unnamed: 0</th>\n",
              "      <th>№ п/п</th>\n",
              "      <th>obj_prg</th>\n",
              "      <th>obj_subprg</th>\n",
              "      <th>obj_key</th>\n",
              "      <th>Кодзадачи</th>\n",
              "      <th>НазваниеЗадачи</th>\n",
              "      <th>ПроцентЗавершенияЗадачи</th>\n",
              "      <th>ДатаНачалаЗадачи</th>\n",
              "      <th>ДатаОкончанияЗадачи</th>\n",
              "      <th>...</th>\n",
              "      <th>date_report</th>\n",
              "      <th>состояние площадки</th>\n",
              "      <th>Площадь</th>\n",
              "      <th>Генпроектировщик</th>\n",
              "      <th>Генподрядчик</th>\n",
              "      <th>Кол-во рабочих</th>\n",
              "      <th>ФактСтрокВып_дн</th>\n",
              "      <th>СтрокВыпДог_дн</th>\n",
              "      <th>obj_tasks</th>\n",
              "      <th>obj_tasks_subprg</th>\n",
              "    </tr>\n",
              "  </thead>\n",
              "  <tbody>\n",
              "    <tr>\n",
              "      <th>0</th>\n",
              "      <td>0</td>\n",
              "      <td>79</td>\n",
              "      <td>Образование</td>\n",
              "      <td>Общеобразовательные учреждения</td>\n",
              "      <td>022-0524</td>\n",
              "      <td>1</td>\n",
              "      <td>Предпроектные работы</td>\n",
              "      <td>0.0</td>\n",
              "      <td>2022-01-14</td>\n",
              "      <td>2022-09-22</td>\n",
              "      <td>...</td>\n",
              "      <td>2023-02-13</td>\n",
              "      <td>Занята</td>\n",
              "      <td>6800.0</td>\n",
              "      <td>0</td>\n",
              "      <td>0</td>\n",
              "      <td>0.0</td>\n",
              "      <td>251</td>\n",
              "      <td>0</td>\n",
              "      <td>022-0524 1 Предпроектные работы</td>\n",
              "      <td>Образование Общеобразовательные учреждения 1 П...</td>\n",
              "    </tr>\n",
              "    <tr>\n",
              "      <th>1</th>\n",
              "      <td>73</td>\n",
              "      <td>79</td>\n",
              "      <td>Образование</td>\n",
              "      <td>Общеобразовательные учреждения</td>\n",
              "      <td>022-0524</td>\n",
              "      <td>1.0</td>\n",
              "      <td>Нетиповая задача для блока Предпроектные работы</td>\n",
              "      <td>0.0</td>\n",
              "      <td>2022-09-22</td>\n",
              "      <td>2022-09-22</td>\n",
              "      <td>...</td>\n",
              "      <td>2023-02-13</td>\n",
              "      <td>Занята</td>\n",
              "      <td>6800.0</td>\n",
              "      <td>0</td>\n",
              "      <td>0</td>\n",
              "      <td>0.0</td>\n",
              "      <td>0</td>\n",
              "      <td>0</td>\n",
              "      <td>022-0524 1.0 Нетиповая задача для блока Предпр...</td>\n",
              "      <td>Образование Общеобразовательные учреждения 1.0...</td>\n",
              "    </tr>\n",
              "    <tr>\n",
              "      <th>2</th>\n",
              "      <td>109</td>\n",
              "      <td>79</td>\n",
              "      <td>Образование</td>\n",
              "      <td>Общеобразовательные учреждения</td>\n",
              "      <td>022-0524</td>\n",
              "      <td>1.1</td>\n",
              "      <td>Объект включен в АИП</td>\n",
              "      <td>0.0</td>\n",
              "      <td>2022-01-14</td>\n",
              "      <td>2022-01-14</td>\n",
              "      <td>...</td>\n",
              "      <td>2023-02-13</td>\n",
              "      <td>Занята</td>\n",
              "      <td>6800.0</td>\n",
              "      <td>0</td>\n",
              "      <td>0</td>\n",
              "      <td>0.0</td>\n",
              "      <td>0</td>\n",
              "      <td>0</td>\n",
              "      <td>022-0524 1.1 Объект включен в АИП</td>\n",
              "      <td>Образование Общеобразовательные учреждения 1.1...</td>\n",
              "    </tr>\n",
              "    <tr>\n",
              "      <th>3</th>\n",
              "      <td>165</td>\n",
              "      <td>79</td>\n",
              "      <td>Образование</td>\n",
              "      <td>Общеобразовательные учреждения</td>\n",
              "      <td>022-0524</td>\n",
              "      <td>1.2</td>\n",
              "      <td>Выпуск ГПЗУ</td>\n",
              "      <td>0.0</td>\n",
              "      <td>2022-01-14</td>\n",
              "      <td>2022-02-24</td>\n",
              "      <td>...</td>\n",
              "      <td>2023-02-13</td>\n",
              "      <td>Занята</td>\n",
              "      <td>6800.0</td>\n",
              "      <td>0</td>\n",
              "      <td>0</td>\n",
              "      <td>0.0</td>\n",
              "      <td>41</td>\n",
              "      <td>0</td>\n",
              "      <td>022-0524 1.2 Выпуск ГПЗУ</td>\n",
              "      <td>Образование Общеобразовательные учреждения 1.2...</td>\n",
              "    </tr>\n",
              "    <tr>\n",
              "      <th>4</th>\n",
              "      <td>241</td>\n",
              "      <td>79</td>\n",
              "      <td>Образование</td>\n",
              "      <td>Общеобразовательные учреждения</td>\n",
              "      <td>022-0524</td>\n",
              "      <td>1.2.1</td>\n",
              "      <td>Подача заявки на получение ГПЗУ</td>\n",
              "      <td>0.0</td>\n",
              "      <td>2022-01-14</td>\n",
              "      <td>2022-01-14</td>\n",
              "      <td>...</td>\n",
              "      <td>2023-02-13</td>\n",
              "      <td>Занята</td>\n",
              "      <td>6800.0</td>\n",
              "      <td>0</td>\n",
              "      <td>0</td>\n",
              "      <td>0.0</td>\n",
              "      <td>0</td>\n",
              "      <td>0</td>\n",
              "      <td>022-0524 1.2.1 Подача заявки на получение ГПЗУ</td>\n",
              "      <td>Образование Общеобразовательные учреждения 1.2...</td>\n",
              "    </tr>\n",
              "    <tr>\n",
              "      <th>...</th>\n",
              "      <td>...</td>\n",
              "      <td>...</td>\n",
              "      <td>...</td>\n",
              "      <td>...</td>\n",
              "      <td>...</td>\n",
              "      <td>...</td>\n",
              "      <td>...</td>\n",
              "      <td>...</td>\n",
              "      <td>...</td>\n",
              "      <td>...</td>\n",
              "      <td>...</td>\n",
              "      <td>...</td>\n",
              "      <td>...</td>\n",
              "      <td>...</td>\n",
              "      <td>...</td>\n",
              "      <td>...</td>\n",
              "      <td>...</td>\n",
              "      <td>...</td>\n",
              "      <td>...</td>\n",
              "      <td>...</td>\n",
              "      <td>...</td>\n",
              "    </tr>\n",
              "    <tr>\n",
              "      <th>387147</th>\n",
              "      <td>58068</td>\n",
              "      <td>77</td>\n",
              "      <td>Образование</td>\n",
              "      <td>Общеобразовательные учреждения</td>\n",
              "      <td>022-0355</td>\n",
              "      <td>7.1.5</td>\n",
              "      <td>Получение Акта итоговой проверки</td>\n",
              "      <td>0.0</td>\n",
              "      <td>2023-07-01</td>\n",
              "      <td>2023-07-30</td>\n",
              "      <td>...</td>\n",
              "      <td>2023-05-29</td>\n",
              "      <td>Передана под снос (для объектов сноса)</td>\n",
              "      <td>0.0</td>\n",
              "      <td>1</td>\n",
              "      <td>2</td>\n",
              "      <td>6.0</td>\n",
              "      <td>29</td>\n",
              "      <td>29</td>\n",
              "      <td>022-0355 7.1.5 Получение Акта итоговой проверки</td>\n",
              "      <td>Образование Общеобразовательные учреждения 7.1...</td>\n",
              "    </tr>\n",
              "    <tr>\n",
              "      <th>387148</th>\n",
              "      <td>59153</td>\n",
              "      <td>77</td>\n",
              "      <td>Образование</td>\n",
              "      <td>Общеобразовательные учреждения</td>\n",
              "      <td>022-0355</td>\n",
              "      <td>7.4.5</td>\n",
              "      <td>Итоговый акт приемки работ</td>\n",
              "      <td>0.0</td>\n",
              "      <td>2023-07-30</td>\n",
              "      <td>2023-07-30</td>\n",
              "      <td>...</td>\n",
              "      <td>2023-05-29</td>\n",
              "      <td>Передана под снос (для объектов сноса)</td>\n",
              "      <td>0.0</td>\n",
              "      <td>1</td>\n",
              "      <td>2</td>\n",
              "      <td>6.0</td>\n",
              "      <td>0</td>\n",
              "      <td>0</td>\n",
              "      <td>022-0355 7.4.5 Итоговый акт приемки работ</td>\n",
              "      <td>Образование Общеобразовательные учреждения 7.4...</td>\n",
              "    </tr>\n",
              "    <tr>\n",
              "      <th>387149</th>\n",
              "      <td>63496</td>\n",
              "      <td>86</td>\n",
              "      <td>Образование</td>\n",
              "      <td>Общеобразовательные учреждения</td>\n",
              "      <td>023-0093</td>\n",
              "      <td>0</td>\n",
              "      <td>0</td>\n",
              "      <td>0.0</td>\n",
              "      <td>1970-01-01</td>\n",
              "      <td>1970-01-01</td>\n",
              "      <td>...</td>\n",
              "      <td>2023-05-29</td>\n",
              "      <td>Не передана</td>\n",
              "      <td>17000.0</td>\n",
              "      <td>0</td>\n",
              "      <td>0</td>\n",
              "      <td>0.0</td>\n",
              "      <td>0</td>\n",
              "      <td>0</td>\n",
              "      <td>023-0093 0 0</td>\n",
              "      <td>Образование Общеобразовательные учреждения 0 0...</td>\n",
              "    </tr>\n",
              "    <tr>\n",
              "      <th>387150</th>\n",
              "      <td>63497</td>\n",
              "      <td>87</td>\n",
              "      <td>Образование</td>\n",
              "      <td>Общеобразовательные учреждения</td>\n",
              "      <td>023-0091</td>\n",
              "      <td>0</td>\n",
              "      <td>0</td>\n",
              "      <td>0.0</td>\n",
              "      <td>1970-01-01</td>\n",
              "      <td>1970-01-01</td>\n",
              "      <td>...</td>\n",
              "      <td>2023-05-29</td>\n",
              "      <td>0</td>\n",
              "      <td>17000.0</td>\n",
              "      <td>0</td>\n",
              "      <td>0</td>\n",
              "      <td>0.0</td>\n",
              "      <td>0</td>\n",
              "      <td>0</td>\n",
              "      <td>023-0091 0 0</td>\n",
              "      <td>Образование Общеобразовательные учреждения 0 0 0</td>\n",
              "    </tr>\n",
              "    <tr>\n",
              "      <th>387151</th>\n",
              "      <td>63498</td>\n",
              "      <td>88</td>\n",
              "      <td>Образование</td>\n",
              "      <td>Общеобразовательные учреждения</td>\n",
              "      <td>023-0089</td>\n",
              "      <td>0</td>\n",
              "      <td>0</td>\n",
              "      <td>0.0</td>\n",
              "      <td>1970-01-01</td>\n",
              "      <td>1970-01-01</td>\n",
              "      <td>...</td>\n",
              "      <td>2023-05-29</td>\n",
              "      <td>Не передана</td>\n",
              "      <td>7500.0</td>\n",
              "      <td>0</td>\n",
              "      <td>0</td>\n",
              "      <td>0.0</td>\n",
              "      <td>0</td>\n",
              "      <td>0</td>\n",
              "      <td>023-0089 0 0</td>\n",
              "      <td>Образование Общеобразовательные учреждения 0 0...</td>\n",
              "    </tr>\n",
              "  </tbody>\n",
              "</table>\n",
              "<p>387152 rows × 24 columns</p>\n",
              "</div>\n",
              "      <button class=\"colab-df-convert\" onclick=\"convertToInteractive('df-32b65d86-807a-40b6-8b03-8bc92294aea0')\"\n",
              "              title=\"Convert this dataframe to an interactive table.\"\n",
              "              style=\"display:none;\">\n",
              "        \n",
              "  <svg xmlns=\"http://www.w3.org/2000/svg\" height=\"24px\"viewBox=\"0 0 24 24\"\n",
              "       width=\"24px\">\n",
              "    <path d=\"M0 0h24v24H0V0z\" fill=\"none\"/>\n",
              "    <path d=\"M18.56 5.44l.94 2.06.94-2.06 2.06-.94-2.06-.94-.94-2.06-.94 2.06-2.06.94zm-11 1L8.5 8.5l.94-2.06 2.06-.94-2.06-.94L8.5 2.5l-.94 2.06-2.06.94zm10 10l.94 2.06.94-2.06 2.06-.94-2.06-.94-.94-2.06-.94 2.06-2.06.94z\"/><path d=\"M17.41 7.96l-1.37-1.37c-.4-.4-.92-.59-1.43-.59-.52 0-1.04.2-1.43.59L10.3 9.45l-7.72 7.72c-.78.78-.78 2.05 0 2.83L4 21.41c.39.39.9.59 1.41.59.51 0 1.02-.2 1.41-.59l7.78-7.78 2.81-2.81c.8-.78.8-2.07 0-2.86zM5.41 20L4 18.59l7.72-7.72 1.47 1.35L5.41 20z\"/>\n",
              "  </svg>\n",
              "      </button>\n",
              "      \n",
              "  <style>\n",
              "    .colab-df-container {\n",
              "      display:flex;\n",
              "      flex-wrap:wrap;\n",
              "      gap: 12px;\n",
              "    }\n",
              "\n",
              "    .colab-df-convert {\n",
              "      background-color: #E8F0FE;\n",
              "      border: none;\n",
              "      border-radius: 50%;\n",
              "      cursor: pointer;\n",
              "      display: none;\n",
              "      fill: #1967D2;\n",
              "      height: 32px;\n",
              "      padding: 0 0 0 0;\n",
              "      width: 32px;\n",
              "    }\n",
              "\n",
              "    .colab-df-convert:hover {\n",
              "      background-color: #E2EBFA;\n",
              "      box-shadow: 0px 1px 2px rgba(60, 64, 67, 0.3), 0px 1px 3px 1px rgba(60, 64, 67, 0.15);\n",
              "      fill: #174EA6;\n",
              "    }\n",
              "\n",
              "    [theme=dark] .colab-df-convert {\n",
              "      background-color: #3B4455;\n",
              "      fill: #D2E3FC;\n",
              "    }\n",
              "\n",
              "    [theme=dark] .colab-df-convert:hover {\n",
              "      background-color: #434B5C;\n",
              "      box-shadow: 0px 1px 3px 1px rgba(0, 0, 0, 0.15);\n",
              "      filter: drop-shadow(0px 1px 2px rgba(0, 0, 0, 0.3));\n",
              "      fill: #FFFFFF;\n",
              "    }\n",
              "  </style>\n",
              "\n",
              "      <script>\n",
              "        const buttonEl =\n",
              "          document.querySelector('#df-32b65d86-807a-40b6-8b03-8bc92294aea0 button.colab-df-convert');\n",
              "        buttonEl.style.display =\n",
              "          google.colab.kernel.accessAllowed ? 'block' : 'none';\n",
              "\n",
              "        async function convertToInteractive(key) {\n",
              "          const element = document.querySelector('#df-32b65d86-807a-40b6-8b03-8bc92294aea0');\n",
              "          const dataTable =\n",
              "            await google.colab.kernel.invokeFunction('convertToInteractive',\n",
              "                                                     [key], {});\n",
              "          if (!dataTable) return;\n",
              "\n",
              "          const docLinkHtml = 'Like what you see? Visit the ' +\n",
              "            '<a target=\"_blank\" href=https://colab.research.google.com/notebooks/data_table.ipynb>data table notebook</a>'\n",
              "            + ' to learn more about interactive tables.';\n",
              "          element.innerHTML = '';\n",
              "          dataTable['output_type'] = 'display_data';\n",
              "          await google.colab.output.renderOutput(dataTable, element);\n",
              "          const docLink = document.createElement('div');\n",
              "          docLink.innerHTML = docLinkHtml;\n",
              "          element.appendChild(docLink);\n",
              "        }\n",
              "      </script>\n",
              "    </div>\n",
              "  </div>\n",
              "  "
            ]
          },
          "metadata": {},
          "execution_count": 18
        }
      ]
    },
    {
      "cell_type": "markdown",
      "source": [
        "#3.Предподготовка текстовых данных Keras/Tf"
      ],
      "metadata": {
        "id": "4agiBYrgzrGy"
      }
    },
    {
      "cell_type": "code",
      "source": [
        "from tensorflow.keras.models import Sequential, Model #\n",
        "from tensorflow.keras.layers import concatenate, Input, Dense, Dropout, BatchNormalization, Flatten #\n",
        "from tensorflow.keras import utils #Используем для to_categoricall\n",
        "from tensorflow.keras.optimizers import Adam,Adadelta,SGD,Adagrad,RMSprop #\n",
        "from tensorflow.keras.preprocessing.text import Tokenizer, text_to_word_sequence #\n",
        "from tensorflow.keras.preprocessing.sequence import pad_sequences #\n",
        "from tensorflow.keras.callbacks import LambdaCallback # подключаем колбэки\n",
        "\n",
        "from sklearn.preprocessing import StandardScaler #\n",
        "from sklearn.model_selection import train_test_split # Для разбивки на выборки\n",
        "from sklearn.metrics import mean_squared_error, mean_absolute_error #\n",
        "#from google.colab import files #Для загрузки своей картинки\n",
        "\n",
        "import random #Для генерации случайных чисел\n",
        "import math # Для округления\n",
        "#import os #Для работы с файлами\n",
        "import re #\n",
        "import matplotlib.pyplot as plt #\n",
        "%matplotlib inline\n",
        "\n",
        "from IPython.display import clear_output"
      ],
      "metadata": {
        "id": "_1QrxxaV1uE_"
      },
      "execution_count": null,
      "outputs": []
    },
    {
      "cell_type": "code",
      "source": [
        "texts = merged_df['obj_tasks_subprg'].values # Извлекаем данные всех текстов из столбца 'Текст Сообщения'\n",
        "maxWordsCount = 2200"
      ],
      "metadata": {
        "id": "iNZz-4OFzvia"
      },
      "execution_count": null,
      "outputs": []
    },
    {
      "cell_type": "code",
      "source": [
        "#Преобразовываем текстовые данные в числовые/векторные для обучения нейросетью\n",
        "#Для этого воспользуемся встроенной в Keras функцией Tokenizer для разбиения текста и превращения в матрицу числовых значений\n",
        "#num_words=maxWordsCount - определяем макс.кол-во слов/индексов, учитываемое при обучении текстов\n",
        "#filters='!\"#$%&()*+,-./:;<=>?@[\\]^_`{|}~\\t\\n' - избавляемся от ненужных символов\n",
        "#lower=True - приводим слова к нижнему регистру\n",
        "#split=' ' - разделяем слова по пробелу\n",
        "#char_level=False - просим токенайзер не удалять однобуквенные слова\n",
        "tokenizer = Tokenizer(num_words=maxWordsCount, lower=True, split=' ', oov_token='unknown', char_level=False)#False #filters='!\"#$%&()*+,-./:;<=>?@[\\]^_`{|}~\\t\\n'\n",
        "\n",
        "tokenizer.fit_on_texts(texts) # Даём в обработку наши тексты, методу, который соберет словарь частотности\n",
        "\n",
        "# Формируем матрицу индексов по принципу Bag of Words\n",
        "train_text = tokenizer.texts_to_matrix(texts) # Каждое слово из текста нашло свой индекс в векторе длиной maxWordsCount и отметилось в нем единичкой"
      ],
      "metadata": {
        "id": "qZBimbOG0IZj"
      },
      "execution_count": null,
      "outputs": []
    },
    {
      "cell_type": "code",
      "source": [
        "items = list(tokenizer.word_index.items()) # Присвоим каждому слову индекс"
      ],
      "metadata": {
        "id": "ygOja4uu3isW"
      },
      "execution_count": null,
      "outputs": []
    },
    {
      "cell_type": "code",
      "source": [
        "items[:10]"
      ],
      "metadata": {
        "id": "vTPcH0sr31XR",
        "colab": {
          "base_uri": "https://localhost:8080/"
        },
        "outputId": "e7b5ed33-f246-4a3e-dfd3-2b7b2d0d2d07"
      },
      "execution_count": null,
      "outputs": [
        {
          "output_type": "execute_result",
          "data": {
            "text/plain": [
              "[('unknown', 1),\n",
              " ('образование', 2),\n",
              " ('общеобразовательные', 3),\n",
              " ('учреждения', 4),\n",
              " ('передана', 5),\n",
              " ('3', 6),\n",
              " ('2', 7),\n",
              " ('свободна', 8),\n",
              " ('1', 9),\n",
              " ('4', 10)]"
            ]
          },
          "metadata": {},
          "execution_count": 23
        }
      ]
    },
    {
      "cell_type": "code",
      "source": [
        "#преобразовываем текст в последовательность индексов согласно частотному словарю\n",
        "train_text_Indexes = tokenizer.texts_to_sequences(texts) #обучающие тесты в индексы"
      ],
      "metadata": {
        "id": "bm0oFgiX3mwp"
      },
      "execution_count": null,
      "outputs": []
    },
    {
      "cell_type": "code",
      "source": [
        "print(train_text.shape)  # Посмотрим на форму текстов\n",
        "print(train_text[0][0:100])# И отдельно на фрагмент начала вектора\n",
        "\n",
        "# Посмотрим размер словаря\n",
        "print(\"Размер словаря\", len(tokenizer.word_index.items()))"
      ],
      "metadata": {
        "id": "1kqtNVkn3N1A",
        "colab": {
          "base_uri": "https://localhost:8080/"
        },
        "outputId": "16a2050b-c28e-414b-81d8-d2af98113900"
      },
      "execution_count": null,
      "outputs": [
        {
          "output_type": "stream",
          "name": "stdout",
          "text": [
            "(387152, 2200)\n",
            "[0. 0. 1. 1. 1. 0. 0. 0. 0. 1. 0. 0. 0. 1. 0. 0. 0. 0. 0. 0. 0. 0. 0. 0.\n",
            " 0. 0. 0. 0. 0. 0. 0. 0. 0. 0. 0. 0. 0. 0. 0. 0. 0. 1. 0. 0. 0. 0. 0. 0.\n",
            " 0. 0. 0. 0. 0. 0. 0. 0. 0. 0. 0. 0. 0. 0. 0. 0. 0. 0. 0. 0. 0. 0. 0. 0.\n",
            " 0. 0. 0. 0. 0. 0. 0. 0. 0. 0. 0. 0. 0. 0. 0. 0. 0. 0. 0. 0. 0. 0. 0. 0.\n",
            " 0. 0. 0. 0.]\n",
            "Размер словаря 2123\n"
          ]
        }
      ]
    },
    {
      "cell_type": "code",
      "source": [
        "n = 0\n",
        "print(train_text[n])       # Текст\n",
        "print(train_text_Indexes[n]) # Вектор индексов слов текста"
      ],
      "metadata": {
        "id": "clyqT1u03StY",
        "colab": {
          "base_uri": "https://localhost:8080/"
        },
        "outputId": "69667163-ad3d-48a6-f9d2-3d908926f806"
      },
      "execution_count": null,
      "outputs": [
        {
          "output_type": "stream",
          "name": "stdout",
          "text": [
            "[0. 0. 1. ... 0. 0. 0.]\n",
            "[2, 3, 4, 9, 775, 41, 13]\n"
          ]
        }
      ]
    },
    {
      "cell_type": "code",
      "source": [
        "xTrain_text = np.array(train_text[:20000])\n",
        "yTrain = np.array(merged_df['ФактСтрокВып_дн'][:20000])\n",
        "x_train2 = np.array(merged_df[['ПроцентЗавершенияЗадачи', 'Статуспоэкспертизе', 'Экспертиза', 'Площадь', 'Генпроектировщик', 'Генподрядчик', 'Кол-во рабочих']][:20000])"
      ],
      "metadata": {
        "id": "mc9gKT094-1q"
      },
      "execution_count": null,
      "outputs": []
    },
    {
      "cell_type": "code",
      "source": [
        "# В качестве нормализации данных используем готовую библиотеку\n",
        "yScaler = StandardScaler()\n",
        "\n",
        "# Скармливаем объекту двумерный вектор\n",
        "yScaler.fit(yTrain.reshape(-1, 1))\n",
        "\n",
        "# Нормализуем по нормальному распределению\n",
        "yTrainScaled = yScaler.transform(yTrain.reshape(-1, 1))\n",
        "\n",
        "print(yTrainScaled.shape)\n",
        "print(yTrain[1])\n",
        "print(yTrainScaled[1])"
      ],
      "metadata": {
        "id": "c36Ht1JIwfLd",
        "colab": {
          "base_uri": "https://localhost:8080/"
        },
        "outputId": "46a41dc7-45d3-491f-a1fa-839d17cdf4c7"
      },
      "execution_count": null,
      "outputs": [
        {
          "output_type": "stream",
          "name": "stdout",
          "text": [
            "(20000, 1)\n",
            "0\n",
            "[-0.5860595]\n"
          ]
        }
      ]
    },
    {
      "cell_type": "code",
      "source": [
        "# В качестве нормализации данных используем готовую библиотеку\n",
        "xScaler = StandardScaler()\n",
        "\n",
        "# Скармливаем объекту двумерный вектор\n",
        "xScaler.fit(x_train2.reshape(-1, 1))\n",
        "\n",
        "# Нормализуем по нормальному распределению\n",
        "xTrainScaled = xScaler.transform(x_train2.reshape(-1, 1))\n",
        "\n",
        "print(xTrainScaled.shape)\n",
        "print(x_train2[1])\n",
        "print(xTrainScaled[1])"
      ],
      "metadata": {
        "id": "cga15dVewx3j",
        "colab": {
          "base_uri": "https://localhost:8080/"
        },
        "outputId": "be423e7f-79a4-448a-9036-6c007eda71ff"
      },
      "execution_count": null,
      "outputs": [
        {
          "output_type": "stream",
          "name": "stdout",
          "text": [
            "(140000, 1)\n",
            "[   0.    0.    0. 6800.    0.    0.    0.]\n",
            "[-0.37814656]\n"
          ]
        }
      ]
    },
    {
      "cell_type": "markdown",
      "source": [
        "#4. Обучение НС"
      ],
      "metadata": {
        "id": "RmKUBx7g5-My"
      }
    },
    {
      "cell_type": "code",
      "source": [
        "from tensorflow.keras.callbacks import ModelCheckpoint # Для колбека\n",
        "# Сохраняем только лучший вариант сети\n",
        "callbacks = [ModelCheckpoint('/content/drive/MyDrive/4. Кейс №2 Дип.г.Москва/model/keras_tf/Dip_MSK.hdf5', monitor='val_loss', save_best_only=True)]"
      ],
      "metadata": {
        "id": "T3YU2rvuWkDu"
      },
      "execution_count": null,
      "outputs": []
    },
    {
      "cell_type": "code",
      "source": [
        "xTrain_text.shape[1]"
      ],
      "metadata": {
        "colab": {
          "base_uri": "https://localhost:8080/"
        },
        "id": "CdpPqmzqx4ok",
        "outputId": "2587b02c-7d25-4147-d870-7513fd8f04dc"
      },
      "execution_count": null,
      "outputs": [
        {
          "output_type": "execute_result",
          "data": {
            "text/plain": [
              "2500"
            ]
          },
          "metadata": {},
          "execution_count": 49
        }
      ]
    },
    {
      "cell_type": "code",
      "source": [
        "input1 = Input((xTrain_text.shape[1],))\n",
        "#input2 = Input((xTrainProf01.shape[1],))\n",
        "input3 = Input((xTrainScaled.shape[1],))\n",
        "\n",
        "x1 = BatchNormalization()(input1) # Создаем ветку х1\n",
        "x1 = Dropout(0.5)(x1)\n",
        "x1 = Dense(10, activation=\"relu\")(x1)\n",
        "x1 = Dense(1000, activation=\"relu\")(x1)\n",
        "x1 = Dense(100, activation = \"relu\")(x1)\n",
        "\n",
        "#x2 = BatchNormalization()(input2) # Создаем ветку х2\n",
        "#x2 = Dense(25, activation=\"relu\")(input2)\n",
        "#x2 = Dense(8, activation=\"tanh\")(x2)\n",
        "#x2 = Dense(5, activation = \"elu\")(x2)\n",
        "\n",
        "x3 = BatchNormalization()(input3) # Создаем ветку х3\n",
        "x3 = Dense(1000, activation=\"tanh\")(input3)\n",
        "x3 = Dense(20, activation = \"elu\")(x3)\n",
        "x3 = Dense(5, activation = \"elu\")(x3)\n",
        "\n",
        "x = concatenate([x1, x3]) # Объединяем все три ветки\n",
        "\n",
        "x = Dense(15, activation='relu')(x)\n",
        "x = Dropout(0.5)(x)\n",
        "x = Dense(1, activation='relu')(x) # Финальный нейрон, делает регрессию\n",
        "\n",
        "model = Model((input1, input3), x) # В Model загружаем стартовые и последнюю точки\n",
        "\n",
        "model.compile(optimizer=Adam(learning_rate=1e-3), loss='mse', metrics=['mae'])\n",
        "\n",
        "history = model.fit([xTrain_text[:15000], xTrainScaled[:15000]],\n",
        "                    yTrainScaled[:15000],\n",
        "                    epochs= 150,\n",
        "                    validation_data=([xTrain_text[15000:20000], xTrainScaled[15000:20000]],\n",
        "                    yTrainScaled[15000:20000]),\n",
        "                    verbose=1,\n",
        "                    callbacks = callbacks,\n",
        "                    shuffle=True)"
      ],
      "metadata": {
        "colab": {
          "base_uri": "https://localhost:8080/"
        },
        "id": "ZakU4P6uvNgv",
        "outputId": "334a523d-d07d-4b47-97a2-b45157d4a748"
      },
      "execution_count": null,
      "outputs": [
        {
          "output_type": "stream",
          "name": "stdout",
          "text": [
            "Epoch 1/150\n",
            "469/469 [==============================] - 8s 7ms/step - loss: 1.0128 - mae: 0.6576 - val_loss: 0.9571 - val_mae: 0.6523\n",
            "Epoch 2/150\n",
            "469/469 [==============================] - 3s 6ms/step - loss: 0.9352 - mae: 0.6641 - val_loss: 0.7786 - val_mae: 0.6403\n",
            "Epoch 3/150\n",
            "469/469 [==============================] - 3s 6ms/step - loss: 0.8562 - mae: 0.6515 - val_loss: 0.8836 - val_mae: 0.6964\n",
            "Epoch 4/150\n",
            "469/469 [==============================] - 4s 8ms/step - loss: 0.8395 - mae: 0.6503 - val_loss: 0.8236 - val_mae: 0.6659\n",
            "Epoch 5/150\n",
            "469/469 [==============================] - 3s 7ms/step - loss: 0.8029 - mae: 0.6422 - val_loss: 0.7514 - val_mae: 0.6489\n",
            "Epoch 6/150\n",
            "469/469 [==============================] - 3s 6ms/step - loss: 0.8048 - mae: 0.6428 - val_loss: 0.8336 - val_mae: 0.6702\n",
            "Epoch 7/150\n",
            "469/469 [==============================] - 3s 6ms/step - loss: 0.7899 - mae: 0.6420 - val_loss: 0.8347 - val_mae: 0.6722\n",
            "Epoch 8/150\n",
            "469/469 [==============================] - 4s 8ms/step - loss: 0.7999 - mae: 0.6409 - val_loss: 0.7643 - val_mae: 0.6510\n",
            "Epoch 9/150\n",
            "469/469 [==============================] - 3s 7ms/step - loss: 0.7981 - mae: 0.6433 - val_loss: 0.8801 - val_mae: 0.6832\n",
            "Epoch 10/150\n",
            "469/469 [==============================] - 3s 6ms/step - loss: 0.7970 - mae: 0.6410 - val_loss: 1.1492 - val_mae: 0.7385\n",
            "Epoch 11/150\n",
            "469/469 [==============================] - 3s 7ms/step - loss: 0.7873 - mae: 0.6386 - val_loss: 0.8026 - val_mae: 0.6708\n",
            "Epoch 12/150\n",
            "469/469 [==============================] - 3s 7ms/step - loss: 0.7860 - mae: 0.6474 - val_loss: 0.9994 - val_mae: 0.7106\n",
            "Epoch 13/150\n",
            "469/469 [==============================] - 4s 8ms/step - loss: 0.7716 - mae: 0.6364 - val_loss: 0.8913 - val_mae: 0.6791\n",
            "Epoch 14/150\n",
            "469/469 [==============================] - 4s 9ms/step - loss: 0.7822 - mae: 0.6371 - val_loss: 0.8945 - val_mae: 0.6784\n",
            "Epoch 15/150\n",
            "469/469 [==============================] - 3s 7ms/step - loss: 0.7745 - mae: 0.6380 - val_loss: 0.9098 - val_mae: 0.6775\n",
            "Epoch 16/150\n",
            "469/469 [==============================] - 3s 7ms/step - loss: 0.7973 - mae: 0.6397 - val_loss: 0.7971 - val_mae: 0.6736\n",
            "Epoch 17/150\n",
            "469/469 [==============================] - 4s 8ms/step - loss: 0.7757 - mae: 0.6406 - val_loss: 0.9355 - val_mae: 0.6941\n",
            "Epoch 18/150\n",
            "469/469 [==============================] - 3s 6ms/step - loss: 0.7636 - mae: 0.6356 - val_loss: 0.8395 - val_mae: 0.6686\n",
            "Epoch 19/150\n",
            "469/469 [==============================] - 3s 7ms/step - loss: 0.7556 - mae: 0.6326 - val_loss: 0.8129 - val_mae: 0.6791\n",
            "Epoch 20/150\n",
            "469/469 [==============================] - 3s 7ms/step - loss: 0.7698 - mae: 0.6404 - val_loss: 0.7472 - val_mae: 0.6562\n",
            "Epoch 21/150\n",
            "469/469 [==============================] - 5s 10ms/step - loss: 0.7620 - mae: 0.6350 - val_loss: 0.7423 - val_mae: 0.6527\n",
            "Epoch 22/150\n",
            "469/469 [==============================] - 5s 11ms/step - loss: 0.7713 - mae: 0.6370 - val_loss: 0.8952 - val_mae: 0.6950\n",
            "Epoch 23/150\n",
            "469/469 [==============================] - 4s 9ms/step - loss: 0.7535 - mae: 0.6351 - val_loss: 0.8172 - val_mae: 0.6712\n",
            "Epoch 24/150\n",
            "469/469 [==============================] - 4s 9ms/step - loss: 0.7661 - mae: 0.6360 - val_loss: 0.8557 - val_mae: 0.6932\n",
            "Epoch 25/150\n",
            "469/469 [==============================] - 3s 7ms/step - loss: 0.7577 - mae: 0.6343 - val_loss: 1.1130 - val_mae: 0.7049\n",
            "Epoch 26/150\n",
            "469/469 [==============================] - 5s 11ms/step - loss: 0.7587 - mae: 0.6318 - val_loss: 0.7793 - val_mae: 0.6544\n",
            "Epoch 27/150\n",
            "469/469 [==============================] - 4s 8ms/step - loss: 0.7697 - mae: 0.6380 - val_loss: 0.7923 - val_mae: 0.6664\n",
            "Epoch 28/150\n",
            "469/469 [==============================] - 3s 7ms/step - loss: 0.7496 - mae: 0.6307 - val_loss: 0.8039 - val_mae: 0.6689\n",
            "Epoch 29/150\n",
            "469/469 [==============================] - 3s 6ms/step - loss: 0.7546 - mae: 0.6348 - val_loss: 0.8504 - val_mae: 0.6799\n",
            "Epoch 30/150\n",
            "469/469 [==============================] - 5s 11ms/step - loss: 0.7646 - mae: 0.6307 - val_loss: 0.8132 - val_mae: 0.6738\n",
            "Epoch 31/150\n",
            "469/469 [==============================] - 6s 12ms/step - loss: 0.7714 - mae: 0.6345 - val_loss: 0.7066 - val_mae: 0.6459\n",
            "Epoch 32/150\n",
            "469/469 [==============================] - 3s 7ms/step - loss: 0.7441 - mae: 0.6305 - val_loss: 0.9930 - val_mae: 0.6923\n",
            "Epoch 33/150\n",
            "469/469 [==============================] - 3s 6ms/step - loss: 0.7467 - mae: 0.6288 - val_loss: 0.7948 - val_mae: 0.6734\n",
            "Epoch 34/150\n",
            "469/469 [==============================] - 3s 7ms/step - loss: 0.7389 - mae: 0.6311 - val_loss: 0.8663 - val_mae: 0.6808\n",
            "Epoch 35/150\n",
            "469/469 [==============================] - 4s 9ms/step - loss: 0.7462 - mae: 0.6331 - val_loss: 1.0863 - val_mae: 0.7116\n",
            "Epoch 36/150\n",
            "469/469 [==============================] - 3s 6ms/step - loss: 0.7330 - mae: 0.6254 - val_loss: 0.8053 - val_mae: 0.6712\n",
            "Epoch 37/150\n",
            "469/469 [==============================] - 3s 7ms/step - loss: 0.7545 - mae: 0.6311 - val_loss: 0.7960 - val_mae: 0.6727\n",
            "Epoch 38/150\n",
            "469/469 [==============================] - 3s 6ms/step - loss: 0.7594 - mae: 0.6325 - val_loss: 0.8234 - val_mae: 0.6644\n",
            "Epoch 39/150\n",
            "469/469 [==============================] - 4s 9ms/step - loss: 0.7419 - mae: 0.6329 - val_loss: 0.8186 - val_mae: 0.6750\n",
            "Epoch 40/150\n",
            "469/469 [==============================] - 4s 9ms/step - loss: 0.7614 - mae: 0.6360 - val_loss: 0.7789 - val_mae: 0.6659\n",
            "Epoch 41/150\n",
            "469/469 [==============================] - 4s 9ms/step - loss: 0.7333 - mae: 0.6284 - val_loss: 0.8357 - val_mae: 0.6670\n",
            "Epoch 42/150\n",
            "469/469 [==============================] - 4s 9ms/step - loss: 0.7569 - mae: 0.6302 - val_loss: 0.7110 - val_mae: 0.6450\n",
            "Epoch 43/150\n",
            "469/469 [==============================] - 3s 7ms/step - loss: 0.7311 - mae: 0.6278 - val_loss: 0.9250 - val_mae: 0.6937\n",
            "Epoch 44/150\n",
            "469/469 [==============================] - 3s 6ms/step - loss: 0.7229 - mae: 0.6274 - val_loss: 1.0220 - val_mae: 0.7187\n",
            "Epoch 45/150\n",
            "469/469 [==============================] - 3s 6ms/step - loss: 0.7566 - mae: 0.6358 - val_loss: 0.9947 - val_mae: 0.7022\n",
            "Epoch 46/150\n",
            "469/469 [==============================] - 3s 7ms/step - loss: 0.7317 - mae: 0.6265 - val_loss: 0.8489 - val_mae: 0.6702\n",
            "Epoch 47/150\n",
            "469/469 [==============================] - 5s 12ms/step - loss: 0.7549 - mae: 0.6305 - val_loss: 0.7620 - val_mae: 0.6560\n",
            "Epoch 48/150\n",
            "469/469 [==============================] - 4s 9ms/step - loss: 0.7462 - mae: 0.6296 - val_loss: 0.8172 - val_mae: 0.6838\n",
            "Epoch 49/150\n",
            "469/469 [==============================] - 5s 10ms/step - loss: 0.7391 - mae: 0.6282 - val_loss: 0.8400 - val_mae: 0.6610\n",
            "Epoch 50/150\n",
            "469/469 [==============================] - 4s 8ms/step - loss: 0.7374 - mae: 0.6280 - val_loss: 0.7376 - val_mae: 0.6459\n",
            "Epoch 51/150\n",
            "469/469 [==============================] - 4s 8ms/step - loss: 0.7409 - mae: 0.6291 - val_loss: 0.7273 - val_mae: 0.6455\n",
            "Epoch 52/150\n",
            "469/469 [==============================] - 4s 10ms/step - loss: 0.7480 - mae: 0.6326 - val_loss: 0.9529 - val_mae: 0.7041\n",
            "Epoch 53/150\n",
            "469/469 [==============================] - 6s 14ms/step - loss: 0.7380 - mae: 0.6281 - val_loss: 0.9588 - val_mae: 0.7045\n",
            "Epoch 54/150\n",
            "469/469 [==============================] - 5s 11ms/step - loss: 0.7487 - mae: 0.6303 - val_loss: 0.7977 - val_mae: 0.6790\n",
            "Epoch 55/150\n",
            "469/469 [==============================] - 3s 7ms/step - loss: 0.7431 - mae: 0.6291 - val_loss: 0.8232 - val_mae: 0.6751\n",
            "Epoch 56/150\n",
            "469/469 [==============================] - 4s 8ms/step - loss: 0.7442 - mae: 0.6315 - val_loss: 0.7431 - val_mae: 0.6560\n",
            "Epoch 57/150\n",
            "469/469 [==============================] - 4s 8ms/step - loss: 0.7419 - mae: 0.6309 - val_loss: 0.8190 - val_mae: 0.6695\n",
            "Epoch 58/150\n",
            "469/469 [==============================] - 3s 6ms/step - loss: 0.7269 - mae: 0.6252 - val_loss: 0.8747 - val_mae: 0.6785\n",
            "Epoch 59/150\n",
            "469/469 [==============================] - 3s 7ms/step - loss: 0.7370 - mae: 0.6237 - val_loss: 1.1214 - val_mae: 0.7263\n",
            "Epoch 60/150\n",
            "469/469 [==============================] - 3s 7ms/step - loss: 0.7517 - mae: 0.6302 - val_loss: 0.9924 - val_mae: 0.7112\n",
            "Epoch 61/150\n",
            "469/469 [==============================] - 4s 8ms/step - loss: 0.7427 - mae: 0.6292 - val_loss: 0.9256 - val_mae: 0.6970\n",
            "Epoch 62/150\n",
            "469/469 [==============================] - 3s 6ms/step - loss: 0.7333 - mae: 0.6289 - val_loss: 0.7938 - val_mae: 0.6558\n",
            "Epoch 63/150\n",
            "469/469 [==============================] - 3s 7ms/step - loss: 0.7374 - mae: 0.6278 - val_loss: 0.8901 - val_mae: 0.6775\n",
            "Epoch 64/150\n",
            "469/469 [==============================] - 3s 6ms/step - loss: 0.7447 - mae: 0.6292 - val_loss: 0.8234 - val_mae: 0.6737\n",
            "Epoch 65/150\n",
            "469/469 [==============================] - 4s 9ms/step - loss: 0.7333 - mae: 0.6288 - val_loss: 0.8313 - val_mae: 0.6650\n",
            "Epoch 66/150\n",
            "469/469 [==============================] - 3s 6ms/step - loss: 0.7432 - mae: 0.6283 - val_loss: 0.9047 - val_mae: 0.6815\n",
            "Epoch 67/150\n",
            "469/469 [==============================] - 3s 6ms/step - loss: 0.7237 - mae: 0.6195 - val_loss: 1.0131 - val_mae: 0.7010\n",
            "Epoch 68/150\n",
            "469/469 [==============================] - 3s 6ms/step - loss: 0.7421 - mae: 0.6296 - val_loss: 0.8359 - val_mae: 0.6686\n",
            "Epoch 69/150\n",
            "469/469 [==============================] - 3s 7ms/step - loss: 0.7558 - mae: 0.6304 - val_loss: 0.7737 - val_mae: 0.6654\n",
            "Epoch 70/150\n",
            "469/469 [==============================] - 3s 7ms/step - loss: 0.7517 - mae: 0.6324 - val_loss: 0.7537 - val_mae: 0.6543\n",
            "Epoch 71/150\n",
            "469/469 [==============================] - 4s 9ms/step - loss: 0.7309 - mae: 0.6277 - val_loss: 0.8844 - val_mae: 0.6904\n",
            "Epoch 72/150\n",
            "469/469 [==============================] - 4s 8ms/step - loss: 0.7355 - mae: 0.6224 - val_loss: 0.7799 - val_mae: 0.6589\n",
            "Epoch 73/150\n",
            "469/469 [==============================] - 4s 9ms/step - loss: 0.7438 - mae: 0.6325 - val_loss: 0.9476 - val_mae: 0.6860\n",
            "Epoch 74/150\n",
            "469/469 [==============================] - 3s 7ms/step - loss: 0.7336 - mae: 0.6250 - val_loss: 0.8534 - val_mae: 0.6861\n",
            "Epoch 75/150\n",
            "469/469 [==============================] - 3s 7ms/step - loss: 0.7403 - mae: 0.6301 - val_loss: 0.7494 - val_mae: 0.6581\n",
            "Epoch 76/150\n",
            "469/469 [==============================] - 3s 6ms/step - loss: 0.7293 - mae: 0.6233 - val_loss: 0.9125 - val_mae: 0.7004\n",
            "Epoch 77/150\n",
            "469/469 [==============================] - 4s 8ms/step - loss: 0.7311 - mae: 0.6289 - val_loss: 0.7246 - val_mae: 0.6441\n",
            "Epoch 78/150\n",
            "469/469 [==============================] - 4s 8ms/step - loss: 0.7399 - mae: 0.6331 - val_loss: 0.8318 - val_mae: 0.6878\n",
            "Epoch 79/150\n",
            "469/469 [==============================] - 3s 6ms/step - loss: 0.7321 - mae: 0.6287 - val_loss: 0.7333 - val_mae: 0.6473\n",
            "Epoch 80/150\n",
            "469/469 [==============================] - 3s 6ms/step - loss: 0.7168 - mae: 0.6252 - val_loss: 0.8614 - val_mae: 0.6806\n",
            "Epoch 81/150\n",
            "469/469 [==============================] - 3s 6ms/step - loss: 0.7444 - mae: 0.6285 - val_loss: 0.7645 - val_mae: 0.6594\n",
            "Epoch 82/150\n",
            "469/469 [==============================] - 4s 8ms/step - loss: 0.7255 - mae: 0.6188 - val_loss: 0.7862 - val_mae: 0.6690\n",
            "Epoch 83/150\n",
            "469/469 [==============================] - 3s 7ms/step - loss: 0.7378 - mae: 0.6283 - val_loss: 0.6877 - val_mae: 0.6362\n",
            "Epoch 84/150\n",
            "469/469 [==============================] - 3s 7ms/step - loss: 0.7370 - mae: 0.6310 - val_loss: 0.7454 - val_mae: 0.6556\n",
            "Epoch 85/150\n",
            "469/469 [==============================] - 4s 8ms/step - loss: 0.7426 - mae: 0.6290 - val_loss: 0.7969 - val_mae: 0.6726\n",
            "Epoch 86/150\n",
            "469/469 [==============================] - 4s 9ms/step - loss: 0.7358 - mae: 0.6327 - val_loss: 0.9005 - val_mae: 0.6972\n",
            "Epoch 87/150\n",
            "469/469 [==============================] - 3s 6ms/step - loss: 0.7310 - mae: 0.6300 - val_loss: 0.7053 - val_mae: 0.6453\n",
            "Epoch 88/150\n",
            "469/469 [==============================] - 3s 7ms/step - loss: 0.7256 - mae: 0.6231 - val_loss: 0.8353 - val_mae: 0.6642\n",
            "Epoch 89/150\n",
            "469/469 [==============================] - 5s 11ms/step - loss: 0.7068 - mae: 0.6195 - val_loss: 0.7246 - val_mae: 0.6487\n",
            "Epoch 90/150\n",
            "469/469 [==============================] - 5s 10ms/step - loss: 0.7234 - mae: 0.6228 - val_loss: 0.8296 - val_mae: 0.6763\n",
            "Epoch 91/150\n",
            "469/469 [==============================] - 5s 11ms/step - loss: 0.7329 - mae: 0.6263 - val_loss: 0.7356 - val_mae: 0.6487\n",
            "Epoch 92/150\n",
            "469/469 [==============================] - 5s 12ms/step - loss: 0.7320 - mae: 0.6261 - val_loss: 0.8418 - val_mae: 0.6824\n",
            "Epoch 93/150\n",
            "469/469 [==============================] - 5s 11ms/step - loss: 0.7303 - mae: 0.6222 - val_loss: 0.7658 - val_mae: 0.6715\n",
            "Epoch 94/150\n",
            "469/469 [==============================] - 4s 9ms/step - loss: 0.7422 - mae: 0.6272 - val_loss: 1.0696 - val_mae: 0.7053\n",
            "Epoch 95/150\n",
            "469/469 [==============================] - 5s 12ms/step - loss: 0.7378 - mae: 0.6285 - val_loss: 0.7383 - val_mae: 0.6521\n",
            "Epoch 96/150\n",
            "469/469 [==============================] - 3s 6ms/step - loss: 0.7296 - mae: 0.6280 - val_loss: 0.7816 - val_mae: 0.6576\n",
            "Epoch 97/150\n",
            "469/469 [==============================] - 3s 6ms/step - loss: 0.7187 - mae: 0.6227 - val_loss: 0.7395 - val_mae: 0.6513\n",
            "Epoch 98/150\n",
            "469/469 [==============================] - 3s 6ms/step - loss: 0.7323 - mae: 0.6273 - val_loss: 0.7733 - val_mae: 0.6670\n",
            "Epoch 99/150\n",
            "469/469 [==============================] - 4s 8ms/step - loss: 0.7323 - mae: 0.6244 - val_loss: 0.7217 - val_mae: 0.6521\n",
            "Epoch 100/150\n",
            "469/469 [==============================] - 4s 8ms/step - loss: 0.7422 - mae: 0.6279 - val_loss: 0.7690 - val_mae: 0.6534\n",
            "Epoch 101/150\n",
            "469/469 [==============================] - 4s 9ms/step - loss: 0.7243 - mae: 0.6217 - val_loss: 0.8050 - val_mae: 0.6683\n",
            "Epoch 102/150\n",
            "469/469 [==============================] - 3s 6ms/step - loss: 0.7386 - mae: 0.6287 - val_loss: 0.8665 - val_mae: 0.6964\n",
            "Epoch 103/150\n",
            "469/469 [==============================] - 4s 8ms/step - loss: 0.7371 - mae: 0.6243 - val_loss: 0.7241 - val_mae: 0.6456\n",
            "Epoch 104/150\n",
            "469/469 [==============================] - 4s 7ms/step - loss: 0.7514 - mae: 0.6266 - val_loss: 0.7147 - val_mae: 0.6421\n",
            "Epoch 105/150\n",
            "469/469 [==============================] - 3s 6ms/step - loss: 0.7297 - mae: 0.6261 - val_loss: 0.8344 - val_mae: 0.6616\n",
            "Epoch 106/150\n",
            "469/469 [==============================] - 3s 7ms/step - loss: 0.7302 - mae: 0.6273 - val_loss: 0.7955 - val_mae: 0.6695\n",
            "Epoch 107/150\n",
            "469/469 [==============================] - 5s 10ms/step - loss: 0.7231 - mae: 0.6195 - val_loss: 0.7748 - val_mae: 0.6663\n",
            "Epoch 108/150\n",
            "469/469 [==============================] - 3s 7ms/step - loss: 0.7354 - mae: 0.6257 - val_loss: 0.7282 - val_mae: 0.6463\n",
            "Epoch 109/150\n",
            "469/469 [==============================] - 3s 7ms/step - loss: 0.7363 - mae: 0.6290 - val_loss: 0.8919 - val_mae: 0.6828\n",
            "Epoch 110/150\n",
            "469/469 [==============================] - 3s 6ms/step - loss: 0.7294 - mae: 0.6272 - val_loss: 0.7414 - val_mae: 0.6563\n",
            "Epoch 111/150\n",
            "469/469 [==============================] - 4s 9ms/step - loss: 0.7367 - mae: 0.6282 - val_loss: 0.8269 - val_mae: 0.6733\n",
            "Epoch 112/150\n",
            "469/469 [==============================] - 4s 9ms/step - loss: 0.7249 - mae: 0.6255 - val_loss: 0.7745 - val_mae: 0.6590\n",
            "Epoch 113/150\n",
            "469/469 [==============================] - 4s 9ms/step - loss: 0.7550 - mae: 0.6336 - val_loss: 0.7341 - val_mae: 0.6449\n",
            "Epoch 114/150\n",
            "469/469 [==============================] - 5s 12ms/step - loss: 0.7313 - mae: 0.6183 - val_loss: 0.9627 - val_mae: 0.6970\n",
            "Epoch 115/150\n",
            "469/469 [==============================] - 3s 7ms/step - loss: 0.7343 - mae: 0.6260 - val_loss: 0.7692 - val_mae: 0.6555\n",
            "Epoch 116/150\n",
            "469/469 [==============================] - 4s 9ms/step - loss: 0.7327 - mae: 0.6275 - val_loss: 0.8627 - val_mae: 0.6825\n",
            "Epoch 117/150\n",
            "469/469 [==============================] - 3s 6ms/step - loss: 0.7341 - mae: 0.6294 - val_loss: 1.0371 - val_mae: 0.6928\n",
            "Epoch 118/150\n",
            "469/469 [==============================] - 3s 7ms/step - loss: 0.7239 - mae: 0.6225 - val_loss: 0.7693 - val_mae: 0.6634\n",
            "Epoch 119/150\n",
            "469/469 [==============================] - 4s 9ms/step - loss: 0.7225 - mae: 0.6227 - val_loss: 0.8892 - val_mae: 0.6874\n",
            "Epoch 120/150\n",
            "469/469 [==============================] - 3s 7ms/step - loss: 0.7224 - mae: 0.6223 - val_loss: 0.7789 - val_mae: 0.6567\n",
            "Epoch 121/150\n",
            "469/469 [==============================] - 3s 7ms/step - loss: 0.7310 - mae: 0.6256 - val_loss: 0.9134 - val_mae: 0.6942\n",
            "Epoch 122/150\n",
            "469/469 [==============================] - 4s 8ms/step - loss: 0.7442 - mae: 0.6272 - val_loss: 0.8791 - val_mae: 0.6839\n",
            "Epoch 123/150\n",
            "469/469 [==============================] - 4s 8ms/step - loss: 0.7390 - mae: 0.6293 - val_loss: 0.7744 - val_mae: 0.6569\n",
            "Epoch 124/150\n",
            "469/469 [==============================] - 3s 7ms/step - loss: 0.7272 - mae: 0.6252 - val_loss: 0.7981 - val_mae: 0.6579\n",
            "Epoch 125/150\n",
            "469/469 [==============================] - 3s 7ms/step - loss: 0.7240 - mae: 0.6236 - val_loss: 0.7365 - val_mae: 0.6520\n",
            "Epoch 126/150\n",
            "469/469 [==============================] - 4s 8ms/step - loss: 0.7398 - mae: 0.6306 - val_loss: 0.7831 - val_mae: 0.6621\n",
            "Epoch 127/150\n",
            "469/469 [==============================] - 4s 8ms/step - loss: 0.7215 - mae: 0.6267 - val_loss: 0.7796 - val_mae: 0.6618\n",
            "Epoch 128/150\n",
            "469/469 [==============================] - 3s 6ms/step - loss: 0.7261 - mae: 0.6254 - val_loss: 0.8818 - val_mae: 0.6746\n",
            "Epoch 129/150\n",
            "469/469 [==============================] - 3s 6ms/step - loss: 0.7298 - mae: 0.6259 - val_loss: 0.7193 - val_mae: 0.6458\n",
            "Epoch 130/150\n",
            "469/469 [==============================] - 3s 7ms/step - loss: 0.7220 - mae: 0.6244 - val_loss: 0.8038 - val_mae: 0.6792\n",
            "Epoch 131/150\n",
            "469/469 [==============================] - 5s 11ms/step - loss: 0.7257 - mae: 0.6210 - val_loss: 0.8025 - val_mae: 0.6684\n",
            "Epoch 132/150\n",
            "469/469 [==============================] - 3s 7ms/step - loss: 0.7400 - mae: 0.6258 - val_loss: 0.7467 - val_mae: 0.6540\n",
            "Epoch 133/150\n",
            "469/469 [==============================] - 3s 7ms/step - loss: 0.7154 - mae: 0.6214 - val_loss: 0.7312 - val_mae: 0.6485\n",
            "Epoch 134/150\n",
            "469/469 [==============================] - 4s 8ms/step - loss: 0.7322 - mae: 0.6296 - val_loss: 0.6711 - val_mae: 0.6264\n",
            "Epoch 135/150\n",
            "469/469 [==============================] - 4s 8ms/step - loss: 0.7236 - mae: 0.6231 - val_loss: 0.7610 - val_mae: 0.6634\n",
            "Epoch 136/150\n",
            "469/469 [==============================] - 3s 7ms/step - loss: 0.7305 - mae: 0.6270 - val_loss: 0.8202 - val_mae: 0.6712\n",
            "Epoch 137/150\n",
            "469/469 [==============================] - 6s 12ms/step - loss: 0.7472 - mae: 0.6300 - val_loss: 0.7280 - val_mae: 0.6487\n",
            "Epoch 138/150\n",
            "469/469 [==============================] - 7s 15ms/step - loss: 0.7233 - mae: 0.6232 - val_loss: 0.7992 - val_mae: 0.6604\n",
            "Epoch 139/150\n",
            "469/469 [==============================] - 5s 10ms/step - loss: 0.7408 - mae: 0.6294 - val_loss: 0.7406 - val_mae: 0.6485\n",
            "Epoch 140/150\n",
            "469/469 [==============================] - 3s 7ms/step - loss: 0.7141 - mae: 0.6205 - val_loss: 0.7191 - val_mae: 0.6339\n",
            "Epoch 141/150\n",
            "469/469 [==============================] - 4s 8ms/step - loss: 0.7305 - mae: 0.6249 - val_loss: 0.8259 - val_mae: 0.6696\n",
            "Epoch 142/150\n",
            "469/469 [==============================] - 3s 7ms/step - loss: 0.7323 - mae: 0.6226 - val_loss: 0.7742 - val_mae: 0.6612\n",
            "Epoch 143/150\n",
            "469/469 [==============================] - 3s 6ms/step - loss: 0.7236 - mae: 0.6205 - val_loss: 0.7805 - val_mae: 0.6638\n",
            "Epoch 144/150\n",
            "469/469 [==============================] - 3s 7ms/step - loss: 0.7248 - mae: 0.6271 - val_loss: 0.9745 - val_mae: 0.7026\n",
            "Epoch 145/150\n",
            "469/469 [==============================] - 4s 8ms/step - loss: 0.7219 - mae: 0.6296 - val_loss: 0.9813 - val_mae: 0.6795\n",
            "Epoch 146/150\n",
            "469/469 [==============================] - 3s 7ms/step - loss: 0.7164 - mae: 0.6219 - val_loss: 0.7906 - val_mae: 0.6655\n",
            "Epoch 147/150\n",
            "469/469 [==============================] - 3s 6ms/step - loss: 0.7213 - mae: 0.6233 - val_loss: 0.7361 - val_mae: 0.6517\n",
            "Epoch 148/150\n",
            "469/469 [==============================] - 3s 7ms/step - loss: 0.7043 - mae: 0.6237 - val_loss: 1.0081 - val_mae: 0.7015\n",
            "Epoch 149/150\n",
            "469/469 [==============================] - 3s 7ms/step - loss: 0.7190 - mae: 0.6245 - val_loss: 0.8141 - val_mae: 0.6590\n",
            "Epoch 150/150\n",
            "469/469 [==============================] - 4s 8ms/step - loss: 0.7150 - mae: 0.6221 - val_loss: 0.8826 - val_mae: 0.6803\n"
          ]
        }
      ]
    },
    {
      "cell_type": "code",
      "source": [
        "plt.plot(history.history['mae'],\n",
        "         label='Средняя абсолютная ошибка на обучающем наборе')\n",
        "plt.plot(history.history['val_mae'],\n",
        "         label='Средняя абсолютная ошибка на проверочном наборе')\n",
        "plt.xlabel('Эпоха обучения')\n",
        "plt.ylabel('Средняя абсолютная ошибка')\n",
        "plt.legend()\n",
        "plt.show()"
      ],
      "metadata": {
        "colab": {
          "base_uri": "https://localhost:8080/",
          "height": 449
        },
        "id": "sXqeCVMWXdpq",
        "outputId": "b54bb9a0-0433-4245-bd37-69a92e7d815c"
      },
      "execution_count": null,
      "outputs": [
        {
          "output_type": "display_data",
          "data": {
            "text/plain": [
              "<Figure size 640x480 with 1 Axes>"
            ],
            "image/png": "[encoded data removed]"
          },
          "metadata": {}
        }
      ]
    },
    {
      "cell_type": "code",
      "source": [
        "model.summary()"
      ],
      "metadata": {
        "colab": {
          "base_uri": "https://localhost:8080/"
        },
        "id": "_4PEV0KxZLuk",
        "outputId": "4c048851-ed69-4747-8dda-6eedf6c93bf9"
      },
      "execution_count": null,
      "outputs": [
        {
          "output_type": "stream",
          "name": "stdout",
          "text": [
            "Model: \"model_1\"\n",
            "__________________________________________________________________________________________________\n",
            " Layer (type)                   Output Shape         Param #     Connected to                     \n",
            "==================================================================================================\n",
            " input_3 (InputLayer)           [(None, 2200)]       0           []                               \n",
            "                                                                                                  \n",
            " batch_normalization_2 (BatchNo  (None, 2200)        8800        ['input_3[0][0]']                \n",
            " rmalization)                                                                                     \n",
            "                                                                                                  \n",
            " dropout_2 (Dropout)            (None, 2200)         0           ['batch_normalization_2[0][0]']  \n",
            "                                                                                                  \n",
            " input_4 (InputLayer)           [(None, 1)]          0           []                               \n",
            "                                                                                                  \n",
            " dense_8 (Dense)                (None, 10)           22010       ['dropout_2[0][0]']              \n",
            "                                                                                                  \n",
            " dense_11 (Dense)               (None, 1000)         2000        ['input_4[0][0]']                \n",
            "                                                                                                  \n",
            " dense_9 (Dense)                (None, 1000)         11000       ['dense_8[0][0]']                \n",
            "                                                                                                  \n",
            " dense_12 (Dense)               (None, 20)           20020       ['dense_11[0][0]']               \n",
            "                                                                                                  \n",
            " dense_10 (Dense)               (None, 100)          100100      ['dense_9[0][0]']                \n",
            "                                                                                                  \n",
            " dense_13 (Dense)               (None, 5)            105         ['dense_12[0][0]']               \n",
            "                                                                                                  \n",
            " concatenate_1 (Concatenate)    (None, 105)          0           ['dense_10[0][0]',               \n",
            "                                                                  'dense_13[0][0]']               \n",
            "                                                                                                  \n",
            " dense_14 (Dense)               (None, 15)           1590        ['concatenate_1[0][0]']          \n",
            "                                                                                                  \n",
            " dropout_3 (Dropout)            (None, 15)           0           ['dense_14[0][0]']               \n",
            "                                                                                                  \n",
            " dense_15 (Dense)               (None, 1)            16          ['dropout_3[0][0]']              \n",
            "                                                                                                  \n",
            "==================================================================================================\n",
            "Total params: 165,641\n",
            "Trainable params: 161,241\n",
            "Non-trainable params: 4,400\n",
            "__________________________________________________________________________________________________\n"
          ]
        }
      ]
    },
    {
      "cell_type": "code",
      "source": [
        "yy = yTrainScaled[15000:20000] # Дни\n",
        "pred = model.predict([xTrain_text[15000:20000], xTrainScaled[15000:20000]]) # Предсказанные дни\n",
        "plt.scatter(yy, pred)\n",
        "plt.xlabel('Правильные значение')\n",
        "plt.ylabel('Предсказания')\n",
        "plt.axis('equal')\n",
        "plt.xlim(plt.xlim())\n",
        "plt.ylim(plt.ylim())\n",
        "plt.plot([-1000, 1000], [-1000, 1000])\n",
        "plt.show()"
      ],
      "metadata": {
        "colab": {
          "base_uri": "https://localhost:8080/",
          "height": 466
        },
        "id": "BFXjJPzaXk01",
        "outputId": "03f78595-a4d6-4ed5-d42c-516ce35714d4"
      },
      "execution_count": null,
      "outputs": [
        {
          "output_type": "stream",
          "name": "stdout",
          "text": [
            "157/157 [==============================] - 1s 3ms/step\n"
          ]
        },
        {
          "output_type": "display_data",
          "data": {
            "text/plain": [
              "<Figure size 640x480 with 1 Axes>"
            ],
            "image/png": "[encoded data removed]"
          },
          "metadata": {}
        }
      ]
    },
    {
      "cell_type": "markdown",
      "source": [
        "#5.Загрузка модели для предикта"
      ],
      "metadata": {
        "id": "SGg_XIspYfxN"
      }
    },
    {
      "cell_type": "code",
      "source": [
        "# Скачиваем веса модели\n",
        "!gdown --no-cookies --fuzzy https://drive.google.com/file/d/1xC8Y5E8RoR9CvZa-vWVkL48ISUCQ90b9/view?usp=sharing&export=download"
      ],
      "metadata": {
        "colab": {
          "base_uri": "https://localhost:8080/"
        },
        "id": "KFt63V-8YnMI",
        "outputId": "98b71043-b785-4049-e080-a704cb8bf837"
      },
      "execution_count": null,
      "outputs": [
        {
          "output_type": "stream",
          "name": "stdout",
          "text": [
            "Downloading...\n",
            "From: https://drive.google.com/uc?id=1xC8Y5E8RoR9CvZa-vWVkL48ISUCQ90b9\n",
            "To: /content/Dip_MSK.hdf5\n",
            "\r  0% 0.00/2.03M [00:00<?, ?B/s]\r100% 2.03M/2.03M [00:00<00:00, 171MB/s]\n"
          ]
        }
      ]
    },
    {
      "cell_type": "code",
      "source": [
        "from tensorflow.keras.models import load_model\n",
        "# Загружаем модель\n",
        "model = load_model(\"/content/Dip_MSK.hdf5\")"
      ],
      "metadata": {
        "id": "bkBYn07naG8R"
      },
      "execution_count": null,
      "outputs": []
    },
    {
      "cell_type": "markdown",
      "source": [
        "## На этапе предобработки тестового файла для предикта моделью возникли трудности на решение которых уже не оставалось времени.\n",
        "\n",
        "**Поэтому предикт был выполнен на ранее предобработанном файле в пределах среза от 20к до 25к строк. Обучение НС происходило на данных до 20к строк из датафрейма merged_df**"
      ],
      "metadata": {
        "id": "Te9HqrKF32ny"
      }
    },
    {
      "cell_type": "code",
      "source": [
        "# Загрузим пример проверочной выбрки\n",
        "!gdown --no-cookies --fuzzy https://docs.google.com/spreadsheets/d/1T75q9F_z1MouECBRyotz-uw59j9uATes/edit?usp=sharing&ouid=106906074132043001509&rtpof=true&sd=true&export=download"
      ],
      "metadata": {
        "colab": {
          "base_uri": "https://localhost:8080/"
        },
        "id": "VTVBkFUkdxml",
        "outputId": "00e49e73-4cbb-48bd-e7fa-bed7424314a0"
      },
      "execution_count": null,
      "outputs": [
        {
          "output_type": "stream",
          "name": "stdout",
          "text": [
            "Downloading...\n",
            "From: https://drive.google.com/uc?id=1T75q9F_z1MouECBRyotz-uw59j9uATes\n",
            "To: /content/Пример_теста_2023.06.19.xlsx\n",
            "\r  0% 0.00/10.1k [00:00<?, ?B/s]\r100% 10.1k/10.1k [00:00<00:00, 30.0MB/s]\n"
          ]
        }
      ]
    },
    {
      "cell_type": "code",
      "source": [
        "df_test = pd.read_excel('/content/Пример_теста_2023.06.19.xlsx')"
      ],
      "metadata": {
        "id": "xYVqzwtDeOxS"
      },
      "execution_count": null,
      "outputs": []
    },
    {
      "cell_type": "code",
      "source": [
        "# Заполним все пропуски нулями\n",
        "df_test.fillna(0, inplace=True)"
      ],
      "metadata": {
        "id": "nFWT40nSgwm9"
      },
      "execution_count": null,
      "outputs": []
    },
    {
      "cell_type": "code",
      "source": [
        "# Посмотрим каких столбцов не хватает\n",
        "missing_columns_df1 = set(merged_df.columns) - set(df_test.columns)\n",
        "missing_columns_df2 = set(df_test.columns) - set(merged_df.columns)\n",
        "\n",
        "# вывод списка отсутствующих столбцов для каждого датасета\n",
        "print('Отсутствующие столбцы в df_test:', missing_columns_df1)\n",
        "print('Отсутствующие столбцы в merged_df:', missing_columns_df2)"
      ],
      "metadata": {
        "colab": {
          "base_uri": "https://localhost:8080/"
        },
        "id": "p9ZmzSX0eT77",
        "outputId": "4eaf770a-c14f-41d5-ad24-3181a639bd47"
      },
      "execution_count": null,
      "outputs": [
        {
          "output_type": "stream",
          "name": "stdout",
          "text": [
            "Отсутствующие столбцы в df_test: {'Площадь', 'Генподрядчик', 'Unnamed: 0', 'obj_tasks', 'obj_tasks_subprg', 'состояние площадки', 'ФактСтрокВып_дн', 'date_report', 'СтрокВыпДог_дн', 'Кол-во рабочих', 'Генпроектировщик'}\n",
            "Отсутствующие столбцы в merged_df: {'obj_pwa_key', 'obj_shortName'}\n"
          ]
        }
      ]
    },
    {
      "cell_type": "code",
      "source": [
        "df_test"
      ],
      "metadata": {
        "colab": {
          "base_uri": "https://localhost:8080/",
          "height": 232
        },
        "id": "rvnH2T9_fqyi",
        "outputId": "c7d0620c-f302-4c35-ed4f-29781426b302"
      },
      "execution_count": null,
      "outputs": [
        {
          "output_type": "execute_result",
          "data": {
            "text/plain": [
              "   № п/п      obj_prg             obj_subprg   obj_key  \\\n",
              "0     36  Образование  Дошкольные учреждения  020-0684   \n",
              "\n",
              "                            obj_pwa_key               obj_shortName  \\\n",
              "0  fea30a7e-2f12-ec11-972f-80d21df2d922  ДОУ на 125, ТПУ \"Мневники\"   \n",
              "\n",
              "   Кодзадачи        НазваниеЗадачи  ПроцентЗавершенияЗадачи ДатаНачалаЗадачи  \\\n",
              "0          1  Предпроектные работы                        0       2020-11-03   \n",
              "\n",
              "  ДатаОкончанияЗадачи ДатаначалаБП0 ДатаокончанияБП0  Статуспоэкспертизе  \\\n",
              "0          2022-02-01    2020-11-03       2021-12-29                 0.0   \n",
              "\n",
              "   Экспертиза  \n",
              "0         0.0  "
            ],
            "text/html": [
              "\n",
              "  <div id=\"df-5abf0c70-a7f7-4629-b6e3-f2e71d95aa39\">\n",
              "    <div class=\"colab-df-container\">\n",
              "      <div>\n",
              "<style scoped>\n",
              "    .dataframe tbody tr th:only-of-type {\n",
              "        vertical-align: middle;\n",
              "    }\n",
              "\n",
              "    .dataframe tbody tr th {\n",
              "        vertical-align: top;\n",
              "    }\n",
              "\n",
              "    .dataframe thead th {\n",
              "        text-align: right;\n",
              "    }\n",
              "</style>\n",
              "<table border=\"1\" class=\"dataframe\">\n",
              "  <thead>\n",
              "    <tr style=\"text-align: right;\">\n",
              "      <th></th>\n",
              "      <th>№ п/п</th>\n",
              "      <th>obj_prg</th>\n",
              "      <th>obj_subprg</th>\n",
              "      <th>obj_key</th>\n",
              "      <th>obj_pwa_key</th>\n",
              "      <th>obj_shortName</th>\n",
              "      <th>Кодзадачи</th>\n",
              "      <th>НазваниеЗадачи</th>\n",
              "      <th>ПроцентЗавершенияЗадачи</th>\n",
              "      <th>ДатаНачалаЗадачи</th>\n",
              "      <th>ДатаОкончанияЗадачи</th>\n",
              "      <th>ДатаначалаБП0</th>\n",
              "      <th>ДатаокончанияБП0</th>\n",
              "      <th>Статуспоэкспертизе</th>\n",
              "      <th>Экспертиза</th>\n",
              "    </tr>\n",
              "  </thead>\n",
              "  <tbody>\n",
              "    <tr>\n",
              "      <th>0</th>\n",
              "      <td>36</td>\n",
              "      <td>Образование</td>\n",
              "      <td>Дошкольные учреждения</td>\n",
              "      <td>020-0684</td>\n",
              "      <td>fea30a7e-2f12-ec11-972f-80d21df2d922</td>\n",
              "      <td>ДОУ на 125, ТПУ \"Мневники\"</td>\n",
              "      <td>1</td>\n",
              "      <td>Предпроектные работы</td>\n",
              "      <td>0</td>\n",
              "      <td>2020-11-03</td>\n",
              "      <td>2022-02-01</td>\n",
              "      <td>2020-11-03</td>\n",
              "      <td>2021-12-29</td>\n",
              "      <td>0.0</td>\n",
              "      <td>0.0</td>\n",
              "    </tr>\n",
              "  </tbody>\n",
              "</table>\n",
              "</div>\n",
              "      <button class=\"colab-df-convert\" onclick=\"convertToInteractive('df-5abf0c70-a7f7-4629-b6e3-f2e71d95aa39')\"\n",
              "              title=\"Convert this dataframe to an interactive table.\"\n",
              "              style=\"display:none;\">\n",
              "        \n",
              "  <svg xmlns=\"http://www.w3.org/2000/svg\" height=\"24px\"viewBox=\"0 0 24 24\"\n",
              "       width=\"24px\">\n",
              "    <path d=\"M0 0h24v24H0V0z\" fill=\"none\"/>\n",
              "    <path d=\"M18.56 5.44l.94 2.06.94-2.06 2.06-.94-2.06-.94-.94-2.06-.94 2.06-2.06.94zm-11 1L8.5 8.5l.94-2.06 2.06-.94-2.06-.94L8.5 2.5l-.94 2.06-2.06.94zm10 10l.94 2.06.94-2.06 2.06-.94-2.06-.94-.94-2.06-.94 2.06-2.06.94z\"/><path d=\"M17.41 7.96l-1.37-1.37c-.4-.4-.92-.59-1.43-.59-.52 0-1.04.2-1.43.59L10.3 9.45l-7.72 7.72c-.78.78-.78 2.05 0 2.83L4 21.41c.39.39.9.59 1.41.59.51 0 1.02-.2 1.41-.59l7.78-7.78 2.81-2.81c.8-.78.8-2.07 0-2.86zM5.41 20L4 18.59l7.72-7.72 1.47 1.35L5.41 20z\"/>\n",
              "  </svg>\n",
              "      </button>\n",
              "      \n",
              "  <style>\n",
              "    .colab-df-container {\n",
              "      display:flex;\n",
              "      flex-wrap:wrap;\n",
              "      gap: 12px;\n",
              "    }\n",
              "\n",
              "    .colab-df-convert {\n",
              "      background-color: #E8F0FE;\n",
              "      border: none;\n",
              "      border-radius: 50%;\n",
              "      cursor: pointer;\n",
              "      display: none;\n",
              "      fill: #1967D2;\n",
              "      height: 32px;\n",
              "      padding: 0 0 0 0;\n",
              "      width: 32px;\n",
              "    }\n",
              "\n",
              "    .colab-df-convert:hover {\n",
              "      background-color: #E2EBFA;\n",
              "      box-shadow: 0px 1px 2px rgba(60, 64, 67, 0.3), 0px 1px 3px 1px rgba(60, 64, 67, 0.15);\n",
              "      fill: #174EA6;\n",
              "    }\n",
              "\n",
              "    [theme=dark] .colab-df-convert {\n",
              "      background-color: #3B4455;\n",
              "      fill: #D2E3FC;\n",
              "    }\n",
              "\n",
              "    [theme=dark] .colab-df-convert:hover {\n",
              "      background-color: #434B5C;\n",
              "      box-shadow: 0px 1px 3px 1px rgba(0, 0, 0, 0.15);\n",
              "      filter: drop-shadow(0px 1px 2px rgba(0, 0, 0, 0.3));\n",
              "      fill: #FFFFFF;\n",
              "    }\n",
              "  </style>\n",
              "\n",
              "      <script>\n",
              "        const buttonEl =\n",
              "          document.querySelector('#df-5abf0c70-a7f7-4629-b6e3-f2e71d95aa39 button.colab-df-convert');\n",
              "        buttonEl.style.display =\n",
              "          google.colab.kernel.accessAllowed ? 'block' : 'none';\n",
              "\n",
              "        async function convertToInteractive(key) {\n",
              "          const element = document.querySelector('#df-5abf0c70-a7f7-4629-b6e3-f2e71d95aa39');\n",
              "          const dataTable =\n",
              "            await google.colab.kernel.invokeFunction('convertToInteractive',\n",
              "                                                     [key], {});\n",
              "          if (!dataTable) return;\n",
              "\n",
              "          const docLinkHtml = 'Like what you see? Visit the ' +\n",
              "            '<a target=\"_blank\" href=https://colab.research.google.com/notebooks/data_table.ipynb>data table notebook</a>'\n",
              "            + ' to learn more about interactive tables.';\n",
              "          element.innerHTML = '';\n",
              "          dataTable['output_type'] = 'display_data';\n",
              "          await google.colab.output.renderOutput(dataTable, element);\n",
              "          const docLink = document.createElement('div');\n",
              "          docLink.innerHTML = docLinkHtml;\n",
              "          element.appendChild(docLink);\n",
              "        }\n",
              "      </script>\n",
              "    </div>\n",
              "  </div>\n",
              "  "
            ]
          },
          "metadata": {},
          "execution_count": 92
        }
      ]
    },
    {
      "cell_type": "code",
      "source": [
        "merged_test = pd.merge(df_test, merged_df, on=['№ п/п', 'obj_prg', 'obj_subprg', 'obj_key', 'Кодзадачи', 'НазваниеЗадачи', 'ПроцентЗавершенияЗадачи', 'ДатаНачалаЗадачи', 'ДатаОкончанияЗадачи', 'ДатаначалаБП0', 'ДатаокончанияБП0', 'Статуспоэкспертизе', 'Экспертиза'], how='outer')"
      ],
      "metadata": {
        "colab": {
          "base_uri": "https://localhost:8080/"
        },
        "id": "_ZAOxLpKhaTa",
        "outputId": "bf2300f9-d4fc-4b65-8650-cf1e7fd634b0"
      },
      "execution_count": null,
      "outputs": [
        {
          "output_type": "stream",
          "name": "stderr",
          "text": [
            "<ipython-input-93-473c3654bcce>:1: FutureWarning: In a future version, the Index constructor will not infer numeric dtypes when passed object-dtype sequences (matching Series behavior)\n",
            "  merged_test = pd.merge(df_test, merged_df, on=['№ п/п', 'obj_prg', 'obj_subprg', 'obj_key', 'Кодзадачи', 'НазваниеЗадачи', 'ПроцентЗавершенияЗадачи', 'ДатаНачалаЗадачи', 'ДатаОкончанияЗадачи', 'ДатаначалаБП0', 'ДатаокончанияБП0', 'Статуспоэкспертизе', 'Экспертиза'], how='outer')\n"
          ]
        }
      ]
    },
    {
      "cell_type": "code",
      "source": [
        "# Выберим только первую нужную нам строку, т.к. остальные были сгенерированы при объединении\n",
        "df_test_p = merged_test.iloc[0]"
      ],
      "metadata": {
        "id": "LXw1ky_UjbR5"
      },
      "execution_count": null,
      "outputs": []
    },
    {
      "cell_type": "code",
      "source": [
        "df_test_p"
      ],
      "metadata": {
        "colab": {
          "base_uri": "https://localhost:8080/"
        },
        "id": "Ee20d0VBn5qX",
        "outputId": "48e957a0-95f8-4388-f5be-1bb9e9e2d11a"
      },
      "execution_count": null,
      "outputs": [
        {
          "output_type": "execute_result",
          "data": {
            "text/plain": [
              "№ п/п                                                        36\n",
              "obj_prg                                             Образование\n",
              "obj_subprg                                Дошкольные учреждения\n",
              "obj_key                                                020-0684\n",
              "obj_pwa_key                fea30a7e-2f12-ec11-972f-80d21df2d922\n",
              "obj_shortName                        ДОУ на 125, ТПУ \"Мневники\"\n",
              "Кодзадачи                                                   1.0\n",
              "НазваниеЗадачи                             Предпроектные работы\n",
              "ПроцентЗавершенияЗадачи                                     0.0\n",
              "ДатаНачалаЗадачи                            2020-11-03 00:00:00\n",
              "ДатаОкончанияЗадачи                         2022-02-01 00:00:00\n",
              "ДатаначалаБП0                               2020-11-03 00:00:00\n",
              "ДатаокончанияБП0                            2021-12-29 00:00:00\n",
              "Статуспоэкспертизе                                          0.0\n",
              "Экспертиза                                                  0.0\n",
              "Unnamed: 0                                                    0\n",
              "date_report                                 1970-01-01 00:00:00\n",
              "состояние площадки                                            0\n",
              "Площадь                                                       0\n",
              "Генпроектировщик                                              0\n",
              "Генподрядчик                                                  0\n",
              "Кол-во рабочих                                                0\n",
              "ФактСтрокВып_дн                               455 days 00:00:00\n",
              "СтрокВыпДог_дн                                421 days 00:00:00\n",
              "obj_tasks                                                     0\n",
              "obj_tasks_subprg                                              0\n",
              "Name: 0, dtype: object"
            ]
          },
          "metadata": {},
          "execution_count": 79
        }
      ]
    },
    {
      "cell_type": "code",
      "source": [
        "  # Преобразуем столбцы дат в формат даты\n",
        "  #df_test_p[['ДатаНачалаЗадачи', 'ДатаОкончанияЗадачи', 'date_report']] = df_test_p[['ДатаНачалаЗадачи', 'ДатаОкончанияЗадачи', 'date_report']].apply(pd.to_datetime)\n",
        "  #df_test_p[['ДатаначалаБП0', 'ДатаокончанияБП0']] = df_test_p[['ДатаначалаБП0', 'ДатаокончанияБП0']].apply(pd.to_datetime)\n",
        "\n",
        "  # Вычисляем количество дней на выполнение этапа\n",
        "  #df_test_p['ФактСтрокВып_дн'] = df_test_p['ДатаОкончанияЗадачи'] - df_test_p['ДатаНачалаЗадачи']\n",
        "  #df_test_p['СтрокВыпДог_дн'] = df_test_p['ДатаокончанияБП0'] - df_test_p['ДатаначалаБП0']\n",
        "\n",
        "  # Переведем в строковые значения\n",
        "  #df_test_p['ФактСтрокВып_дн'] = df_test_p['ФактСтрокВып_дн'].astype(str)\n",
        "  #df_test_p['СтрокВыпДог_дн'] = df_test_p['СтрокВыпДог_дн'].astype(str)\n",
        "\n",
        "  # Создадим списки дней\n",
        "  #list_fact = df_test_p['ФактСтрокВып_дн'].to_list()\n",
        "  #list_doc = df_test_p['СтрокВыпДог_дн'].to_list()\n",
        "\n",
        "  # Преобразовываем дни в формат int\n",
        "  new_list_fact = []\n",
        "  for i in list_fact:\n",
        "      i = i.split(' ')\n",
        "      i = i[0]\n",
        "      new_list_fact.append(i)\n",
        "\n",
        "  df_test_p['ФактСтрокВып_дн'] = new_list_fact\n",
        "\n",
        "  new_list_doc = []\n",
        "  for i in list_doc:\n",
        "      i = i.split(' ')\n",
        "      i = i[0]\n",
        "      new_list_doc.append(i)\n",
        "\n",
        "  df_test_p['СтрокВыпДог_дн'] = new_list_doc\n",
        "\n",
        "  df_test_p['ФактСтрокВып_дн'] = df_test_p['ФактСтрокВып_дн'].astype(int)\n",
        "  df_test_p['СтрокВыпДог_дн'] = df_test_p['СтрокВыпДог_дн'].astype(int)"
      ],
      "metadata": {
        "id": "FxyNolq5pQZc"
      },
      "execution_count": null,
      "outputs": []
    },
    {
      "cell_type": "code",
      "source": [
        "df_test_p['obj_tasks'] = df_test_p['obj_key'] + \" \" + df_test_p['Кодзадачи'] + \" \" + df_test_p['НазваниеЗадачи']"
      ],
      "metadata": {
        "id": "OWeEIGBmqDsb"
      },
      "execution_count": null,
      "outputs": []
    },
    {
      "cell_type": "code",
      "source": [
        "df_test_p.fillna(0, inplace=True)\n",
        "\n",
        "# Создадим новый столбец с данными из столбцов obj_key Кодзадачи НазваниеЗадачи\n",
        "df_test_p['obj_tasks'] = df_test_p['obj_key'].astype(str) + \" \" + df_test_p['Кодзадачи'].astype(str) + \" \" + df_test_p['НазваниеЗадачи'].astype(str)\n",
        "# Создадим новый столбец с данными из столбцов obj_prg, obj_subprg, Кодзадачи, НазваниеЗадачи\n",
        "df_test_p['obj_tasks_subprg'] = df_test_p['obj_prg'].astype(str) + \" \" + df_test_p['obj_subprg'].astype(str) + \" \" + df_test_p['Кодзадачи'].astype(str) + \" \" + df_test_p['НазваниеЗадачи'].astype(str)+ \" \" + df_test_p['состояние площадки'].astype(str)\n",
        "\n",
        "# Переведём статус экспертизы к числовому формату\n",
        "df_test_p['Экспертиза'] = df_test_p['Экспертиза'].replace({'1ТС': 1, '2ТС': 2, '2С': 3, '2Т': 4, '1Т': 5, '1С': 6}) # [0, '1ТС', '2ТС', '2С', '2Т', '1Т', '1С']\n",
        "\n",
        "# Предобработаем данные для НС\n",
        "test_txt = np.array(df_test_p['obj_tasks_subprg']) # Переводим сообщения в массив\n",
        "x_texts = tokenizer.texts_to_matrix(test_txt) # Токенизируем массив\n",
        "x_numbers = np.array(df_test_p[['ПроцентЗавершенияЗадачи', 'Статуспоэкспертизе', 'Экспертиза', 'Площадь', 'Генпроектировщик', 'Генподрядчик', 'Кол-во рабочих']])"
      ],
      "metadata": {
        "id": "d_hLEx5GpkHm"
      },
      "execution_count": null,
      "outputs": []
    },
    {
      "cell_type": "code",
      "source": [
        "# Функция обработки тестового набора\n",
        "def pars(df_test_p):\n",
        "  df_test_p.fillna(0, inplace=True)\n",
        "\n",
        "  # Создадим новый столбец с данными из столбцов obj_key Кодзадачи НазваниеЗадачи\n",
        "  df_test_p['obj_tasks'] = df_test_p['obj_key'].astype(str) + \" \" + df_test_p['Кодзадачи'].astype(str) + \" \" + df_test_p['НазваниеЗадачи'].astype(str)\n",
        "  # Создадим новый столбец с данными из столбцов obj_prg, obj_subprg, Кодзадачи, НазваниеЗадачи\n",
        "  df_test_p['obj_tasks_subprg'] = df_test_p['obj_prg'].astype(str) + \" \" + df_test_p['obj_subprg'].astype(str) + \" \" + df_test_p['Кодзадачи'].astype(str) + \" \" + df_test_p['НазваниеЗадачи'].astype(str)+ \" \" + df_test_p['состояние площадки'].astype(str)\n",
        "\n",
        "  # Переведём статус экспертизы к числовому формату\n",
        "  df_test_p['Экспертиза'] = df_test_p['Экспертиза'].replace({'1ТС': 1, '2ТС': 2, '2С': 3, '2Т': 4, '1Т': 5, '1С': 6}) # [0, '1ТС', '2ТС', '2С', '2Т', '1Т', '1С']\n",
        "\n",
        "  # Предобработаем данные для НС\n",
        "  test_txt = np.array(df_test_p['obj_tasks_subprg']) # Переводим сообщения в массив\n",
        "  x_texts = tokenizer.texts_to_matrix(test_txt) # Токенизируем массив\n",
        "  x_numbers = np.array(df_test_p[['ПроцентЗавершенияЗадачи', 'Статуспоэкспертизе', 'Экспертиза', 'Площадь', 'Генпроектировщик', 'Генподрядчик', 'Кол-во рабочих']])\n",
        "\n",
        "  return x_texts, x_numbers"
      ],
      "metadata": {
        "id": "UTI5H0AAkWoQ"
      },
      "execution_count": null,
      "outputs": []
    },
    {
      "cell_type": "code",
      "source": [
        "x1, x2 = pars(df_test_p)"
      ],
      "metadata": {
        "id": "mq2cXrLjnfwM"
      },
      "execution_count": null,
      "outputs": []
    },
    {
      "cell_type": "markdown",
      "source": [
        "#6.Predict\n",
        "\n",
        "**В качестве предикта будем использовать срез обработанного файла +5к от того среза на котором была обучена модель**"
      ],
      "metadata": {
        "id": "rle4LC88qn7m"
      }
    },
    {
      "cell_type": "code",
      "source": [
        "x_text = np.array(train_text[20000:25000])\n",
        "x_numb = np.array(merged_df[['ПроцентЗавершенияЗадачи', 'Статуспоэкспертизе', 'Экспертиза', 'Площадь', 'Генпроектировщик', 'Генподрядчик', 'Кол-во рабочих']][20000:25000])"
      ],
      "metadata": {
        "id": "t-D2H6vlq2c0"
      },
      "execution_count": null,
      "outputs": []
    },
    {
      "cell_type": "code",
      "source": [
        "x_numb.shape"
      ],
      "metadata": {
        "colab": {
          "base_uri": "https://localhost:8080/"
        },
        "id": "m5y5gqC-r9nc",
        "outputId": "2116e043-0665-4d41-cff1-0dd6316a0b4c"
      },
      "execution_count": null,
      "outputs": [
        {
          "output_type": "execute_result",
          "data": {
            "text/plain": [
              "(5000, 7)"
            ]
          },
          "metadata": {},
          "execution_count": 105
        }
      ]
    },
    {
      "cell_type": "code",
      "source": [
        "# В качестве нормализации данных используем готовую библиотеку\n",
        "x_2_Scaler = StandardScaler()\n",
        "\n",
        "# Скармливаем объекту двумерный вектор\n",
        "x_2_Scaler.fit(x_numb.reshape(-1, 1))\n",
        "\n",
        "# Нормализуем по нормальному распределению\n",
        "x_2_TrainScaled = x_2_Scaler.transform(x_numb.reshape(-1, 1))\n",
        "\n",
        "print(x_2_TrainScaled.shape)\n",
        "print(x_numb[1])\n",
        "print(x_2_TrainScaled[1])"
      ],
      "metadata": {
        "colab": {
          "base_uri": "https://localhost:8080/"
        },
        "id": "WiyVe_L2rVoG",
        "outputId": "6f45b2b1-2920-4d4f-e54e-5951c61fa86a"
      },
      "execution_count": null,
      "outputs": [
        {
          "output_type": "stream",
          "name": "stdout",
          "text": [
            "(35000, 1)\n",
            "[0.00e+00 0.00e+00 0.00e+00 9.03e+03 6.00e+00 0.00e+00 0.00e+00]\n",
            "[-0.37911599]\n"
          ]
        }
      ]
    },
    {
      "cell_type": "code",
      "source": [
        "# Выполняем предикт\n",
        "pred_test = model.predict([x_text[:5000], x_2_TrainScaled[:5000]])"
      ],
      "metadata": {
        "colab": {
          "base_uri": "https://localhost:8080/"
        },
        "id": "0wPzLXNQdPNe",
        "outputId": "dde8f2b3-48e5-46e6-8ef7-f8fe60fb2a72"
      },
      "execution_count": null,
      "outputs": [
        {
          "output_type": "stream",
          "name": "stdout",
          "text": [
            "157/157 [==============================] - 1s 3ms/step\n"
          ]
        }
      ]
    },
    {
      "cell_type": "code",
      "source": [
        "yTrain_pred = np.array(merged_df['ФактСтрокВып_дн'][20000:25000])"
      ],
      "metadata": {
        "id": "XZ-iNt77vSPu"
      },
      "execution_count": null,
      "outputs": []
    },
    {
      "cell_type": "code",
      "source": [
        "# Приводим его к начальному виду\n",
        "predUnscaled = yScaler.inverse_transform(pred_test).flatten()\n",
        "\n",
        "# Среднее значение ошибки\n",
        "delta = predUnscaled - yTrain_pred\n",
        "absDelta = abs(delta)\n",
        "print(sum(absDelta) / len(absDelta))"
      ],
      "metadata": {
        "colab": {
          "base_uri": "https://localhost:8080/"
        },
        "id": "wNkKlCVEuKB9",
        "outputId": "668e1850-4241-4321-db44-567e0ecc6e32"
      },
      "execution_count": null,
      "outputs": [
        {
          "output_type": "stream",
          "name": "stdout",
          "text": [
            "58.52520786895752\n"
          ]
        }
      ]
    },
    {
      "cell_type": "code",
      "source": [
        "pred_df = merged_df[20000:25000]\n",
        "pred_df['Предсказано дн. на задачу'] = predUnscaled"
      ],
      "metadata": {
        "colab": {
          "base_uri": "https://localhost:8080/"
        },
        "id": "O0FvyivmtRHH",
        "outputId": "d1792ede-75e7-4b53-c54c-61fd5eba481a"
      },
      "execution_count": null,
      "outputs": [
        {
          "output_type": "stream",
          "name": "stderr",
          "text": [
            "<ipython-input-143-4906dbbe1311>:2: SettingWithCopyWarning: \n",
            "A value is trying to be set on a copy of a slice from a DataFrame.\n",
            "Try using .loc[row_indexer,col_indexer] = value instead\n",
            "\n",
            "See the caveats in the documentation: https://pandas.pydata.org/pandas-docs/stable/user_guide/indexing.html#returning-a-view-versus-a-copy\n",
            "  pred_df['Предсказано дн. на задачу'] = predUnscaled\n"
          ]
        }
      ]
    },
    {
      "cell_type": "code",
      "source": [
        "pred_df['Предсказано дн. на задачу'] = predUnscaled\n",
        "pred_df['Предсказано дн. на задачу'] = pred_df['Предсказано дн. на задачу'].astype(int)"
      ],
      "metadata": {
        "colab": {
          "base_uri": "https://localhost:8080/"
        },
        "id": "zc6vZtMbxtqa",
        "outputId": "6062b703-06d2-47ea-933b-315c3d199f5d"
      },
      "execution_count": null,
      "outputs": [
        {
          "output_type": "stream",
          "name": "stderr",
          "text": [
            "<ipython-input-144-4566e1cd7a60>:1: SettingWithCopyWarning: \n",
            "A value is trying to be set on a copy of a slice from a DataFrame.\n",
            "Try using .loc[row_indexer,col_indexer] = value instead\n",
            "\n",
            "See the caveats in the documentation: https://pandas.pydata.org/pandas-docs/stable/user_guide/indexing.html#returning-a-view-versus-a-copy\n",
            "  pred_df['Предсказано дн. на задачу'] = predUnscaled\n",
            "<ipython-input-144-4566e1cd7a60>:2: SettingWithCopyWarning: \n",
            "A value is trying to be set on a copy of a slice from a DataFrame.\n",
            "Try using .loc[row_indexer,col_indexer] = value instead\n",
            "\n",
            "See the caveats in the documentation: https://pandas.pydata.org/pandas-docs/stable/user_guide/indexing.html#returning-a-view-versus-a-copy\n",
            "  pred_df['Предсказано дн. на задачу'] = pred_df['Предсказано дн. на задачу'].astype(int)\n"
          ]
        }
      ]
    },
    {
      "cell_type": "code",
      "source": [
        "pred_df['Предсказано дн. на задачу'].unique()"
      ],
      "metadata": {
        "colab": {
          "base_uri": "https://localhost:8080/"
        },
        "id": "D-8QEO1htks9",
        "outputId": "cc4a1cf8-8324-4faa-d9d1-c6bd3f949522"
      },
      "execution_count": null,
      "outputs": [
        {
          "output_type": "execute_result",
          "data": {
            "text/plain": [
              "array([ 70, 101, 571, 150, 109, 113, 126, 100, 157, 258,  75,  96, 302,\n",
              "       365, 310, 384,  88, 426, 413, 442, 502, 402, 688, 208, 324, 166,\n",
              "       185, 148, 186, 253, 211, 179, 350, 159, 173, 283, 181, 180, 244,\n",
              "       190, 187, 240,  80, 177, 164, 313, 206, 275, 272, 225, 260, 278,\n",
              "       232, 217, 214, 213, 210, 197, 269, 224, 194, 151, 147, 152, 178,\n",
              "       201, 193, 196, 212, 202, 245, 274, 223, 189, 252, 146, 321, 248,\n",
              "       191, 231, 355, 176, 131, 216, 170, 167, 162, 182, 163, 195, 192,\n",
              "       172, 183, 238, 125, 220, 161, 116, 263, 218, 226, 171, 174, 199,\n",
              "       141, 207, 301, 273, 219, 222, 265, 279, 247, 230, 158, 234, 221,\n",
              "       236, 229, 215, 396, 160, 117, 203, 123, 198, 139, 108, 516, 441,\n",
              "       490, 485, 455, 391, 641, 308, 134, 339, 165, 175, 168, 266, 204,\n",
              "       227, 111, 149, 153,  95,  87, 156, 155, 110, 188, 140, 118, 122,\n",
              "       132, 137, 144, 120, 145, 136, 138,  77,  92, 251, 264,  98, 209,\n",
              "       381, 124, 474, 416, 154,  79, 127, 115,  91,  99, 142, 133, 104,\n",
              "       121, 135,  90, 184, 241, 267, 242, 130, 306, 457, 453, 102, 249,\n",
              "       128, 200, 385, 570, 255,  78,  93, 317,  76, 103, 112, 412, 114,\n",
              "        73,  85, 107, 106, 129,  81, 271, 337, 309, 440, 398, 246, 276,\n",
              "       316, 424,  71, 119, 568,  94])"
            ]
          },
          "metadata": {},
          "execution_count": 145
        }
      ]
    },
    {
      "cell_type": "code",
      "source": [
        "# Сравним предсказания с реальными данными\n",
        "pred_df['Отклонение от факта.дн'] = pred_df['ФактСтрокВып_дн'] - pred_df['Предсказано дн. на задачу']"
      ],
      "metadata": {
        "colab": {
          "base_uri": "https://localhost:8080/"
        },
        "id": "E3sTLtTKyDmQ",
        "outputId": "e87bb7ae-305a-4a88-df44-40dcb9da510d"
      },
      "execution_count": null,
      "outputs": [
        {
          "output_type": "stream",
          "name": "stderr",
          "text": [
            "<ipython-input-146-a28fb05a1ee0>:2: SettingWithCopyWarning: \n",
            "A value is trying to be set on a copy of a slice from a DataFrame.\n",
            "Try using .loc[row_indexer,col_indexer] = value instead\n",
            "\n",
            "See the caveats in the documentation: https://pandas.pydata.org/pandas-docs/stable/user_guide/indexing.html#returning-a-view-versus-a-copy\n",
            "  pred_df['Отклонение от факта.дн'] = pred_df['ФактСтрокВып_дн'] - pred_df['Предсказано дн. на задачу']\n"
          ]
        }
      ]
    },
    {
      "cell_type": "code",
      "source": [
        "pred_df['Отклонение от факта.дн'].unique()"
      ],
      "metadata": {
        "colab": {
          "base_uri": "https://localhost:8080/"
        },
        "id": "38TwYs_myk4_",
        "outputId": "619cf8d7-c75f-408f-d9c3-cf2afacfa501"
      },
      "execution_count": null,
      "outputs": [
        {
          "output_type": "execute_result",
          "data": {
            "text/plain": [
              "array([ -63,  -43,  -70,  -24,   58,  -46,  -49,  -51,  -45,  -50,  -42,\n",
              "        -53,  -57,  -62,  -64,   84,   52,   53,   27,  680,  -22,   19,\n",
              "         15,    2,   28,   32,  -29,   41,   29, -130,   22,  -61,  636,\n",
              "        107,  274,  -59,   70,   86,   79,  -34,  -60,    3,   -8,  -11,\n",
              "        -31,  -17,  -25, -256,   -7,  -55,  -56,  703,  468,  166,  -30,\n",
              "        -27,  -68,  763,  -69,   20,  -65,  654,  -28,  -37, -276,  -48,\n",
              "        595,  633,  -66,  -67,  -36,  -40,  -38,  546,   -2,  -54,  481,\n",
              "        479, -418, -405,  169,  322,   39,  210,   31, -380, -162, -166,\n",
              "        -32,  117,  106,  143,   99,   -1,   44,   76,   47,  124,  110,\n",
              "          0,  126,   98,  102,  103,   93,   96,  213,   43, -147,  -41,\n",
              "       -134,   55, -187, -106, -175, -115, -150, -168, -122, -107, -104,\n",
              "        -96, -103, -100,  -87, -159, -114,  -80,  -44,  -71,  -99,  -94,\n",
              "        -83,  -89, -102, -125,  -95, -138,   37, -167, -116,  -79, -145,\n",
              "        -82, -268, -200, -179, -172, -195, -165, -137, -184, -202, -255,\n",
              "        -20,  -15, -105,  -85,  -52,  -84,  -81,  -72, -127,  -14, -109,\n",
              "         -5, -152, -113, -110, -118, -194, -206, -112,    6, -158, -169,\n",
              "       -111, -123, -121, -135, -126, -119, -108,   23,  378,  151,  357,\n",
              "          4,  -10,  -97,  -76,  -86,   13,  -33,    7, -117,   11, -155,\n",
              "        276,   -3,  -12, -410, -335, -271,   69,   34,   74, -275,   25,\n",
              "        -74, -129,   12,   78,   45,   18, -160,   14,   16,  -23,  -90,\n",
              "        -93,  -88,   24,    1,  -77,  -21,  -35,  -26,   -9,    5, -140,\n",
              "        -91, -153,  -92,  -98,  -16, -230, -124,  -78,   10, -356,   56,\n",
              "        125,   36,  116,   42,   77,   61,   63,   68,  -47,   75,  -58,\n",
              "         82,   62,  137,   -6,   88,    9,   73,   57,   59,  132,   72,\n",
              "         71,   95,   17, -120, -157,  -13, -233,  -19,  170,  174,   38,\n",
              "       -284,   48, -189,   -4,  -18, -101,  -75,  -39,  -73, -151, -128,\n",
              "         46, -248, -359,   67,   49,   30, -177, -201, -238, -209, -205,\n",
              "        269, -309, -213,   80, -355,   64,   21, -214, -239, -192, -286,\n",
              "       -225, -229,  278,  181, -235, -228, -171, -174, -146, -144,   81,\n",
              "         97,  496,    8,  164,  156,  141,  158, -212,  108,  121,   40,\n",
              "        188,   26,  146,  148])"
            ]
          },
          "metadata": {},
          "execution_count": 147
        }
      ]
    },
    {
      "cell_type": "code",
      "source": [
        "pred_df.drop(columns=['obj_tasks', 'obj_tasks_subprg'], inplace=True)"
      ],
      "metadata": {
        "colab": {
          "base_uri": "https://localhost:8080/"
        },
        "id": "a3hx8wmw2ygJ",
        "outputId": "3e453fc6-b0e2-4c34-a642-e9e6170628a6"
      },
      "execution_count": null,
      "outputs": [
        {
          "output_type": "stream",
          "name": "stderr",
          "text": [
            "<ipython-input-149-87f177ce0e32>:1: SettingWithCopyWarning: \n",
            "A value is trying to be set on a copy of a slice from a DataFrame\n",
            "\n",
            "See the caveats in the documentation: https://pandas.pydata.org/pandas-docs/stable/user_guide/indexing.html#returning-a-view-versus-a-copy\n",
            "  pred_df.drop(columns=['obj_tasks', 'obj_tasks_subprg'], inplace=True)\n"
          ]
        }
      ]
    },
    {
      "cell_type": "code",
      "source": [
        "pred_df"
      ],
      "metadata": {
        "colab": {
          "base_uri": "https://localhost:8080/",
          "height": 1000
        },
        "id": "G8wUx1LfzcaC",
        "outputId": "67427913-5760-442f-ed1b-2e85207a1f60"
      },
      "execution_count": null,
      "outputs": [
        {
          "output_type": "execute_result",
          "data": {
            "text/plain": [
              "       Unnamed: 0  № п/п      obj_prg                      obj_subprg  \\\n",
              "20000       10569     60  Образование  Общеобразовательные учреждения   \n",
              "20001       10570     60  Образование  Общеобразовательные учреждения   \n",
              "20002       10571     60  Образование  Общеобразовательные учреждения   \n",
              "20003       10572     60  Образование  Общеобразовательные учреждения   \n",
              "20004       10573     60  Образование  Общеобразовательные учреждения   \n",
              "...           ...    ...          ...                             ...   \n",
              "24995       53114     77  Образование  Общеобразовательные учреждения   \n",
              "24996       53133     77  Образование  Общеобразовательные учреждения   \n",
              "24997       53179     77  Образование  Общеобразовательные учреждения   \n",
              "24998       53234     77  Образование  Общеобразовательные учреждения   \n",
              "24999       53287     77  Образование  Общеобразовательные учреждения   \n",
              "\n",
              "        obj_key Кодзадачи                                     НазваниеЗадачи  \\\n",
              "20000  019-0674      3.12     Рассмотрение проектной документации Заказчиком   \n",
              "20001  019-0674      3.12  Согласование проектной документации в эксплуат...   \n",
              "20002  019-0674      3.12  Устранение замечаний Заказчика по проектной до...   \n",
              "20003  019-0674      3.12          Передача проектной документации Заказчику   \n",
              "20004  019-0674      3.12  Передача проектной документации Заказчику на р...   \n",
              "...         ...       ...                                                ...   \n",
              "24995  022-0354       7.1                  Проведение итоговой проверки МГСН   \n",
              "24996  022-0354     7.1.0                 Нетиповая задача для блока ЗОС, РВ   \n",
              "24997  022-0354     7.1.1  Формирование комплекта документов для получени...   \n",
              "24998  022-0354  7.1.1.13     Справка о выполнении и акт ТП по водоснабжению   \n",
              "24999  022-0354  7.1.1.14  Справка о выполнении и акт ТП по хозяйственно-...   \n",
              "\n",
              "       ПроцентЗавершенияЗадачи ДатаНачалаЗадачи ДатаОкончанияЗадачи  ...  \\\n",
              "20000                      0.0       2023-07-19          2023-07-26  ...   \n",
              "20001                      0.0       2023-10-03          2023-10-30  ...   \n",
              "20002                      0.0       2023-07-27          2023-08-03  ...   \n",
              "20003                      0.0       2023-10-02          2023-10-02  ...   \n",
              "20004                      0.0       2023-07-18          2023-07-18  ...   \n",
              "...                        ...              ...                 ...  ...   \n",
              "24995                      0.0       2025-05-08          2025-06-09  ...   \n",
              "24996                      0.0       2025-05-08          2025-05-08  ...   \n",
              "24997                      0.0       2025-05-08          2025-05-08  ...   \n",
              "24998                      0.0       2025-05-08          2025-05-08  ...   \n",
              "24999                      0.0       2025-05-08          2025-05-08  ...   \n",
              "\n",
              "      date_report состояние площадки  Площадь  Генпроектировщик Генподрядчик  \\\n",
              "20000  2023-02-13             Занята   9030.0                 6            0   \n",
              "20001  2023-02-13             Занята   9030.0                 6            0   \n",
              "20002  2023-02-13             Занята   9030.0                 6            0   \n",
              "20003  2023-02-13             Занята   9030.0                 6            0   \n",
              "20004  2023-02-13             Занята   9030.0                 6            0   \n",
              "...           ...                ...      ...               ...          ...   \n",
              "24995  2023-02-20             Занята  20271.0                 0            0   \n",
              "24996  2023-02-20             Занята  20271.0                 0            0   \n",
              "24997  2023-02-20             Занята  20271.0                 0            0   \n",
              "24998  2023-02-20             Занята  20271.0                 0            0   \n",
              "24999  2023-02-20             Занята  20271.0                 0            0   \n",
              "\n",
              "      Кол-во рабочих  ФактСтрокВып_дн  СтрокВыпДог_дн  \\\n",
              "20000            0.0                7               7   \n",
              "20001            0.0               27              60   \n",
              "20002            0.0                7               7   \n",
              "20003            0.0                0               0   \n",
              "20004            0.0                0               0   \n",
              "...              ...              ...             ...   \n",
              "24995            0.0               32              40   \n",
              "24996            0.0                0               0   \n",
              "24997            0.0                0               0   \n",
              "24998            0.0                0               0   \n",
              "24999            0.0                0               0   \n",
              "\n",
              "       Предсказано дн. на задачу  Отклонение от факта.дн  \n",
              "20000                         70                     -63  \n",
              "20001                         70                     -43  \n",
              "20002                         70                     -63  \n",
              "20003                         70                     -70  \n",
              "20004                         70                     -70  \n",
              "...                          ...                     ...  \n",
              "24995                         70                     -38  \n",
              "24996                         70                     -70  \n",
              "24997                         70                     -70  \n",
              "24998                         70                     -70  \n",
              "24999                         70                     -70  \n",
              "\n",
              "[5000 rows x 24 columns]"
            ],
            "text/html": [
              "\n",
              "  <div id=\"df-07a87ba7-fb5d-43a7-9115-56a729f0cfee\">\n",
              "    <div class=\"colab-df-container\">\n",
              "      <div>\n",
              "<style scoped>\n",
              "    .dataframe tbody tr th:only-of-type {\n",
              "        vertical-align: middle;\n",
              "    }\n",
              "\n",
              "    .dataframe tbody tr th {\n",
              "        vertical-align: top;\n",
              "    }\n",
              "\n",
              "    .dataframe thead th {\n",
              "        text-align: right;\n",
              "    }\n",
              "</style>\n",
              "<table border=\"1\" class=\"dataframe\">\n",
              "  <thead>\n",
              "    <tr style=\"text-align: right;\">\n",
              "      <th></th>\n",
              "      <th>Unnamed: 0</th>\n",
              "      <th>№ п/п</th>\n",
              "      <th>obj_prg</th>\n",
              "      <th>obj_subprg</th>\n",
              "      <th>obj_key</th>\n",
              "      <th>Кодзадачи</th>\n",
              "      <th>НазваниеЗадачи</th>\n",
              "      <th>ПроцентЗавершенияЗадачи</th>\n",
              "      <th>ДатаНачалаЗадачи</th>\n",
              "      <th>ДатаОкончанияЗадачи</th>\n",
              "      <th>...</th>\n",
              "      <th>date_report</th>\n",
              "      <th>состояние площадки</th>\n",
              "      <th>Площадь</th>\n",
              "      <th>Генпроектировщик</th>\n",
              "      <th>Генподрядчик</th>\n",
              "      <th>Кол-во рабочих</th>\n",
              "      <th>ФактСтрокВып_дн</th>\n",
              "      <th>СтрокВыпДог_дн</th>\n",
              "      <th>Предсказано дн. на задачу</th>\n",
              "      <th>Отклонение от факта.дн</th>\n",
              "    </tr>\n",
              "  </thead>\n",
              "  <tbody>\n",
              "    <tr>\n",
              "      <th>20000</th>\n",
              "      <td>10569</td>\n",
              "      <td>60</td>\n",
              "      <td>Образование</td>\n",
              "      <td>Общеобразовательные учреждения</td>\n",
              "      <td>019-0674</td>\n",
              "      <td>3.12</td>\n",
              "      <td>Рассмотрение проектной документации Заказчиком</td>\n",
              "      <td>0.0</td>\n",
              "      <td>2023-07-19</td>\n",
              "      <td>2023-07-26</td>\n",
              "      <td>...</td>\n",
              "      <td>2023-02-13</td>\n",
              "      <td>Занята</td>\n",
              "      <td>9030.0</td>\n",
              "      <td>6</td>\n",
              "      <td>0</td>\n",
              "      <td>0.0</td>\n",
              "      <td>7</td>\n",
              "      <td>7</td>\n",
              "      <td>70</td>\n",
              "      <td>-63</td>\n",
              "    </tr>\n",
              "    <tr>\n",
              "      <th>20001</th>\n",
              "      <td>10570</td>\n",
              "      <td>60</td>\n",
              "      <td>Образование</td>\n",
              "      <td>Общеобразовательные учреждения</td>\n",
              "      <td>019-0674</td>\n",
              "      <td>3.12</td>\n",
              "      <td>Согласование проектной документации в эксплуат...</td>\n",
              "      <td>0.0</td>\n",
              "      <td>2023-10-03</td>\n",
              "      <td>2023-10-30</td>\n",
              "      <td>...</td>\n",
              "      <td>2023-02-13</td>\n",
              "      <td>Занята</td>\n",
              "      <td>9030.0</td>\n",
              "      <td>6</td>\n",
              "      <td>0</td>\n",
              "      <td>0.0</td>\n",
              "      <td>27</td>\n",
              "      <td>60</td>\n",
              "      <td>70</td>\n",
              "      <td>-43</td>\n",
              "    </tr>\n",
              "    <tr>\n",
              "      <th>20002</th>\n",
              "      <td>10571</td>\n",
              "      <td>60</td>\n",
              "      <td>Образование</td>\n",
              "      <td>Общеобразовательные учреждения</td>\n",
              "      <td>019-0674</td>\n",
              "      <td>3.12</td>\n",
              "      <td>Устранение замечаний Заказчика по проектной до...</td>\n",
              "      <td>0.0</td>\n",
              "      <td>2023-07-27</td>\n",
              "      <td>2023-08-03</td>\n",
              "      <td>...</td>\n",
              "      <td>2023-02-13</td>\n",
              "      <td>Занята</td>\n",
              "      <td>9030.0</td>\n",
              "      <td>6</td>\n",
              "      <td>0</td>\n",
              "      <td>0.0</td>\n",
              "      <td>7</td>\n",
              "      <td>7</td>\n",
              "      <td>70</td>\n",
              "      <td>-63</td>\n",
              "    </tr>\n",
              "    <tr>\n",
              "      <th>20003</th>\n",
              "      <td>10572</td>\n",
              "      <td>60</td>\n",
              "      <td>Образование</td>\n",
              "      <td>Общеобразовательные учреждения</td>\n",
              "      <td>019-0674</td>\n",
              "      <td>3.12</td>\n",
              "      <td>Передача проектной документации Заказчику</td>\n",
              "      <td>0.0</td>\n",
              "      <td>2023-10-02</td>\n",
              "      <td>2023-10-02</td>\n",
              "      <td>...</td>\n",
              "      <td>2023-02-13</td>\n",
              "      <td>Занята</td>\n",
              "      <td>9030.0</td>\n",
              "      <td>6</td>\n",
              "      <td>0</td>\n",
              "      <td>0.0</td>\n",
              "      <td>0</td>\n",
              "      <td>0</td>\n",
              "      <td>70</td>\n",
              "      <td>-70</td>\n",
              "    </tr>\n",
              "    <tr>\n",
              "      <th>20004</th>\n",
              "      <td>10573</td>\n",
              "      <td>60</td>\n",
              "      <td>Образование</td>\n",
              "      <td>Общеобразовательные учреждения</td>\n",
              "      <td>019-0674</td>\n",
              "      <td>3.12</td>\n",
              "      <td>Передача проектной документации Заказчику на р...</td>\n",
              "      <td>0.0</td>\n",
              "      <td>2023-07-18</td>\n",
              "      <td>2023-07-18</td>\n",
              "      <td>...</td>\n",
              "      <td>2023-02-13</td>\n",
              "      <td>Занята</td>\n",
              "      <td>9030.0</td>\n",
              "      <td>6</td>\n",
              "      <td>0</td>\n",
              "      <td>0.0</td>\n",
              "      <td>0</td>\n",
              "      <td>0</td>\n",
              "      <td>70</td>\n",
              "      <td>-70</td>\n",
              "    </tr>\n",
              "    <tr>\n",
              "      <th>...</th>\n",
              "      <td>...</td>\n",
              "      <td>...</td>\n",
              "      <td>...</td>\n",
              "      <td>...</td>\n",
              "      <td>...</td>\n",
              "      <td>...</td>\n",
              "      <td>...</td>\n",
              "      <td>...</td>\n",
              "      <td>...</td>\n",
              "      <td>...</td>\n",
              "      <td>...</td>\n",
              "      <td>...</td>\n",
              "      <td>...</td>\n",
              "      <td>...</td>\n",
              "      <td>...</td>\n",
              "      <td>...</td>\n",
              "      <td>...</td>\n",
              "      <td>...</td>\n",
              "      <td>...</td>\n",
              "      <td>...</td>\n",
              "      <td>...</td>\n",
              "    </tr>\n",
              "    <tr>\n",
              "      <th>24995</th>\n",
              "      <td>53114</td>\n",
              "      <td>77</td>\n",
              "      <td>Образование</td>\n",
              "      <td>Общеобразовательные учреждения</td>\n",
              "      <td>022-0354</td>\n",
              "      <td>7.1</td>\n",
              "      <td>Проведение итоговой проверки МГСН</td>\n",
              "      <td>0.0</td>\n",
              "      <td>2025-05-08</td>\n",
              "      <td>2025-06-09</td>\n",
              "      <td>...</td>\n",
              "      <td>2023-02-20</td>\n",
              "      <td>Занята</td>\n",
              "      <td>20271.0</td>\n",
              "      <td>0</td>\n",
              "      <td>0</td>\n",
              "      <td>0.0</td>\n",
              "      <td>32</td>\n",
              "      <td>40</td>\n",
              "      <td>70</td>\n",
              "      <td>-38</td>\n",
              "    </tr>\n",
              "    <tr>\n",
              "      <th>24996</th>\n",
              "      <td>53133</td>\n",
              "      <td>77</td>\n",
              "      <td>Образование</td>\n",
              "      <td>Общеобразовательные учреждения</td>\n",
              "      <td>022-0354</td>\n",
              "      <td>7.1.0</td>\n",
              "      <td>Нетиповая задача для блока ЗОС, РВ</td>\n",
              "      <td>0.0</td>\n",
              "      <td>2025-05-08</td>\n",
              "      <td>2025-05-08</td>\n",
              "      <td>...</td>\n",
              "      <td>2023-02-20</td>\n",
              "      <td>Занята</td>\n",
              "      <td>20271.0</td>\n",
              "      <td>0</td>\n",
              "      <td>0</td>\n",
              "      <td>0.0</td>\n",
              "      <td>0</td>\n",
              "      <td>0</td>\n",
              "      <td>70</td>\n",
              "      <td>-70</td>\n",
              "    </tr>\n",
              "    <tr>\n",
              "      <th>24997</th>\n",
              "      <td>53179</td>\n",
              "      <td>77</td>\n",
              "      <td>Образование</td>\n",
              "      <td>Общеобразовательные учреждения</td>\n",
              "      <td>022-0354</td>\n",
              "      <td>7.1.1</td>\n",
              "      <td>Формирование комплекта документов для получени...</td>\n",
              "      <td>0.0</td>\n",
              "      <td>2025-05-08</td>\n",
              "      <td>2025-05-08</td>\n",
              "      <td>...</td>\n",
              "      <td>2023-02-20</td>\n",
              "      <td>Занята</td>\n",
              "      <td>20271.0</td>\n",
              "      <td>0</td>\n",
              "      <td>0</td>\n",
              "      <td>0.0</td>\n",
              "      <td>0</td>\n",
              "      <td>0</td>\n",
              "      <td>70</td>\n",
              "      <td>-70</td>\n",
              "    </tr>\n",
              "    <tr>\n",
              "      <th>24998</th>\n",
              "      <td>53234</td>\n",
              "      <td>77</td>\n",
              "      <td>Образование</td>\n",
              "      <td>Общеобразовательные учреждения</td>\n",
              "      <td>022-0354</td>\n",
              "      <td>7.1.1.13</td>\n",
              "      <td>Справка о выполнении и акт ТП по водоснабжению</td>\n",
              "      <td>0.0</td>\n",
              "      <td>2025-05-08</td>\n",
              "      <td>2025-05-08</td>\n",
              "      <td>...</td>\n",
              "      <td>2023-02-20</td>\n",
              "      <td>Занята</td>\n",
              "      <td>20271.0</td>\n",
              "      <td>0</td>\n",
              "      <td>0</td>\n",
              "      <td>0.0</td>\n",
              "      <td>0</td>\n",
              "      <td>0</td>\n",
              "      <td>70</td>\n",
              "      <td>-70</td>\n",
              "    </tr>\n",
              "    <tr>\n",
              "      <th>24999</th>\n",
              "      <td>53287</td>\n",
              "      <td>77</td>\n",
              "      <td>Образование</td>\n",
              "      <td>Общеобразовательные учреждения</td>\n",
              "      <td>022-0354</td>\n",
              "      <td>7.1.1.14</td>\n",
              "      <td>Справка о выполнении и акт ТП по хозяйственно-...</td>\n",
              "      <td>0.0</td>\n",
              "      <td>2025-05-08</td>\n",
              "      <td>2025-05-08</td>\n",
              "      <td>...</td>\n",
              "      <td>2023-02-20</td>\n",
              "      <td>Занята</td>\n",
              "      <td>20271.0</td>\n",
              "      <td>0</td>\n",
              "      <td>0</td>\n",
              "      <td>0.0</td>\n",
              "      <td>0</td>\n",
              "      <td>0</td>\n",
              "      <td>70</td>\n",
              "      <td>-70</td>\n",
              "    </tr>\n",
              "  </tbody>\n",
              "</table>\n",
              "<p>5000 rows × 24 columns</p>\n",
              "</div>\n",
              "      <button class=\"colab-df-convert\" onclick=\"convertToInteractive('df-07a87ba7-fb5d-43a7-9115-56a729f0cfee')\"\n",
              "              title=\"Convert this dataframe to an interactive table.\"\n",
              "              style=\"display:none;\">\n",
              "        \n",
              "  <svg xmlns=\"http://www.w3.org/2000/svg\" height=\"24px\"viewBox=\"0 0 24 24\"\n",
              "       width=\"24px\">\n",
              "    <path d=\"M0 0h24v24H0V0z\" fill=\"none\"/>\n",
              "    <path d=\"M18.56 5.44l.94 2.06.94-2.06 2.06-.94-2.06-.94-.94-2.06-.94 2.06-2.06.94zm-11 1L8.5 8.5l.94-2.06 2.06-.94-2.06-.94L8.5 2.5l-.94 2.06-2.06.94zm10 10l.94 2.06.94-2.06 2.06-.94-2.06-.94-.94-2.06-.94 2.06-2.06.94z\"/><path d=\"M17.41 7.96l-1.37-1.37c-.4-.4-.92-.59-1.43-.59-.52 0-1.04.2-1.43.59L10.3 9.45l-7.72 7.72c-.78.78-.78 2.05 0 2.83L4 21.41c.39.39.9.59 1.41.59.51 0 1.02-.2 1.41-.59l7.78-7.78 2.81-2.81c.8-.78.8-2.07 0-2.86zM5.41 20L4 18.59l7.72-7.72 1.47 1.35L5.41 20z\"/>\n",
              "  </svg>\n",
              "      </button>\n",
              "      \n",
              "  <style>\n",
              "    .colab-df-container {\n",
              "      display:flex;\n",
              "      flex-wrap:wrap;\n",
              "      gap: 12px;\n",
              "    }\n",
              "\n",
              "    .colab-df-convert {\n",
              "      background-color: #E8F0FE;\n",
              "      border: none;\n",
              "      border-radius: 50%;\n",
              "      cursor: pointer;\n",
              "      display: none;\n",
              "      fill: #1967D2;\n",
              "      height: 32px;\n",
              "      padding: 0 0 0 0;\n",
              "      width: 32px;\n",
              "    }\n",
              "\n",
              "    .colab-df-convert:hover {\n",
              "      background-color: #E2EBFA;\n",
              "      box-shadow: 0px 1px 2px rgba(60, 64, 67, 0.3), 0px 1px 3px 1px rgba(60, 64, 67, 0.15);\n",
              "      fill: #174EA6;\n",
              "    }\n",
              "\n",
              "    [theme=dark] .colab-df-convert {\n",
              "      background-color: #3B4455;\n",
              "      fill: #D2E3FC;\n",
              "    }\n",
              "\n",
              "    [theme=dark] .colab-df-convert:hover {\n",
              "      background-color: #434B5C;\n",
              "      box-shadow: 0px 1px 3px 1px rgba(0, 0, 0, 0.15);\n",
              "      filter: drop-shadow(0px 1px 2px rgba(0, 0, 0, 0.3));\n",
              "      fill: #FFFFFF;\n",
              "    }\n",
              "  </style>\n",
              "\n",
              "      <script>\n",
              "        const buttonEl =\n",
              "          document.querySelector('#df-07a87ba7-fb5d-43a7-9115-56a729f0cfee button.colab-df-convert');\n",
              "        buttonEl.style.display =\n",
              "          google.colab.kernel.accessAllowed ? 'block' : 'none';\n",
              "\n",
              "        async function convertToInteractive(key) {\n",
              "          const element = document.querySelector('#df-07a87ba7-fb5d-43a7-9115-56a729f0cfee');\n",
              "          const dataTable =\n",
              "            await google.colab.kernel.invokeFunction('convertToInteractive',\n",
              "                                                     [key], {});\n",
              "          if (!dataTable) return;\n",
              "\n",
              "          const docLinkHtml = 'Like what you see? Visit the ' +\n",
              "            '<a target=\"_blank\" href=https://colab.research.google.com/notebooks/data_table.ipynb>data table notebook</a>'\n",
              "            + ' to learn more about interactive tables.';\n",
              "          element.innerHTML = '';\n",
              "          dataTable['output_type'] = 'display_data';\n",
              "          await google.colab.output.renderOutput(dataTable, element);\n",
              "          const docLink = document.createElement('div');\n",
              "          docLink.innerHTML = docLinkHtml;\n",
              "          element.appendChild(docLink);\n",
              "        }\n",
              "      </script>\n",
              "    </div>\n",
              "  </div>\n",
              "  "
            ]
          },
          "metadata": {},
          "execution_count": 150
        }
      ]
    },
    {
      "cell_type": "code",
      "source": [
        "# Сохраняем файл\n",
        "pred_df.to_excel('/content/drive/MyDrive/4. Кейс №2 Дип.г.Москва/pred_df.xlsx', index=False)"
      ],
      "metadata": {
        "id": "JMLxPaxWzBUn"
      },
      "execution_count": null,
      "outputs": []
    },
    {
      "cell_type": "markdown",
      "source": [
        "# Была использована библиотека для подбора архитектуры НС в автоматическом режиме AutoKeras\n",
        "\n",
        "**Из за времени, не удалось реализовать предикт тестового датасета и его адаптацию**"
      ],
      "metadata": {
        "id": "R9orppG95LtA"
      }
    },
    {
      "cell_type": "markdown",
      "source": [
        "## Подготовка текстовых данных АК"
      ],
      "metadata": {
        "id": "iAcG6CYwiKm2"
      }
    },
    {
      "cell_type": "code",
      "source": [
        "len(merged_df['obj_tasks_subprg'])"
      ],
      "metadata": {
        "colab": {
          "base_uri": "https://localhost:8080/"
        },
        "id": "zm_1MZQyiWMJ",
        "outputId": "02caa0dc-8566-46a5-bda4-c4eb63f237f0"
      },
      "execution_count": null,
      "outputs": [
        {
          "output_type": "execute_result",
          "data": {
            "text/plain": [
              "387152"
            ]
          },
          "metadata": {},
          "execution_count": 21
        }
      ]
    },
    {
      "cell_type": "code",
      "source": [
        "# сохраним все тексты в отдельный список\n",
        "texts_all=[]\n",
        "for i in range(len(merged_df['obj_tasks_subprg'])):\n",
        "    last_element = merged_df['obj_tasks_subprg'][i]\n",
        "    texts_all.append(last_element)"
      ],
      "metadata": {
        "id": "WlSB2ZKRiQP6"
      },
      "execution_count": null,
      "outputs": []
    },
    {
      "cell_type": "code",
      "source": [
        "texts_all[:10]"
      ],
      "metadata": {
        "colab": {
          "base_uri": "https://localhost:8080/"
        },
        "id": "VIbZ1PozitMU",
        "outputId": "8bae51ce-92a6-4ea7-f5bb-82f12a7fe0c9"
      },
      "execution_count": null,
      "outputs": [
        {
          "output_type": "execute_result",
          "data": {
            "text/plain": [
              "['Образование Общеобразовательные учреждения 1 Предпроектные работы Занята',\n",
              " 'Образование Общеобразовательные учреждения 1.0 Нетиповая задача для блока Предпроектные работы Занята',\n",
              " 'Образование Общеобразовательные учреждения 1.1 Объект включен в АИП Занята',\n",
              " 'Образование Общеобразовательные учреждения 1.2 Выпуск ГПЗУ Занята',\n",
              " 'Образование Общеобразовательные учреждения 1.2.1 Подача заявки на получение ГПЗУ Занята',\n",
              " 'Образование Общеобразовательные учреждения 1.2.2 Получение ГПЗУ Занята',\n",
              " 'Образование Общеобразовательные учреждения 1.2.3 ГПЗУ получено Занята',\n",
              " 'Образование Общеобразовательные учреждения 1.3 Корректировка МТЗ Занята',\n",
              " 'Образование Общеобразовательные учреждения 1.3.1 Получение МТЗ Занята',\n",
              " 'Образование Общеобразовательные учреждения 1.3.2 Корректировка МТЗ Занята']"
            ]
          },
          "metadata": {},
          "execution_count": 23
        }
      ]
    },
    {
      "cell_type": "code",
      "source": [
        "print(len(texts_all))\n",
        "texts_all_np = np.array(texts_all[:20000], dtype='<U9455')"
      ],
      "metadata": {
        "colab": {
          "base_uri": "https://localhost:8080/"
        },
        "id": "V93Rzkeri9T-",
        "outputId": "63b22926-ce02-489f-f68c-6eb98bac65a9"
      },
      "execution_count": null,
      "outputs": [
        {
          "output_type": "stream",
          "name": "stdout",
          "text": [
            "387152\n"
          ]
        }
      ]
    },
    {
      "cell_type": "code",
      "source": [
        "texts_all_np"
      ],
      "metadata": {
        "colab": {
          "base_uri": "https://localhost:8080/"
        },
        "id": "pipgE6iXi_cr",
        "outputId": "40e501c5-fedd-49b5-aae4-71c3a0619902"
      },
      "execution_count": null,
      "outputs": [
        {
          "output_type": "execute_result",
          "data": {
            "text/plain": [
              "array(['Образование Общеобразовательные учреждения 1 Предпроектные работы Занята',\n",
              "       'Образование Общеобразовательные учреждения 1.0 Нетиповая задача для блока Предпроектные работы Занята',\n",
              "       'Образование Общеобразовательные учреждения 1.1 Объект включен в АИП Занята',\n",
              "       ...,\n",
              "       'Образование Общеобразовательные учреждения 3.11.8  Раздел 7. Проект организации работ по сносу или демонтажу объектов капитального строительства Занята',\n",
              "       'Образование Общеобразовательные учреждения 3.11.9  Раздел 8. Перечень мероприятий по охране окружающей среды Занята',\n",
              "       'Образование Общеобразовательные учреждения 3.11.9  Раздел 8. Перечень мероприятий по охране окружающей среды Занята'],\n",
              "      dtype='<U9455')"
            ]
          },
          "metadata": {},
          "execution_count": 88
        }
      ]
    },
    {
      "cell_type": "markdown",
      "source": [
        "## Предобрабатываем числовые данные"
      ],
      "metadata": {
        "id": "vILKau5Iaxdg"
      }
    },
    {
      "cell_type": "code",
      "source": [
        "# Переводим данные столбцов в формат float\n",
        "merged_df[['ПроцентЗавершенияЗадачи', 'Статуспоэкспертизе', 'Экспертиза', 'Площадь', 'Генпроектировщик', 'Генподрядчик', 'Кол-во рабочих']] = merged_df[['ПроцентЗавершенияЗадачи', 'Статуспоэкспертизе', 'Экспертиза', 'Площадь', 'Генпроектировщик', 'Генподрядчик', 'Кол-во рабочих']].astype('Float64') #info()"
      ],
      "metadata": {
        "id": "RyTVKmZEebJI"
      },
      "execution_count": null,
      "outputs": []
    },
    {
      "cell_type": "code",
      "source": [
        "x_train2_ak = np.array(merged_df[['ПроцентЗавершенияЗадачи', 'Статуспоэкспертизе', 'Экспертиза', 'Площадь', 'Генпроектировщик', 'Генподрядчик', 'Кол-во рабочих']][:20000])"
      ],
      "metadata": {
        "id": "AhDnt1tWa4Cq"
      },
      "execution_count": null,
      "outputs": []
    },
    {
      "cell_type": "code",
      "source": [
        "# В качестве нормализации данных используем готовую библиотеку\n",
        "xScaler = StandardScaler()\n",
        "\n",
        "# Скармливаем объекту двумерный вектор\n",
        "xScaler.fit(x_train2_ak.reshape(-1, 1))\n",
        "\n",
        "# Нормализуем по нормальному распределению\n",
        "xTrainScaled = xScaler.transform(x_train2_ak.reshape(-1, 1))\n",
        "\n",
        "print(xTrainScaled.shape)\n",
        "print(x_train2_ak[1])\n",
        "print(xTrainScaled[1])"
      ],
      "metadata": {
        "colab": {
          "base_uri": "https://localhost:8080/"
        },
        "id": "YTE68T829aQC",
        "outputId": "5944fb47-2967-48db-e151-b15e2364fd72"
      },
      "execution_count": null,
      "outputs": [
        {
          "output_type": "stream",
          "name": "stdout",
          "text": [
            "(140000, 1)\n",
            "[0.0 0.0 0.0 6800.0 0.0 0.0 0.0]\n",
            "[-0.37814656]\n"
          ]
        }
      ]
    },
    {
      "cell_type": "code",
      "source": [
        "yTrain_ak = np.array(merged_df['ФактСтрокВып_дн'][:20000])"
      ],
      "metadata": {
        "id": "ZmHsKM5Q-EAC"
      },
      "execution_count": null,
      "outputs": []
    },
    {
      "cell_type": "code",
      "source": [
        "# В качестве нормализации данных используем готовую библиотеку\n",
        "yScaler = StandardScaler()\n",
        "\n",
        "# Скармливаем объекту двумерный вектор\n",
        "yScaler.fit(yTrain_ak.reshape(-1, 1))\n",
        "\n",
        "# Нормализуем по нормальному распределению\n",
        "yTrainScaled = yScaler.transform(yTrain_ak.reshape(-1, 1))\n",
        "\n",
        "print(yTrainScaled.shape)\n",
        "print(yTrain_ak[1])\n",
        "print(yTrainScaled[1])"
      ],
      "metadata": {
        "colab": {
          "base_uri": "https://localhost:8080/"
        },
        "id": "fk6TTUDr-Hqy",
        "outputId": "09580b8b-b671-4612-bf99-29241cf71619"
      },
      "execution_count": null,
      "outputs": [
        {
          "output_type": "stream",
          "name": "stdout",
          "text": [
            "(20000, 1)\n",
            "0\n",
            "[-0.5860595]\n"
          ]
        }
      ]
    },
    {
      "cell_type": "markdown",
      "source": [
        "## AutoKeras"
      ],
      "metadata": {
        "id": "-u5ogO4SdQqp"
      }
    },
    {
      "cell_type": "code",
      "source": [
        "!pip install autokeras"
      ],
      "metadata": {
        "id": "U3BU3wL4dTT2"
      },
      "execution_count": null,
      "outputs": []
    },
    {
      "cell_type": "code",
      "source": [
        "import autokeras as ak"
      ],
      "metadata": {
        "id": "V1hrnUGodYaO"
      },
      "execution_count": null,
      "outputs": []
    },
    {
      "cell_type": "code",
      "source": [
        "#xTrain_text_ak = np.array(train_text)\n",
        "#x_train2_ak = np.array(merged_df[['ПроцентЗавершенияЗадачи', 'Статуспоэкспертизе', 'Экспертиза', 'Площадь', 'Генпроектировщик', 'Генподрядчик', 'Кол-во рабочих']])\n",
        "#yTrain_ak = np.array(merged_df['ФактСтрокВып_дн'][:20000])"
      ],
      "metadata": {
        "id": "dRgLaak6fteL"
      },
      "execution_count": null,
      "outputs": []
    },
    {
      "cell_type": "code",
      "source": [
        "# Инициализация модели с несколькими входными и выходными данными.\n",
        "model = ak.AutoModel(\n",
        "    inputs=[ak.TextInput(), ak.StructuredDataInput()],\n",
        "    outputs=[\n",
        "        ak.RegressionHead(metrics=[\"mae\"])\n",
        "    ],\n",
        "    overwrite=True,\n",
        "    max_trials=10,\n",
        ")\n",
        "# Обучаем модель на подготовленных данных.\n",
        "model.fit(\n",
        "    [texts_all_np, x_train2_ak],\n",
        "    yTrain_ak,\n",
        "    epochs=3,\n",
        ")\n",
        "# Обучаем модель на подготовленных данных.\n",
        "#model.fit(\n",
        "#    [texts_all_np, xTrainScaled],\n",
        "#    yTrainScaled,\n",
        "#    epochs=3,\n",
        "#)"
      ],
      "metadata": {
        "colab": {
          "base_uri": "https://localhost:8080/",
          "height": 1000
        },
        "id": "z0BVE3dPdaMR",
        "outputId": "cc5967a4-2a6a-4b52-ba3b-35a08caba7b3"
      },
      "execution_count": null,
      "outputs": [
        {
          "output_type": "stream",
          "name": "stdout",
          "text": [
            "Trial 2 Complete [00h 01m 02s]\n",
            "val_loss: 0.7494979500770569\n",
            "\n",
            "Best val_loss So Far: 0.6195790767669678\n",
            "Total elapsed time: 00h 02m 12s\n",
            "\n",
            "Search: Running Trial #3\n",
            "\n",
            "Value             |Best Value So Far |Hyperparameter\n",
            "vanilla           |vanilla           |text_block_1/block_type\n",
            "5000              |5000              |text_block_1/max_tokens\n",
            "64                |64                |text_block_1/text_to_int_sequence_1/output_sequence_length\n",
            "none              |none              |text_block_1/embedding_1/pretraining\n",
            "128               |128               |text_block_1/embedding_1/embedding_dim\n",
            "0.25              |0.25              |text_block_1/embedding_1/dropout\n",
            "3                 |3                 |text_block_1/conv_block_1/kernel_size\n",
            "False             |False             |text_block_1/conv_block_1/separable\n",
            "True              |True              |text_block_1/conv_block_1/max_pooling\n",
            "2                 |2                 |text_block_1/conv_block_1/num_blocks\n",
            "2                 |2                 |text_block_1/conv_block_1/num_layers\n",
            "32                |32                |text_block_1/conv_block_1/filters_0_0\n",
            "256               |32                |text_block_1/conv_block_1/filters_0_1\n",
            "0                 |0                 |text_block_1/conv_block_1/dropout\n",
            "32                |32                |text_block_1/conv_block_1/filters_1_0\n",
            "32                |32                |text_block_1/conv_block_1/filters_1_1\n",
            "flatten           |flatten           |text_block_1/spatial_reduction_1/reduction_type\n",
            "False             |False             |text_block_1/dense_block_1/use_batchnorm\n",
            "2                 |2                 |text_block_1/dense_block_1/num_layers\n",
            "32                |32                |text_block_1/dense_block_1/units_0\n",
            "0                 |0                 |text_block_1/dense_block_1/dropout\n",
            "32                |32                |text_block_1/dense_block_1/units_1\n",
            "True              |True              |structured_data_block_1/normalize\n",
            "False             |False             |structured_data_block_1/dense_block_2/use_batchnorm\n",
            "2                 |2                 |structured_data_block_1/dense_block_2/num_layers\n",
            "32                |32                |structured_data_block_1/dense_block_2/units_0\n",
            "0                 |0                 |structured_data_block_1/dense_block_2/dropout\n",
            "32                |32                |structured_data_block_1/dense_block_2/units_1\n",
            "add               |add               |merge_1/merge_type\n",
            "0                 |0                 |regression_head_1/dropout\n",
            "adam              |adam              |optimizer\n",
            "0.001             |0.001             |learning_rate\n",
            "\n",
            "Epoch 1/3\n",
            "500/500 [==============================] - 27s 49ms/step - loss: 0.7854 - mae: 0.5233 - val_loss: 0.8310 - val_mae: 0.6036\n",
            "Epoch 2/3\n",
            "474/500 [===========================>..] - ETA: 1s - loss: 0.6189 - mae: 0.4376"
          ]
        },
        {
          "output_type": "error",
          "ename": "KeyboardInterrupt",
          "evalue": "ignored",
          "traceback": [
            "\u001b[0;31m---------------------------------------------------------------------------\u001b[0m",
            "\u001b[0;31mKeyboardInterrupt\u001b[0m                         Traceback (most recent call last)",
            "\u001b[0;32m<ipython-input-37-f3ebca5235bf>\u001b[0m in \u001b[0;36m<cell line: 17>\u001b[0;34m()\u001b[0m\n\u001b[1;32m     15\u001b[0m \u001b[0;31m#)\u001b[0m\u001b[0;34m\u001b[0m\u001b[0;34m\u001b[0m\u001b[0m\n\u001b[1;32m     16\u001b[0m \u001b[0;31m# Обучаем модель на подготовленных данных.\u001b[0m\u001b[0;34m\u001b[0m\u001b[0;34m\u001b[0m\u001b[0m\n\u001b[0;32m---> 17\u001b[0;31m model.fit(\n\u001b[0m\u001b[1;32m     18\u001b[0m     \u001b[0;34m[\u001b[0m\u001b[0mtexts_all_np\u001b[0m\u001b[0;34m,\u001b[0m \u001b[0mxTrainScaled\u001b[0m\u001b[0;34m]\u001b[0m\u001b[0;34m,\u001b[0m\u001b[0;34m\u001b[0m\u001b[0;34m\u001b[0m\u001b[0m\n\u001b[1;32m     19\u001b[0m     \u001b[0myTrainScaled\u001b[0m\u001b[0;34m,\u001b[0m\u001b[0;34m\u001b[0m\u001b[0;34m\u001b[0m\u001b[0m\n",
            "\u001b[0;32m/usr/local/lib/python3.10/dist-packages/autokeras/auto_model.py\u001b[0m in \u001b[0;36mfit\u001b[0;34m(self, x, y, batch_size, epochs, callbacks, validation_split, validation_data, verbose, **kwargs)\u001b[0m\n\u001b[1;32m    290\u001b[0m             )\n\u001b[1;32m    291\u001b[0m \u001b[0;34m\u001b[0m\u001b[0m\n\u001b[0;32m--> 292\u001b[0;31m         history = self.tuner.search(\n\u001b[0m\u001b[1;32m    293\u001b[0m             \u001b[0mx\u001b[0m\u001b[0;34m=\u001b[0m\u001b[0mdataset\u001b[0m\u001b[0;34m,\u001b[0m\u001b[0;34m\u001b[0m\u001b[0;34m\u001b[0m\u001b[0m\n\u001b[1;32m    294\u001b[0m             \u001b[0mepochs\u001b[0m\u001b[0;34m=\u001b[0m\u001b[0mepochs\u001b[0m\u001b[0;34m,\u001b[0m\u001b[0;34m\u001b[0m\u001b[0;34m\u001b[0m\u001b[0m\n",
            "\u001b[0;32m/usr/local/lib/python3.10/dist-packages/autokeras/engine/tuner.py\u001b[0m in \u001b[0;36msearch\u001b[0;34m(self, epochs, callbacks, validation_split, verbose, **fit_kwargs)\u001b[0m\n\u001b[1;32m    191\u001b[0m         \u001b[0mself\u001b[0m\u001b[0;34m.\u001b[0m\u001b[0m_try_build\u001b[0m\u001b[0;34m(\u001b[0m\u001b[0mhp\u001b[0m\u001b[0;34m)\u001b[0m\u001b[0;34m\u001b[0m\u001b[0;34m\u001b[0m\u001b[0m\n\u001b[1;32m    192\u001b[0m         \u001b[0mself\u001b[0m\u001b[0;34m.\u001b[0m\u001b[0moracle\u001b[0m\u001b[0;34m.\u001b[0m\u001b[0mupdate_space\u001b[0m\u001b[0;34m(\u001b[0m\u001b[0mhp\u001b[0m\u001b[0;34m)\u001b[0m\u001b[0;34m\u001b[0m\u001b[0;34m\u001b[0m\u001b[0m\n\u001b[0;32m--> 193\u001b[0;31m         super().search(\n\u001b[0m\u001b[1;32m    194\u001b[0m             \u001b[0mepochs\u001b[0m\u001b[0;34m=\u001b[0m\u001b[0mepochs\u001b[0m\u001b[0;34m,\u001b[0m \u001b[0mcallbacks\u001b[0m\u001b[0;34m=\u001b[0m\u001b[0mnew_callbacks\u001b[0m\u001b[0;34m,\u001b[0m \u001b[0mverbose\u001b[0m\u001b[0;34m=\u001b[0m\u001b[0mverbose\u001b[0m\u001b[0;34m,\u001b[0m \u001b[0;34m**\u001b[0m\u001b[0mfit_kwargs\u001b[0m\u001b[0;34m\u001b[0m\u001b[0;34m\u001b[0m\u001b[0m\n\u001b[1;32m    195\u001b[0m         )\n",
            "\u001b[0;32m/usr/local/lib/python3.10/dist-packages/keras_tuner/engine/base_tuner.py\u001b[0m in \u001b[0;36msearch\u001b[0;34m(self, *fit_args, **fit_kwargs)\u001b[0m\n\u001b[1;32m    228\u001b[0m \u001b[0;34m\u001b[0m\u001b[0m\n\u001b[1;32m    229\u001b[0m             \u001b[0mself\u001b[0m\u001b[0;34m.\u001b[0m\u001b[0mon_trial_begin\u001b[0m\u001b[0;34m(\u001b[0m\u001b[0mtrial\u001b[0m\u001b[0;34m)\u001b[0m\u001b[0;34m\u001b[0m\u001b[0;34m\u001b[0m\u001b[0m\n\u001b[0;32m--> 230\u001b[0;31m             \u001b[0mself\u001b[0m\u001b[0;34m.\u001b[0m\u001b[0m_try_run_and_update_trial\u001b[0m\u001b[0;34m(\u001b[0m\u001b[0mtrial\u001b[0m\u001b[0;34m,\u001b[0m \u001b[0;34m*\u001b[0m\u001b[0mfit_args\u001b[0m\u001b[0;34m,\u001b[0m \u001b[0;34m**\u001b[0m\u001b[0mfit_kwargs\u001b[0m\u001b[0;34m)\u001b[0m\u001b[0;34m\u001b[0m\u001b[0;34m\u001b[0m\u001b[0m\n\u001b[0m\u001b[1;32m    231\u001b[0m             \u001b[0mself\u001b[0m\u001b[0;34m.\u001b[0m\u001b[0mon_trial_end\u001b[0m\u001b[0;34m(\u001b[0m\u001b[0mtrial\u001b[0m\u001b[0;34m)\u001b[0m\u001b[0;34m\u001b[0m\u001b[0;34m\u001b[0m\u001b[0m\n\u001b[1;32m    232\u001b[0m         \u001b[0mself\u001b[0m\u001b[0;34m.\u001b[0m\u001b[0mon_search_end\u001b[0m\u001b[0;34m(\u001b[0m\u001b[0;34m)\u001b[0m\u001b[0;34m\u001b[0m\u001b[0;34m\u001b[0m\u001b[0m\n",
            "\u001b[0;32m/usr/local/lib/python3.10/dist-packages/keras_tuner/engine/base_tuner.py\u001b[0m in \u001b[0;36m_try_run_and_update_trial\u001b[0;34m(self, trial, *fit_args, **fit_kwargs)\u001b[0m\n\u001b[1;32m    268\u001b[0m     \u001b[0;32mdef\u001b[0m \u001b[0m_try_run_and_update_trial\u001b[0m\u001b[0;34m(\u001b[0m\u001b[0mself\u001b[0m\u001b[0;34m,\u001b[0m \u001b[0mtrial\u001b[0m\u001b[0;34m,\u001b[0m \u001b[0;34m*\u001b[0m\u001b[0mfit_args\u001b[0m\u001b[0;34m,\u001b[0m \u001b[0;34m**\u001b[0m\u001b[0mfit_kwargs\u001b[0m\u001b[0;34m)\u001b[0m\u001b[0;34m:\u001b[0m\u001b[0;34m\u001b[0m\u001b[0;34m\u001b[0m\u001b[0m\n\u001b[1;32m    269\u001b[0m         \u001b[0;32mtry\u001b[0m\u001b[0;34m:\u001b[0m\u001b[0;34m\u001b[0m\u001b[0;34m\u001b[0m\u001b[0m\n\u001b[0;32m--> 270\u001b[0;31m             \u001b[0mself\u001b[0m\u001b[0;34m.\u001b[0m\u001b[0m_run_and_update_trial\u001b[0m\u001b[0;34m(\u001b[0m\u001b[0mtrial\u001b[0m\u001b[0;34m,\u001b[0m \u001b[0;34m*\u001b[0m\u001b[0mfit_args\u001b[0m\u001b[0;34m,\u001b[0m \u001b[0;34m**\u001b[0m\u001b[0mfit_kwargs\u001b[0m\u001b[0;34m)\u001b[0m\u001b[0;34m\u001b[0m\u001b[0;34m\u001b[0m\u001b[0m\n\u001b[0m\u001b[1;32m    271\u001b[0m             \u001b[0mtrial\u001b[0m\u001b[0;34m.\u001b[0m\u001b[0mstatus\u001b[0m \u001b[0;34m=\u001b[0m \u001b[0mtrial_module\u001b[0m\u001b[0;34m.\u001b[0m\u001b[0mTrialStatus\u001b[0m\u001b[0;34m.\u001b[0m\u001b[0mCOMPLETED\u001b[0m\u001b[0;34m\u001b[0m\u001b[0;34m\u001b[0m\u001b[0m\n\u001b[1;32m    272\u001b[0m             \u001b[0;32mreturn\u001b[0m\u001b[0;34m\u001b[0m\u001b[0;34m\u001b[0m\u001b[0m\n",
            "\u001b[0;32m/usr/local/lib/python3.10/dist-packages/keras_tuner/engine/base_tuner.py\u001b[0m in \u001b[0;36m_run_and_update_trial\u001b[0;34m(self, trial, *fit_args, **fit_kwargs)\u001b[0m\n\u001b[1;32m    233\u001b[0m \u001b[0;34m\u001b[0m\u001b[0m\n\u001b[1;32m    234\u001b[0m     \u001b[0;32mdef\u001b[0m \u001b[0m_run_and_update_trial\u001b[0m\u001b[0;34m(\u001b[0m\u001b[0mself\u001b[0m\u001b[0;34m,\u001b[0m \u001b[0mtrial\u001b[0m\u001b[0;34m,\u001b[0m \u001b[0;34m*\u001b[0m\u001b[0mfit_args\u001b[0m\u001b[0;34m,\u001b[0m \u001b[0;34m**\u001b[0m\u001b[0mfit_kwargs\u001b[0m\u001b[0;34m)\u001b[0m\u001b[0;34m:\u001b[0m\u001b[0;34m\u001b[0m\u001b[0;34m\u001b[0m\u001b[0m\n\u001b[0;32m--> 235\u001b[0;31m         \u001b[0mresults\u001b[0m \u001b[0;34m=\u001b[0m \u001b[0mself\u001b[0m\u001b[0;34m.\u001b[0m\u001b[0mrun_trial\u001b[0m\u001b[0;34m(\u001b[0m\u001b[0mtrial\u001b[0m\u001b[0;34m,\u001b[0m \u001b[0;34m*\u001b[0m\u001b[0mfit_args\u001b[0m\u001b[0;34m,\u001b[0m \u001b[0;34m**\u001b[0m\u001b[0mfit_kwargs\u001b[0m\u001b[0;34m)\u001b[0m\u001b[0;34m\u001b[0m\u001b[0;34m\u001b[0m\u001b[0m\n\u001b[0m\u001b[1;32m    236\u001b[0m         if self.oracle.get_trial(trial.trial_id).metrics.exists(\n\u001b[1;32m    237\u001b[0m             \u001b[0mself\u001b[0m\u001b[0;34m.\u001b[0m\u001b[0moracle\u001b[0m\u001b[0;34m.\u001b[0m\u001b[0mobjective\u001b[0m\u001b[0;34m.\u001b[0m\u001b[0mname\u001b[0m\u001b[0;34m\u001b[0m\u001b[0;34m\u001b[0m\u001b[0m\n",
            "\u001b[0;32m/usr/local/lib/python3.10/dist-packages/keras_tuner/engine/tuner.py\u001b[0m in \u001b[0;36mrun_trial\u001b[0;34m(self, trial, *args, **kwargs)\u001b[0m\n\u001b[1;32m    285\u001b[0m             \u001b[0mcallbacks\u001b[0m\u001b[0;34m.\u001b[0m\u001b[0mappend\u001b[0m\u001b[0;34m(\u001b[0m\u001b[0mmodel_checkpoint\u001b[0m\u001b[0;34m)\u001b[0m\u001b[0;34m\u001b[0m\u001b[0;34m\u001b[0m\u001b[0m\n\u001b[1;32m    286\u001b[0m             \u001b[0mcopied_kwargs\u001b[0m\u001b[0;34m[\u001b[0m\u001b[0;34m\"callbacks\"\u001b[0m\u001b[0;34m]\u001b[0m \u001b[0;34m=\u001b[0m \u001b[0mcallbacks\u001b[0m\u001b[0;34m\u001b[0m\u001b[0;34m\u001b[0m\u001b[0m\n\u001b[0;32m--> 287\u001b[0;31m             \u001b[0mobj_value\u001b[0m \u001b[0;34m=\u001b[0m \u001b[0mself\u001b[0m\u001b[0;34m.\u001b[0m\u001b[0m_build_and_fit_model\u001b[0m\u001b[0;34m(\u001b[0m\u001b[0mtrial\u001b[0m\u001b[0;34m,\u001b[0m \u001b[0;34m*\u001b[0m\u001b[0margs\u001b[0m\u001b[0;34m,\u001b[0m \u001b[0;34m**\u001b[0m\u001b[0mcopied_kwargs\u001b[0m\u001b[0;34m)\u001b[0m\u001b[0;34m\u001b[0m\u001b[0;34m\u001b[0m\u001b[0m\n\u001b[0m\u001b[1;32m    288\u001b[0m \u001b[0;34m\u001b[0m\u001b[0m\n\u001b[1;32m    289\u001b[0m             \u001b[0mhistories\u001b[0m\u001b[0;34m.\u001b[0m\u001b[0mappend\u001b[0m\u001b[0;34m(\u001b[0m\u001b[0mobj_value\u001b[0m\u001b[0;34m)\u001b[0m\u001b[0;34m\u001b[0m\u001b[0;34m\u001b[0m\u001b[0m\n",
            "\u001b[0;32m/usr/local/lib/python3.10/dist-packages/autokeras/engine/tuner.py\u001b[0m in \u001b[0;36m_build_and_fit_model\u001b[0;34m(self, trial, *args, **kwargs)\u001b[0m\n\u001b[1;32m     99\u001b[0m         \u001b[0mself\u001b[0m\u001b[0;34m.\u001b[0m\u001b[0madapt\u001b[0m\u001b[0;34m(\u001b[0m\u001b[0mmodel\u001b[0m\u001b[0;34m,\u001b[0m \u001b[0mkwargs\u001b[0m\u001b[0;34m[\u001b[0m\u001b[0;34m\"x\"\u001b[0m\u001b[0;34m]\u001b[0m\u001b[0;34m)\u001b[0m\u001b[0;34m\u001b[0m\u001b[0;34m\u001b[0m\u001b[0m\n\u001b[1;32m    100\u001b[0m \u001b[0;34m\u001b[0m\u001b[0m\n\u001b[0;32m--> 101\u001b[0;31m         _, history = utils.fit_with_adaptive_batch_size(\n\u001b[0m\u001b[1;32m    102\u001b[0m             \u001b[0mmodel\u001b[0m\u001b[0;34m,\u001b[0m \u001b[0mself\u001b[0m\u001b[0;34m.\u001b[0m\u001b[0mhypermodel\u001b[0m\u001b[0;34m.\u001b[0m\u001b[0mbatch_size\u001b[0m\u001b[0;34m,\u001b[0m \u001b[0;34m**\u001b[0m\u001b[0mkwargs\u001b[0m\u001b[0;34m\u001b[0m\u001b[0;34m\u001b[0m\u001b[0m\n\u001b[1;32m    103\u001b[0m         )\n",
            "\u001b[0;32m/usr/local/lib/python3.10/dist-packages/autokeras/utils/utils.py\u001b[0m in \u001b[0;36mfit_with_adaptive_batch_size\u001b[0;34m(model, batch_size, **fit_kwargs)\u001b[0m\n\u001b[1;32m     86\u001b[0m \u001b[0;34m\u001b[0m\u001b[0m\n\u001b[1;32m     87\u001b[0m \u001b[0;32mdef\u001b[0m \u001b[0mfit_with_adaptive_batch_size\u001b[0m\u001b[0;34m(\u001b[0m\u001b[0mmodel\u001b[0m\u001b[0;34m,\u001b[0m \u001b[0mbatch_size\u001b[0m\u001b[0;34m,\u001b[0m \u001b[0;34m**\u001b[0m\u001b[0mfit_kwargs\u001b[0m\u001b[0;34m)\u001b[0m\u001b[0;34m:\u001b[0m\u001b[0;34m\u001b[0m\u001b[0;34m\u001b[0m\u001b[0m\n\u001b[0;32m---> 88\u001b[0;31m     history = run_with_adaptive_batch_size(\n\u001b[0m\u001b[1;32m     89\u001b[0m         \u001b[0mbatch_size\u001b[0m\u001b[0;34m,\u001b[0m \u001b[0;32mlambda\u001b[0m \u001b[0;34m**\u001b[0m\u001b[0mkwargs\u001b[0m\u001b[0;34m:\u001b[0m \u001b[0mmodel\u001b[0m\u001b[0;34m.\u001b[0m\u001b[0mfit\u001b[0m\u001b[0;34m(\u001b[0m\u001b[0;34m**\u001b[0m\u001b[0mkwargs\u001b[0m\u001b[0;34m)\u001b[0m\u001b[0;34m,\u001b[0m \u001b[0;34m**\u001b[0m\u001b[0mfit_kwargs\u001b[0m\u001b[0;34m\u001b[0m\u001b[0;34m\u001b[0m\u001b[0m\n\u001b[1;32m     90\u001b[0m     )\n",
            "\u001b[0;32m/usr/local/lib/python3.10/dist-packages/autokeras/utils/utils.py\u001b[0m in \u001b[0;36mrun_with_adaptive_batch_size\u001b[0;34m(batch_size, func, **fit_kwargs)\u001b[0m\n\u001b[1;32m     99\u001b[0m     \u001b[0;32mwhile\u001b[0m \u001b[0mbatch_size\u001b[0m \u001b[0;34m>\u001b[0m \u001b[0;36m0\u001b[0m\u001b[0;34m:\u001b[0m\u001b[0;34m\u001b[0m\u001b[0;34m\u001b[0m\u001b[0m\n\u001b[1;32m    100\u001b[0m         \u001b[0;32mtry\u001b[0m\u001b[0;34m:\u001b[0m\u001b[0;34m\u001b[0m\u001b[0;34m\u001b[0m\u001b[0m\n\u001b[0;32m--> 101\u001b[0;31m             \u001b[0mhistory\u001b[0m \u001b[0;34m=\u001b[0m \u001b[0mfunc\u001b[0m\u001b[0;34m(\u001b[0m\u001b[0mx\u001b[0m\u001b[0;34m=\u001b[0m\u001b[0mx\u001b[0m\u001b[0;34m,\u001b[0m \u001b[0mvalidation_data\u001b[0m\u001b[0;34m=\u001b[0m\u001b[0mvalidation_data\u001b[0m\u001b[0;34m,\u001b[0m \u001b[0;34m**\u001b[0m\u001b[0mfit_kwargs\u001b[0m\u001b[0;34m)\u001b[0m\u001b[0;34m\u001b[0m\u001b[0;34m\u001b[0m\u001b[0m\n\u001b[0m\u001b[1;32m    102\u001b[0m             \u001b[0;32mbreak\u001b[0m\u001b[0;34m\u001b[0m\u001b[0;34m\u001b[0m\u001b[0m\n\u001b[1;32m    103\u001b[0m         \u001b[0;32mexcept\u001b[0m \u001b[0mtf\u001b[0m\u001b[0;34m.\u001b[0m\u001b[0merrors\u001b[0m\u001b[0;34m.\u001b[0m\u001b[0mResourceExhaustedError\u001b[0m \u001b[0;32mas\u001b[0m \u001b[0me\u001b[0m\u001b[0;34m:\u001b[0m\u001b[0;34m\u001b[0m\u001b[0;34m\u001b[0m\u001b[0m\n",
            "\u001b[0;32m/usr/local/lib/python3.10/dist-packages/autokeras/utils/utils.py\u001b[0m in \u001b[0;36m<lambda>\u001b[0;34m(**kwargs)\u001b[0m\n\u001b[1;32m     87\u001b[0m \u001b[0;32mdef\u001b[0m \u001b[0mfit_with_adaptive_batch_size\u001b[0m\u001b[0;34m(\u001b[0m\u001b[0mmodel\u001b[0m\u001b[0;34m,\u001b[0m \u001b[0mbatch_size\u001b[0m\u001b[0;34m,\u001b[0m \u001b[0;34m**\u001b[0m\u001b[0mfit_kwargs\u001b[0m\u001b[0;34m)\u001b[0m\u001b[0;34m:\u001b[0m\u001b[0;34m\u001b[0m\u001b[0;34m\u001b[0m\u001b[0m\n\u001b[1;32m     88\u001b[0m     history = run_with_adaptive_batch_size(\n\u001b[0;32m---> 89\u001b[0;31m         \u001b[0mbatch_size\u001b[0m\u001b[0;34m,\u001b[0m \u001b[0;32mlambda\u001b[0m \u001b[0;34m**\u001b[0m\u001b[0mkwargs\u001b[0m\u001b[0;34m:\u001b[0m \u001b[0mmodel\u001b[0m\u001b[0;34m.\u001b[0m\u001b[0mfit\u001b[0m\u001b[0;34m(\u001b[0m\u001b[0;34m**\u001b[0m\u001b[0mkwargs\u001b[0m\u001b[0;34m)\u001b[0m\u001b[0;34m,\u001b[0m \u001b[0;34m**\u001b[0m\u001b[0mfit_kwargs\u001b[0m\u001b[0;34m\u001b[0m\u001b[0;34m\u001b[0m\u001b[0m\n\u001b[0m\u001b[1;32m     90\u001b[0m     )\n\u001b[1;32m     91\u001b[0m     \u001b[0;32mreturn\u001b[0m \u001b[0mmodel\u001b[0m\u001b[0;34m,\u001b[0m \u001b[0mhistory\u001b[0m\u001b[0;34m\u001b[0m\u001b[0;34m\u001b[0m\u001b[0m\n",
            "\u001b[0;32m/usr/local/lib/python3.10/dist-packages/keras/utils/traceback_utils.py\u001b[0m in \u001b[0;36merror_handler\u001b[0;34m(*args, **kwargs)\u001b[0m\n\u001b[1;32m     63\u001b[0m         \u001b[0mfiltered_tb\u001b[0m \u001b[0;34m=\u001b[0m \u001b[0;32mNone\u001b[0m\u001b[0;34m\u001b[0m\u001b[0;34m\u001b[0m\u001b[0m\n\u001b[1;32m     64\u001b[0m         \u001b[0;32mtry\u001b[0m\u001b[0;34m:\u001b[0m\u001b[0;34m\u001b[0m\u001b[0;34m\u001b[0m\u001b[0m\n\u001b[0;32m---> 65\u001b[0;31m             \u001b[0;32mreturn\u001b[0m \u001b[0mfn\u001b[0m\u001b[0;34m(\u001b[0m\u001b[0;34m*\u001b[0m\u001b[0margs\u001b[0m\u001b[0;34m,\u001b[0m \u001b[0;34m**\u001b[0m\u001b[0mkwargs\u001b[0m\u001b[0;34m)\u001b[0m\u001b[0;34m\u001b[0m\u001b[0;34m\u001b[0m\u001b[0m\n\u001b[0m\u001b[1;32m     66\u001b[0m         \u001b[0;32mexcept\u001b[0m \u001b[0mException\u001b[0m \u001b[0;32mas\u001b[0m \u001b[0me\u001b[0m\u001b[0;34m:\u001b[0m\u001b[0;34m\u001b[0m\u001b[0;34m\u001b[0m\u001b[0m\n\u001b[1;32m     67\u001b[0m             \u001b[0mfiltered_tb\u001b[0m \u001b[0;34m=\u001b[0m \u001b[0m_process_traceback_frames\u001b[0m\u001b[0;34m(\u001b[0m\u001b[0me\u001b[0m\u001b[0;34m.\u001b[0m\u001b[0m__traceback__\u001b[0m\u001b[0;34m)\u001b[0m\u001b[0;34m\u001b[0m\u001b[0;34m\u001b[0m\u001b[0m\n",
            "\u001b[0;32m/usr/local/lib/python3.10/dist-packages/keras/engine/training.py\u001b[0m in \u001b[0;36mfit\u001b[0;34m(self, x, y, batch_size, epochs, verbose, callbacks, validation_split, validation_data, shuffle, class_weight, sample_weight, initial_epoch, steps_per_epoch, validation_steps, validation_batch_size, validation_freq, max_queue_size, workers, use_multiprocessing)\u001b[0m\n\u001b[1;32m   1683\u001b[0m                         ):\n\u001b[1;32m   1684\u001b[0m                             \u001b[0mcallbacks\u001b[0m\u001b[0;34m.\u001b[0m\u001b[0mon_train_batch_begin\u001b[0m\u001b[0;34m(\u001b[0m\u001b[0mstep\u001b[0m\u001b[0;34m)\u001b[0m\u001b[0;34m\u001b[0m\u001b[0;34m\u001b[0m\u001b[0m\n\u001b[0;32m-> 1685\u001b[0;31m                             \u001b[0mtmp_logs\u001b[0m \u001b[0;34m=\u001b[0m \u001b[0mself\u001b[0m\u001b[0;34m.\u001b[0m\u001b[0mtrain_function\u001b[0m\u001b[0;34m(\u001b[0m\u001b[0miterator\u001b[0m\u001b[0;34m)\u001b[0m\u001b[0;34m\u001b[0m\u001b[0;34m\u001b[0m\u001b[0m\n\u001b[0m\u001b[1;32m   1686\u001b[0m                             \u001b[0;32mif\u001b[0m \u001b[0mdata_handler\u001b[0m\u001b[0;34m.\u001b[0m\u001b[0mshould_sync\u001b[0m\u001b[0;34m:\u001b[0m\u001b[0;34m\u001b[0m\u001b[0;34m\u001b[0m\u001b[0m\n\u001b[1;32m   1687\u001b[0m                                 \u001b[0mcontext\u001b[0m\u001b[0;34m.\u001b[0m\u001b[0masync_wait\u001b[0m\u001b[0;34m(\u001b[0m\u001b[0;34m)\u001b[0m\u001b[0;34m\u001b[0m\u001b[0;34m\u001b[0m\u001b[0m\n",
            "\u001b[0;32m/usr/local/lib/python3.10/dist-packages/tensorflow/python/util/traceback_utils.py\u001b[0m in \u001b[0;36merror_handler\u001b[0;34m(*args, **kwargs)\u001b[0m\n\u001b[1;32m    148\u001b[0m     \u001b[0mfiltered_tb\u001b[0m \u001b[0;34m=\u001b[0m \u001b[0;32mNone\u001b[0m\u001b[0;34m\u001b[0m\u001b[0;34m\u001b[0m\u001b[0m\n\u001b[1;32m    149\u001b[0m     \u001b[0;32mtry\u001b[0m\u001b[0;34m:\u001b[0m\u001b[0;34m\u001b[0m\u001b[0;34m\u001b[0m\u001b[0m\n\u001b[0;32m--> 150\u001b[0;31m       \u001b[0;32mreturn\u001b[0m \u001b[0mfn\u001b[0m\u001b[0;34m(\u001b[0m\u001b[0;34m*\u001b[0m\u001b[0margs\u001b[0m\u001b[0;34m,\u001b[0m \u001b[0;34m**\u001b[0m\u001b[0mkwargs\u001b[0m\u001b[0;34m)\u001b[0m\u001b[0;34m\u001b[0m\u001b[0;34m\u001b[0m\u001b[0m\n\u001b[0m\u001b[1;32m    151\u001b[0m     \u001b[0;32mexcept\u001b[0m \u001b[0mException\u001b[0m \u001b[0;32mas\u001b[0m \u001b[0me\u001b[0m\u001b[0;34m:\u001b[0m\u001b[0;34m\u001b[0m\u001b[0;34m\u001b[0m\u001b[0m\n\u001b[1;32m    152\u001b[0m       \u001b[0mfiltered_tb\u001b[0m \u001b[0;34m=\u001b[0m \u001b[0m_process_traceback_frames\u001b[0m\u001b[0;34m(\u001b[0m\u001b[0me\u001b[0m\u001b[0;34m.\u001b[0m\u001b[0m__traceback__\u001b[0m\u001b[0;34m)\u001b[0m\u001b[0;34m\u001b[0m\u001b[0;34m\u001b[0m\u001b[0m\n",
            "\u001b[0;32m/usr/local/lib/python3.10/dist-packages/tensorflow/python/eager/polymorphic_function/polymorphic_function.py\u001b[0m in \u001b[0;36m__call__\u001b[0;34m(self, *args, **kwds)\u001b[0m\n\u001b[1;32m    892\u001b[0m \u001b[0;34m\u001b[0m\u001b[0m\n\u001b[1;32m    893\u001b[0m       \u001b[0;32mwith\u001b[0m \u001b[0mOptionalXlaContext\u001b[0m\u001b[0;34m(\u001b[0m\u001b[0mself\u001b[0m\u001b[0;34m.\u001b[0m\u001b[0m_jit_compile\u001b[0m\u001b[0;34m)\u001b[0m\u001b[0;34m:\u001b[0m\u001b[0;34m\u001b[0m\u001b[0;34m\u001b[0m\u001b[0m\n\u001b[0;32m--> 894\u001b[0;31m         \u001b[0mresult\u001b[0m \u001b[0;34m=\u001b[0m \u001b[0mself\u001b[0m\u001b[0;34m.\u001b[0m\u001b[0m_call\u001b[0m\u001b[0;34m(\u001b[0m\u001b[0;34m*\u001b[0m\u001b[0margs\u001b[0m\u001b[0;34m,\u001b[0m \u001b[0;34m**\u001b[0m\u001b[0mkwds\u001b[0m\u001b[0;34m)\u001b[0m\u001b[0;34m\u001b[0m\u001b[0;34m\u001b[0m\u001b[0m\n\u001b[0m\u001b[1;32m    895\u001b[0m \u001b[0;34m\u001b[0m\u001b[0m\n\u001b[1;32m    896\u001b[0m       \u001b[0mnew_tracing_count\u001b[0m \u001b[0;34m=\u001b[0m \u001b[0mself\u001b[0m\u001b[0;34m.\u001b[0m\u001b[0mexperimental_get_tracing_count\u001b[0m\u001b[0;34m(\u001b[0m\u001b[0;34m)\u001b[0m\u001b[0;34m\u001b[0m\u001b[0;34m\u001b[0m\u001b[0m\n",
            "\u001b[0;32m/usr/local/lib/python3.10/dist-packages/tensorflow/python/eager/polymorphic_function/polymorphic_function.py\u001b[0m in \u001b[0;36m_call\u001b[0;34m(self, *args, **kwds)\u001b[0m\n\u001b[1;32m    924\u001b[0m       \u001b[0;31m# In this case we have created variables on the first call, so we run the\u001b[0m\u001b[0;34m\u001b[0m\u001b[0;34m\u001b[0m\u001b[0m\n\u001b[1;32m    925\u001b[0m       \u001b[0;31m# defunned version which is guaranteed to never create variables.\u001b[0m\u001b[0;34m\u001b[0m\u001b[0;34m\u001b[0m\u001b[0m\n\u001b[0;32m--> 926\u001b[0;31m       \u001b[0;32mreturn\u001b[0m \u001b[0mself\u001b[0m\u001b[0;34m.\u001b[0m\u001b[0m_no_variable_creation_fn\u001b[0m\u001b[0;34m(\u001b[0m\u001b[0;34m*\u001b[0m\u001b[0margs\u001b[0m\u001b[0;34m,\u001b[0m \u001b[0;34m**\u001b[0m\u001b[0mkwds\u001b[0m\u001b[0;34m)\u001b[0m  \u001b[0;31m# pylint: disable=not-callable\u001b[0m\u001b[0;34m\u001b[0m\u001b[0;34m\u001b[0m\u001b[0m\n\u001b[0m\u001b[1;32m    927\u001b[0m     \u001b[0;32melif\u001b[0m \u001b[0mself\u001b[0m\u001b[0;34m.\u001b[0m\u001b[0m_variable_creation_fn\u001b[0m \u001b[0;32mis\u001b[0m \u001b[0;32mnot\u001b[0m \u001b[0;32mNone\u001b[0m\u001b[0;34m:\u001b[0m\u001b[0;34m\u001b[0m\u001b[0;34m\u001b[0m\u001b[0m\n\u001b[1;32m    928\u001b[0m       \u001b[0;31m# Release the lock early so that multiple threads can perform the call\u001b[0m\u001b[0;34m\u001b[0m\u001b[0;34m\u001b[0m\u001b[0m\n",
            "\u001b[0;32m/usr/local/lib/python3.10/dist-packages/tensorflow/python/eager/polymorphic_function/tracing_compiler.py\u001b[0m in \u001b[0;36m__call__\u001b[0;34m(self, *args, **kwargs)\u001b[0m\n\u001b[1;32m    141\u001b[0m       (concrete_function,\n\u001b[1;32m    142\u001b[0m        filtered_flat_args) = self._maybe_define_function(args, kwargs)\n\u001b[0;32m--> 143\u001b[0;31m     return concrete_function._call_flat(\n\u001b[0m\u001b[1;32m    144\u001b[0m         filtered_flat_args, captured_inputs=concrete_function.captured_inputs)  # pylint: disable=protected-access\n\u001b[1;32m    145\u001b[0m \u001b[0;34m\u001b[0m\u001b[0m\n",
            "\u001b[0;32m/usr/local/lib/python3.10/dist-packages/tensorflow/python/eager/polymorphic_function/monomorphic_function.py\u001b[0m in \u001b[0;36m_call_flat\u001b[0;34m(self, args, captured_inputs, cancellation_manager)\u001b[0m\n\u001b[1;32m   1755\u001b[0m         and executing_eagerly):\n\u001b[1;32m   1756\u001b[0m       \u001b[0;31m# No tape is watching; skip to running the function.\u001b[0m\u001b[0;34m\u001b[0m\u001b[0;34m\u001b[0m\u001b[0m\n\u001b[0;32m-> 1757\u001b[0;31m       return self._build_call_outputs(self._inference_function.call(\n\u001b[0m\u001b[1;32m   1758\u001b[0m           ctx, args, cancellation_manager=cancellation_manager))\n\u001b[1;32m   1759\u001b[0m     forward_backward = self._select_forward_and_backward_functions(\n",
            "\u001b[0;32m/usr/local/lib/python3.10/dist-packages/tensorflow/python/eager/polymorphic_function/monomorphic_function.py\u001b[0m in \u001b[0;36mcall\u001b[0;34m(self, ctx, args, cancellation_manager)\u001b[0m\n\u001b[1;32m    379\u001b[0m       \u001b[0;32mwith\u001b[0m \u001b[0m_InterpolateFunctionError\u001b[0m\u001b[0;34m(\u001b[0m\u001b[0mself\u001b[0m\u001b[0;34m)\u001b[0m\u001b[0;34m:\u001b[0m\u001b[0;34m\u001b[0m\u001b[0;34m\u001b[0m\u001b[0m\n\u001b[1;32m    380\u001b[0m         \u001b[0;32mif\u001b[0m \u001b[0mcancellation_manager\u001b[0m \u001b[0;32mis\u001b[0m \u001b[0;32mNone\u001b[0m\u001b[0;34m:\u001b[0m\u001b[0;34m\u001b[0m\u001b[0;34m\u001b[0m\u001b[0m\n\u001b[0;32m--> 381\u001b[0;31m           outputs = execute.execute(\n\u001b[0m\u001b[1;32m    382\u001b[0m               \u001b[0mstr\u001b[0m\u001b[0;34m(\u001b[0m\u001b[0mself\u001b[0m\u001b[0;34m.\u001b[0m\u001b[0msignature\u001b[0m\u001b[0;34m.\u001b[0m\u001b[0mname\u001b[0m\u001b[0;34m)\u001b[0m\u001b[0;34m,\u001b[0m\u001b[0;34m\u001b[0m\u001b[0;34m\u001b[0m\u001b[0m\n\u001b[1;32m    383\u001b[0m               \u001b[0mnum_outputs\u001b[0m\u001b[0;34m=\u001b[0m\u001b[0mself\u001b[0m\u001b[0;34m.\u001b[0m\u001b[0m_num_outputs\u001b[0m\u001b[0;34m,\u001b[0m\u001b[0;34m\u001b[0m\u001b[0;34m\u001b[0m\u001b[0m\n",
            "\u001b[0;32m/usr/local/lib/python3.10/dist-packages/tensorflow/python/eager/execute.py\u001b[0m in \u001b[0;36mquick_execute\u001b[0;34m(op_name, num_outputs, inputs, attrs, ctx, name)\u001b[0m\n\u001b[1;32m     50\u001b[0m   \u001b[0;32mtry\u001b[0m\u001b[0;34m:\u001b[0m\u001b[0;34m\u001b[0m\u001b[0;34m\u001b[0m\u001b[0m\n\u001b[1;32m     51\u001b[0m     \u001b[0mctx\u001b[0m\u001b[0;34m.\u001b[0m\u001b[0mensure_initialized\u001b[0m\u001b[0;34m(\u001b[0m\u001b[0;34m)\u001b[0m\u001b[0;34m\u001b[0m\u001b[0;34m\u001b[0m\u001b[0m\n\u001b[0;32m---> 52\u001b[0;31m     tensors = pywrap_tfe.TFE_Py_Execute(ctx._handle, device_name, op_name,\n\u001b[0m\u001b[1;32m     53\u001b[0m                                         inputs, attrs, num_outputs)\n\u001b[1;32m     54\u001b[0m   \u001b[0;32mexcept\u001b[0m \u001b[0mcore\u001b[0m\u001b[0;34m.\u001b[0m\u001b[0m_NotOkStatusException\u001b[0m \u001b[0;32mas\u001b[0m \u001b[0me\u001b[0m\u001b[0;34m:\u001b[0m\u001b[0;34m\u001b[0m\u001b[0;34m\u001b[0m\u001b[0m\n",
            "\u001b[0;31mKeyboardInterrupt\u001b[0m: "
          ]
        }
      ]
    },
    {
      "cell_type": "code",
      "source": [
        "best_model = model.export_model()\n",
        "# Получите архитектуру модели в виде JSON строки\n",
        "model_json = best_model.to_json()"
      ],
      "metadata": {
        "id": "MAfNOwnszA0N"
      },
      "execution_count": null,
      "outputs": []
    },
    {
      "cell_type": "code",
      "source": [
        "print(model_json)"
      ],
      "metadata": {
        "colab": {
          "base_uri": "https://localhost:8080/"
        },
        "id": "hczBF4N6zHLA",
        "outputId": "a0384468-d414-4ac4-f2db-8749640b22c3"
      },
      "execution_count": null,
      "outputs": [
        {
          "output_type": "stream",
          "name": "stdout",
          "text": [
            "{\"class_name\": \"Functional\", \"config\": {\"name\": \"model\", \"trainable\": true, \"layers\": [{\"class_name\": \"InputLayer\", \"config\": {\"batch_input_shape\": [null], \"dtype\": \"string\", \"sparse\": false, \"ragged\": false, \"name\": \"input_1\"}, \"name\": \"input_1\", \"inbound_nodes\": []}, {\"class_name\": \"Custom>ExpandLastDim\", \"config\": {\"name\": \"expand_last_dim\", \"trainable\": true, \"dtype\": \"float32\"}, \"name\": \"expand_last_dim\", \"inbound_nodes\": [[[\"input_1\", 0, 0, {}]]]}, {\"class_name\": \"InputLayer\", \"config\": {\"batch_input_shape\": [null, 7], \"dtype\": \"string\", \"sparse\": false, \"ragged\": false, \"name\": \"input_2\"}, \"name\": \"input_2\", \"inbound_nodes\": []}, {\"class_name\": \"TextVectorization\", \"config\": {\"name\": \"text_vectorization\", \"trainable\": true, \"dtype\": \"string\", \"max_tokens\": 500, \"standardize\": \"lower_and_strip_punctuation\", \"split\": \"whitespace\", \"ngrams\": 2, \"output_mode\": \"tf_idf\", \"output_sequence_length\": null, \"pad_to_max_tokens\": true, \"sparse\": false, \"ragged\": false, \"vocabulary\": null, \"idf_weights\": null, \"encoding\": \"utf-8\", \"vocabulary_size\": 500}, \"name\": \"text_vectorization\", \"inbound_nodes\": [[[\"expand_last_dim\", 0, 0, {}]]]}, {\"class_name\": \"Custom>MultiCategoryEncoding\", \"config\": {\"name\": \"multi_category_encoding\", \"trainable\": true, \"dtype\": \"float32\", \"encoding\": [\"int\", \"int\", \"int\", \"int\", \"int\", \"int\", \"int\"]}, \"name\": \"multi_category_encoding\", \"inbound_nodes\": [[[\"input_2\", 0, 0, {}]]]}, {\"class_name\": \"Dense\", \"config\": {\"name\": \"dense\", \"trainable\": true, \"dtype\": \"float32\", \"units\": 64, \"activation\": \"linear\", \"use_bias\": true, \"kernel_initializer\": {\"class_name\": \"GlorotUniform\", \"config\": {\"seed\": null}}, \"bias_initializer\": {\"class_name\": \"Zeros\", \"config\": {}}, \"kernel_regularizer\": null, \"bias_regularizer\": null, \"activity_regularizer\": null, \"kernel_constraint\": null, \"bias_constraint\": null}, \"name\": \"dense\", \"inbound_nodes\": [[[\"text_vectorization\", 0, 0, {}]]]}, {\"class_name\": \"Dense\", \"config\": {\"name\": \"dense_1\", \"trainable\": true, \"dtype\": \"float32\", \"units\": 32, \"activation\": \"linear\", \"use_bias\": true, \"kernel_initializer\": {\"class_name\": \"GlorotUniform\", \"config\": {\"seed\": null}}, \"bias_initializer\": {\"class_name\": \"Zeros\", \"config\": {}}, \"kernel_regularizer\": null, \"bias_regularizer\": null, \"activity_regularizer\": null, \"kernel_constraint\": null, \"bias_constraint\": null}, \"name\": \"dense_1\", \"inbound_nodes\": [[[\"multi_category_encoding\", 0, 0, {}]]]}, {\"class_name\": \"BatchNormalization\", \"config\": {\"name\": \"batch_normalization\", \"trainable\": true, \"dtype\": \"float32\", \"axis\": [1], \"momentum\": 0.99, \"epsilon\": 0.001, \"center\": true, \"scale\": true, \"beta_initializer\": {\"class_name\": \"Zeros\", \"config\": {}}, \"gamma_initializer\": {\"class_name\": \"Ones\", \"config\": {}}, \"moving_mean_initializer\": {\"class_name\": \"Zeros\", \"config\": {}}, \"moving_variance_initializer\": {\"class_name\": \"Ones\", \"config\": {}}, \"beta_regularizer\": null, \"gamma_regularizer\": null, \"beta_constraint\": null, \"gamma_constraint\": null}, \"name\": \"batch_normalization\", \"inbound_nodes\": [[[\"dense\", 0, 0, {}]]]}, {\"class_name\": \"ReLU\", \"config\": {\"name\": \"re_lu_1\", \"trainable\": true, \"dtype\": \"float32\", \"max_value\": null, \"negative_slope\": 0.0, \"threshold\": 0.0}, \"name\": \"re_lu_1\", \"inbound_nodes\": [[[\"dense_1\", 0, 0, {}]]]}, {\"class_name\": \"ReLU\", \"config\": {\"name\": \"re_lu\", \"trainable\": true, \"dtype\": \"float32\", \"max_value\": null, \"negative_slope\": 0.0, \"threshold\": 0.0}, \"name\": \"re_lu\", \"inbound_nodes\": [[[\"batch_normalization\", 0, 0, {}]]]}, {\"class_name\": \"Dense\", \"config\": {\"name\": \"dense_2\", \"trainable\": true, \"dtype\": \"float32\", \"units\": 512, \"activation\": \"linear\", \"use_bias\": true, \"kernel_initializer\": {\"class_name\": \"GlorotUniform\", \"config\": {\"seed\": null}}, \"bias_initializer\": {\"class_name\": \"Zeros\", \"config\": {}}, \"kernel_regularizer\": null, \"bias_regularizer\": null, \"activity_regularizer\": null, \"kernel_constraint\": null, \"bias_constraint\": null}, \"name\": \"dense_2\", \"inbound_nodes\": [[[\"re_lu_1\", 0, 0, {}]]]}, {\"class_name\": \"Dropout\", \"config\": {\"name\": \"dropout\", \"trainable\": true, \"dtype\": \"float32\", \"rate\": 0.5, \"noise_shape\": null, \"seed\": null}, \"name\": \"dropout\", \"inbound_nodes\": [[[\"re_lu\", 0, 0, {}]]]}, {\"class_name\": \"ReLU\", \"config\": {\"name\": \"re_lu_2\", \"trainable\": true, \"dtype\": \"float32\", \"max_value\": null, \"negative_slope\": 0.0, \"threshold\": 0.0}, \"name\": \"re_lu_2\", \"inbound_nodes\": [[[\"dense_2\", 0, 0, {}]]]}, {\"class_name\": \"Concatenate\", \"config\": {\"name\": \"concatenate\", \"trainable\": true, \"dtype\": \"float32\", \"axis\": -1}, \"name\": \"concatenate\", \"inbound_nodes\": [[[\"dropout\", 0, 0, {}], [\"re_lu_2\", 0, 0, {}]]]}, {\"class_name\": \"Dropout\", \"config\": {\"name\": \"dropout_1\", \"trainable\": true, \"dtype\": \"float32\", \"rate\": 0.25, \"noise_shape\": null, \"seed\": null}, \"name\": \"dropout_1\", \"inbound_nodes\": [[[\"concatenate\", 0, 0, {}]]]}, {\"class_name\": \"Dense\", \"config\": {\"name\": \"regression_head_1\", \"trainable\": true, \"dtype\": \"float32\", \"units\": 1, \"activation\": \"linear\", \"use_bias\": true, \"kernel_initializer\": {\"class_name\": \"GlorotUniform\", \"config\": {\"seed\": null}}, \"bias_initializer\": {\"class_name\": \"Zeros\", \"config\": {}}, \"kernel_regularizer\": null, \"bias_regularizer\": null, \"activity_regularizer\": null, \"kernel_constraint\": null, \"bias_constraint\": null}, \"name\": \"regression_head_1\", \"inbound_nodes\": [[[\"dropout_1\", 0, 0, {}]]]}], \"input_layers\": [[\"input_1\", 0, 0], [\"input_2\", 0, 0]], \"output_layers\": [[\"regression_head_1\", 0, 0]]}, \"keras_version\": \"2.12.0\", \"backend\": \"tensorflow\"}\n"
          ]
        }
      ]
    },
    {
      "cell_type": "code",
      "source": [
        "best_model.summary()"
      ],
      "metadata": {
        "colab": {
          "base_uri": "https://localhost:8080/"
        },
        "id": "ao-FM1FmzIlE",
        "outputId": "964a1c6e-ea4b-4caa-8418-d2014d192c17"
      },
      "execution_count": null,
      "outputs": [
        {
          "output_type": "stream",
          "name": "stdout",
          "text": [
            "Model: \"model\"\n",
            "__________________________________________________________________________________________________\n",
            " Layer (type)                   Output Shape         Param #     Connected to                     \n",
            "==================================================================================================\n",
            " input_1 (InputLayer)           [(None,)]            0           []                               \n",
            "                                                                                                  \n",
            " expand_last_dim (ExpandLastDim  (None, 1)           0           ['input_1[0][0]']                \n",
            " )                                                                                                \n",
            "                                                                                                  \n",
            " input_2 (InputLayer)           [(None, 7)]          0           []                               \n",
            "                                                                                                  \n",
            " text_vectorization (TextVector  (None, 500)         1           ['expand_last_dim[0][0]']        \n",
            " ization)                                                                                         \n",
            "                                                                                                  \n",
            " multi_category_encoding (Multi  (None, 7)           0           ['input_2[0][0]']                \n",
            " CategoryEncoding)                                                                                \n",
            "                                                                                                  \n",
            " dense (Dense)                  (None, 64)           32064       ['text_vectorization[0][0]']     \n",
            "                                                                                                  \n",
            " dense_1 (Dense)                (None, 32)           256         ['multi_category_encoding[0][0]']\n",
            "                                                                                                  \n",
            " batch_normalization (BatchNorm  (None, 64)          256         ['dense[0][0]']                  \n",
            " alization)                                                                                       \n",
            "                                                                                                  \n",
            " re_lu_1 (ReLU)                 (None, 32)           0           ['dense_1[0][0]']                \n",
            "                                                                                                  \n",
            " re_lu (ReLU)                   (None, 64)           0           ['batch_normalization[0][0]']    \n",
            "                                                                                                  \n",
            " dense_2 (Dense)                (None, 512)          16896       ['re_lu_1[0][0]']                \n",
            "                                                                                                  \n",
            " dropout (Dropout)              (None, 64)           0           ['re_lu[0][0]']                  \n",
            "                                                                                                  \n",
            " re_lu_2 (ReLU)                 (None, 512)          0           ['dense_2[0][0]']                \n",
            "                                                                                                  \n",
            " concatenate (Concatenate)      (None, 576)          0           ['dropout[0][0]',                \n",
            "                                                                  're_lu_2[0][0]']                \n",
            "                                                                                                  \n",
            " dropout_1 (Dropout)            (None, 576)          0           ['concatenate[0][0]']            \n",
            "                                                                                                  \n",
            " regression_head_1 (Dense)      (None, 1)            577         ['dropout_1[0][0]']              \n",
            "                                                                                                  \n",
            "==================================================================================================\n",
            "Total params: 50,050\n",
            "Trainable params: 49,921\n",
            "Non-trainable params: 129\n",
            "__________________________________________________________________________________________________\n"
          ]
        }
      ]
    },
    {
      "cell_type": "code",
      "source": [
        "from keras.utils.vis_utils import plot_model\n",
        "plot_model(loaded_model, to_file='model_plot.png', show_shapes=True, show_layer_names=True)"
      ],
      "metadata": {
        "colab": {
          "base_uri": "https://localhost:8080/",
          "height": 1000
        },
        "id": "FOUOK1ms89dE",
        "outputId": "b5db9e05-ba76-4a52-c8ac-d29934c4f54a"
      },
      "execution_count": null,
      "outputs": [
        {
          "output_type": "execute_result",
          "data": {
            "image/png": "[encoded data removed]",
            "text/plain": [
              "<IPython.core.display.Image object>"
            ]
          },
          "metadata": {},
          "execution_count": 45
        }
      ]
    },
    {
      "cell_type": "code",
      "source": [
        "print(type(best_model))  # <class 'tensorflow.python.keras.engine.training.Model'>"
      ],
      "metadata": {
        "colab": {
          "base_uri": "https://localhost:8080/"
        },
        "id": "ZeGh2ml9yT9B",
        "outputId": "0c4a9f73-50d5-4b68-bc4e-44281561fc4c"
      },
      "execution_count": null,
      "outputs": [
        {
          "output_type": "stream",
          "name": "stdout",
          "text": [
            "<class 'keras.engine.functional.Functional'>\n"
          ]
        }
      ]
    },
    {
      "cell_type": "code",
      "source": [
        "import tensorflow as tf\n",
        "from tensorflow.keras.models import load_model"
      ],
      "metadata": {
        "id": "N3zHJeGvysPl"
      },
      "execution_count": null,
      "outputs": []
    },
    {
      "cell_type": "code",
      "source": [
        "# Сохраняем модель\n",
        "try:\n",
        "    best_model.save(\"/content/drive/MyDrive/2. ЦП УФО Деп.Гор.Москвы/model/Ak/model_autokeras_mae\", save_format=\"tf\")\n",
        "except Exception:\n",
        "    best_model.save(\"/content/drive/MyDrive/2. ЦП УФО Деп.Гор.Москвы/model/Ak/model_autokeras_mae.h5\")\n",
        "\n",
        "# Загружаем модель\n",
        "loaded_model = load_model(\"/content/drive/MyDrive/2. ЦП УФО Деп.Гор.Москвы/model/Ak/model_autokeras_mae\", custom_objects=ak.CUSTOM_OBJECTS)"
      ],
      "metadata": {
        "id": "_iPJ6TlVyNO-"
      },
      "execution_count": null,
      "outputs": []
    },
    {
      "cell_type": "markdown",
      "source": [
        "## Делаем предикт"
      ],
      "metadata": {
        "id": "g0Cl0h2G2s6W"
      }
    },
    {
      "cell_type": "markdown",
      "source": [
        "**Скачаем и загрузим модель**"
      ],
      "metadata": {
        "id": "JP5G3_FK47C7"
      }
    },
    {
      "cell_type": "code",
      "source": [
        "# Скачаем веса модели\n",
        "!pip install -U --no-cache-dir gdown --pre\n",
        "!pip install --upgrade --no-cache-dir gdown"
      ],
      "metadata": {
        "id": "C7CsZmWg2ysh"
      },
      "execution_count": null,
      "outputs": []
    },
    {
      "cell_type": "code",
      "source": [
        "# Скачиваем архив с обученной моделью\n",
        "!gdown --no-cookies --fuzzy https://drive.google.com/file/d/1prlbzC9YhjZ4ubHXjfWkg29JOOfV9_hK/view?usp=sharing&export=download"
      ],
      "metadata": {
        "colab": {
          "base_uri": "https://localhost:8080/"
        },
        "id": "J2g84tDc4QVo",
        "outputId": "ae7bd024-0117-42f0-9e06-ec3caa050e04"
      },
      "execution_count": null,
      "outputs": [
        {
          "output_type": "stream",
          "name": "stdout",
          "text": [
            "Downloading...\n",
            "From: https://drive.google.com/uc?id=1prlbzC9YhjZ4ubHXjfWkg29JOOfV9_hK\n",
            "To: /content/model_autokeras_mae.zip\n",
            "\r  0% 0.00/273k [00:00<?, ?B/s]\r100% 273k/273k [00:00<00:00, 121MB/s]\n"
          ]
        }
      ]
    },
    {
      "cell_type": "code",
      "source": [
        "# Распаковываем\n",
        "!unzip \"/content/model_autokeras_mae.zip\" -d \"/content/model_autokeras_mae\""
      ],
      "metadata": {
        "colab": {
          "base_uri": "https://localhost:8080/"
        },
        "id": "uIwQ0Uhl4ezL",
        "outputId": "4f7b5996-e3dc-4a98-dcf5-6d59c693ff9f"
      },
      "execution_count": null,
      "outputs": [
        {
          "output_type": "stream",
          "name": "stdout",
          "text": [
            "Archive:  /content/model_autokeras_mae.zip\n",
            "   creating: /content/model_autokeras_mae/assets/\n",
            " extracting: /content/model_autokeras_mae/fingerprint.pb  \n",
            "  inflating: /content/model_autokeras_mae/keras_metadata.pb  \n",
            "  inflating: /content/model_autokeras_mae/saved_model.pb  \n",
            "   creating: /content/model_autokeras_mae/variables/\n",
            "  inflating: /content/model_autokeras_mae/variables/variables.data-00000-of-00001  \n",
            "  inflating: /content/model_autokeras_mae/variables/variables.index  \n"
          ]
        }
      ]
    },
    {
      "cell_type": "code",
      "source": [
        "# Загружаем модель\n",
        "from tensorflow.keras.models import load_model\n",
        "loaded_model = load_model(\"/content/model_autokeras_mae\", custom_objects=ak.CUSTOM_OBJECTS)"
      ],
      "metadata": {
        "id": "1e5icTqz4yI6"
      },
      "execution_count": null,
      "outputs": []
    },
    {
      "cell_type": "markdown",
      "source": [
        "### Загрузим и подготовим данные для предикта"
      ],
      "metadata": {
        "id": "gw9O2Sxf5CIi"
      }
    },
    {
      "cell_type": "code",
      "source": [
        "df_test = pd.read_excel('/content/drive/MyDrive/2. ЦП УФО Деп.Гор.Москвы/Пример_теста_2023.06.19.xlsx')"
      ],
      "metadata": {
        "id": "lwjgRtQG5GYH"
      },
      "execution_count": null,
      "outputs": []
    },
    {
      "cell_type": "code",
      "source": [
        "df_test"
      ],
      "metadata": {
        "colab": {
          "base_uri": "https://localhost:8080/",
          "height": 232
        },
        "id": "MqW--I_j5dDx",
        "outputId": "80b23ab4-923e-4a88-864c-495a0c769d1f"
      },
      "execution_count": null,
      "outputs": [
        {
          "output_type": "execute_result",
          "data": {
            "text/plain": [
              "   № п/п      obj_prg             obj_subprg   obj_key  \\\n",
              "0     36  Образование  Дошкольные учреждения  020-0684   \n",
              "\n",
              "                            obj_pwa_key               obj_shortName  \\\n",
              "0  fea30a7e-2f12-ec11-972f-80d21df2d922  ДОУ на 125, ТПУ \"Мневники\"   \n",
              "\n",
              "   Кодзадачи        НазваниеЗадачи  ПроцентЗавершенияЗадачи ДатаНачалаЗадачи  \\\n",
              "0          1  Предпроектные работы                        0       2020-11-03   \n",
              "\n",
              "  ДатаОкончанияЗадачи ДатаначалаБП0 ДатаокончанияБП0  Статуспоэкспертизе  \\\n",
              "0          2022-02-01    2020-11-03       2021-12-29                 NaN   \n",
              "\n",
              "   Экспертиза  \n",
              "0         NaN  "
            ],
            "text/html": [
              "\n",
              "  <div id=\"df-9b3b1be5-e0a5-44d8-b921-a5194a77c0b4\">\n",
              "    <div class=\"colab-df-container\">\n",
              "      <div>\n",
              "<style scoped>\n",
              "    .dataframe tbody tr th:only-of-type {\n",
              "        vertical-align: middle;\n",
              "    }\n",
              "\n",
              "    .dataframe tbody tr th {\n",
              "        vertical-align: top;\n",
              "    }\n",
              "\n",
              "    .dataframe thead th {\n",
              "        text-align: right;\n",
              "    }\n",
              "</style>\n",
              "<table border=\"1\" class=\"dataframe\">\n",
              "  <thead>\n",
              "    <tr style=\"text-align: right;\">\n",
              "      <th></th>\n",
              "      <th>№ п/п</th>\n",
              "      <th>obj_prg</th>\n",
              "      <th>obj_subprg</th>\n",
              "      <th>obj_key</th>\n",
              "      <th>obj_pwa_key</th>\n",
              "      <th>obj_shortName</th>\n",
              "      <th>Кодзадачи</th>\n",
              "      <th>НазваниеЗадачи</th>\n",
              "      <th>ПроцентЗавершенияЗадачи</th>\n",
              "      <th>ДатаНачалаЗадачи</th>\n",
              "      <th>ДатаОкончанияЗадачи</th>\n",
              "      <th>ДатаначалаБП0</th>\n",
              "      <th>ДатаокончанияБП0</th>\n",
              "      <th>Статуспоэкспертизе</th>\n",
              "      <th>Экспертиза</th>\n",
              "    </tr>\n",
              "  </thead>\n",
              "  <tbody>\n",
              "    <tr>\n",
              "      <th>0</th>\n",
              "      <td>36</td>\n",
              "      <td>Образование</td>\n",
              "      <td>Дошкольные учреждения</td>\n",
              "      <td>020-0684</td>\n",
              "      <td>fea30a7e-2f12-ec11-972f-80d21df2d922</td>\n",
              "      <td>ДОУ на 125, ТПУ \"Мневники\"</td>\n",
              "      <td>1</td>\n",
              "      <td>Предпроектные работы</td>\n",
              "      <td>0</td>\n",
              "      <td>2020-11-03</td>\n",
              "      <td>2022-02-01</td>\n",
              "      <td>2020-11-03</td>\n",
              "      <td>2021-12-29</td>\n",
              "      <td>NaN</td>\n",
              "      <td>NaN</td>\n",
              "    </tr>\n",
              "  </tbody>\n",
              "</table>\n",
              "</div>\n",
              "      <button class=\"colab-df-convert\" onclick=\"convertToInteractive('df-9b3b1be5-e0a5-44d8-b921-a5194a77c0b4')\"\n",
              "              title=\"Convert this dataframe to an interactive table.\"\n",
              "              style=\"display:none;\">\n",
              "        \n",
              "  <svg xmlns=\"http://www.w3.org/2000/svg\" height=\"24px\"viewBox=\"0 0 24 24\"\n",
              "       width=\"24px\">\n",
              "    <path d=\"M0 0h24v24H0V0z\" fill=\"none\"/>\n",
              "    <path d=\"M18.56 5.44l.94 2.06.94-2.06 2.06-.94-2.06-.94-.94-2.06-.94 2.06-2.06.94zm-11 1L8.5 8.5l.94-2.06 2.06-.94-2.06-.94L8.5 2.5l-.94 2.06-2.06.94zm10 10l.94 2.06.94-2.06 2.06-.94-2.06-.94-.94-2.06-.94 2.06-2.06.94z\"/><path d=\"M17.41 7.96l-1.37-1.37c-.4-.4-.92-.59-1.43-.59-.52 0-1.04.2-1.43.59L10.3 9.45l-7.72 7.72c-.78.78-.78 2.05 0 2.83L4 21.41c.39.39.9.59 1.41.59.51 0 1.02-.2 1.41-.59l7.78-7.78 2.81-2.81c.8-.78.8-2.07 0-2.86zM5.41 20L4 18.59l7.72-7.72 1.47 1.35L5.41 20z\"/>\n",
              "  </svg>\n",
              "      </button>\n",
              "      \n",
              "  <style>\n",
              "    .colab-df-container {\n",
              "      display:flex;\n",
              "      flex-wrap:wrap;\n",
              "      gap: 12px;\n",
              "    }\n",
              "\n",
              "    .colab-df-convert {\n",
              "      background-color: #E8F0FE;\n",
              "      border: none;\n",
              "      border-radius: 50%;\n",
              "      cursor: pointer;\n",
              "      display: none;\n",
              "      fill: #1967D2;\n",
              "      height: 32px;\n",
              "      padding: 0 0 0 0;\n",
              "      width: 32px;\n",
              "    }\n",
              "\n",
              "    .colab-df-convert:hover {\n",
              "      background-color: #E2EBFA;\n",
              "      box-shadow: 0px 1px 2px rgba(60, 64, 67, 0.3), 0px 1px 3px 1px rgba(60, 64, 67, 0.15);\n",
              "      fill: #174EA6;\n",
              "    }\n",
              "\n",
              "    [theme=dark] .colab-df-convert {\n",
              "      background-color: #3B4455;\n",
              "      fill: #D2E3FC;\n",
              "    }\n",
              "\n",
              "    [theme=dark] .colab-df-convert:hover {\n",
              "      background-color: #434B5C;\n",
              "      box-shadow: 0px 1px 3px 1px rgba(0, 0, 0, 0.15);\n",
              "      filter: drop-shadow(0px 1px 2px rgba(0, 0, 0, 0.3));\n",
              "      fill: #FFFFFF;\n",
              "    }\n",
              "  </style>\n",
              "\n",
              "      <script>\n",
              "        const buttonEl =\n",
              "          document.querySelector('#df-9b3b1be5-e0a5-44d8-b921-a5194a77c0b4 button.colab-df-convert');\n",
              "        buttonEl.style.display =\n",
              "          google.colab.kernel.accessAllowed ? 'block' : 'none';\n",
              "\n",
              "        async function convertToInteractive(key) {\n",
              "          const element = document.querySelector('#df-9b3b1be5-e0a5-44d8-b921-a5194a77c0b4');\n",
              "          const dataTable =\n",
              "            await google.colab.kernel.invokeFunction('convertToInteractive',\n",
              "                                                     [key], {});\n",
              "          if (!dataTable) return;\n",
              "\n",
              "          const docLinkHtml = 'Like what you see? Visit the ' +\n",
              "            '<a target=\"_blank\" href=https://colab.research.google.com/notebooks/data_table.ipynb>data table notebook</a>'\n",
              "            + ' to learn more about interactive tables.';\n",
              "          element.innerHTML = '';\n",
              "          dataTable['output_type'] = 'display_data';\n",
              "          await google.colab.output.renderOutput(dataTable, element);\n",
              "          const docLink = document.createElement('div');\n",
              "          docLink.innerHTML = docLinkHtml;\n",
              "          element.appendChild(docLink);\n",
              "        }\n",
              "      </script>\n",
              "    </div>\n",
              "  </div>\n",
              "  "
            ]
          },
          "metadata": {},
          "execution_count": 40
        }
      ]
    },
    {
      "cell_type": "code",
      "source": [
        "df"
      ],
      "metadata": {
        "id": "enf2LIr79lSN"
      },
      "execution_count": null,
      "outputs": []
    },
    {
      "cell_type": "code",
      "source": [
        "# сравнение названий столбцов\n",
        "test_columns_df1 = set(df.columns) - set(df_test.columns) # merged_\n",
        "test_columns_df2 = set(df_test.columns) - set(df.columns) # merged_\n",
        "\n",
        "# вывод списка отсутствующих столбцов для каждого датасета\n",
        "print('Отсутствующие столбцы в df_test:', test_columns_df1)\n",
        "print('Отсутствующие столбцы в merged_df:', test_columns_df2)"
      ],
      "metadata": {
        "colab": {
          "base_uri": "https://localhost:8080/"
        },
        "id": "HQsiczsu5rMw",
        "outputId": "58030977-4e3c-430c-8f0a-1c6d1d6b9a3d"
      },
      "execution_count": null,
      "outputs": [
        {
          "output_type": "stream",
          "name": "stdout",
          "text": [
            "Отсутствующие столбцы в df_test: {'date_report', 'Unnamed: 0'}\n",
            "Отсутствующие столбцы в merged_df: {'obj_shortName', 'obj_pwa_key'}\n"
          ]
        }
      ]
    },
    {
      "cell_type": "code",
      "source": [
        "# сравнение названий столбцов\n",
        "test_columns_df1 = set(df.columns) - set(merged_df.columns) # merged_\n",
        "test_columns_df2 = set(merged_df.columns) - set(df.columns) # merged_\n",
        "\n",
        "# вывод списка отсутствующих столбцов для каждого датасета\n",
        "print('Отсутствующие столбцы в df_test:', test_columns_df1)\n",
        "print('Отсутствующие столбцы в merged_df:', test_columns_df2)"
      ],
      "metadata": {
        "colab": {
          "base_uri": "https://localhost:8080/"
        },
        "id": "roh7znmg922_",
        "outputId": "23b1a376-2cf7-49ad-a17b-2e7bb8ce0199"
      },
      "execution_count": null,
      "outputs": [
        {
          "output_type": "stream",
          "name": "stdout",
          "text": [
            "Отсутствующие столбцы в df_test: set()\n",
            "Отсутствующие столбцы в merged_df: {'ФактСтрокВып_дн', 'obj_tasks_subprg', 'СтрокВыпДог_дн', 'Кол-во рабочих', 'Площадь', 'Генпроектировщик', 'Генподрядчик', 'состояние площадки', 'obj_tasks'}\n"
          ]
        }
      ]
    },
    {
      "cell_type": "code",
      "source": [
        "# Объеденим test с общим df\n",
        "merged_test = pd.merge(df_test, df, how='inner', on=['obj_key']) # , 'Кодзадачи', 'НазваниеЗадачи'\n",
        "merged_test"
      ],
      "metadata": {
        "id": "WF4kC2eW-vDx"
      },
      "execution_count": null,
      "outputs": []
    },
    {
      "cell_type": "code",
      "source": [
        "merged_test.columns"
      ],
      "metadata": {
        "colab": {
          "base_uri": "https://localhost:8080/"
        },
        "id": "u3NVdANKAUyk",
        "outputId": "06ad03bd-0d3b-4ebb-bf61-6b0432f0f565"
      },
      "execution_count": null,
      "outputs": [
        {
          "output_type": "execute_result",
          "data": {
            "text/plain": [
              "Index(['№ п/п_x', 'obj_prg_x', 'obj_subprg_x', 'obj_key', 'obj_pwa_key',\n",
              "       'obj_shortName', 'Кодзадачи_x', 'НазваниеЗадачи_x',\n",
              "       'ПроцентЗавершенияЗадачи_x', 'ДатаНачалаЗадачи_x',\n",
              "       'ДатаОкончанияЗадачи_x', 'ДатаначалаБП0_x', 'ДатаокончанияБП0_x',\n",
              "       'Статуспоэкспертизе_x', 'Экспертиза_x', 'Unnamed: 0', '№ п/п_y',\n",
              "       'obj_prg_y', 'obj_subprg_y', 'Кодзадачи_y', 'НазваниеЗадачи_y',\n",
              "       'ПроцентЗавершенияЗадачи_y', 'ДатаНачалаЗадачи_y',\n",
              "       'ДатаОкончанияЗадачи_y', 'ДатаначалаБП0_y', 'ДатаокончанияБП0_y',\n",
              "       'Статуспоэкспертизе_y', 'Экспертиза_y', 'date_report'],\n",
              "      dtype='object')"
            ]
          },
          "metadata": {},
          "execution_count": 53
        }
      ]
    },
    {
      "cell_type": "code",
      "source": [
        "merged_df.columns"
      ],
      "metadata": {
        "colab": {
          "base_uri": "https://localhost:8080/"
        },
        "id": "5hqxJ863Aucs",
        "outputId": "e19e20f3-b074-4921-989e-212e49281cd1"
      },
      "execution_count": null,
      "outputs": [
        {
          "output_type": "execute_result",
          "data": {
            "text/plain": [
              "Index(['Unnamed: 0', '№ п/п', 'obj_prg', 'obj_subprg', 'obj_key', 'Кодзадачи',\n",
              "       'НазваниеЗадачи', 'ПроцентЗавершенияЗадачи', 'ДатаНачалаЗадачи',\n",
              "       'ДатаОкончанияЗадачи', 'ДатаначалаБП0', 'ДатаокончанияБП0',\n",
              "       'Статуспоэкспертизе', 'Экспертиза', 'date_report', 'состояние площадки',\n",
              "       'Площадь', 'Генпроектировщик', 'Генподрядчик', 'Кол-во рабочих',\n",
              "       'ФактСтрокВып_дн', 'СтрокВыпДог_дн', 'obj_tasks', 'obj_tasks_subprg'],\n",
              "      dtype='object')"
            ]
          },
          "metadata": {},
          "execution_count": 54
        }
      ]
    },
    {
      "cell_type": "code",
      "source": [
        "predicted_y = loaded_model.predict(tf.expand_dims(x_test, -1))"
      ],
      "metadata": {
        "id": "uzIavepRA2No"
      },
      "execution_count": null,
      "outputs": []
    },
    {
      "cell_type": "code",
      "source": [
        "import tensorflow as tf\n",
        "pred = tf.concat([xTrain_text[15000:20000], xTrainScaled[15000:20000]], axis=1)"
      ],
      "metadata": {
        "id": "Z0KGExkRNefV"
      },
      "execution_count": null,
      "outputs": []
    },
    {
      "cell_type": "code",
      "source": [
        "pred"
      ],
      "metadata": {
        "colab": {
          "base_uri": "https://localhost:8080/"
        },
        "id": "HjQUI3AvNg6Z",
        "outputId": "9d0f0a4c-f4b5-4d0a-c4ec-711c262c5177"
      },
      "execution_count": null,
      "outputs": [
        {
          "output_type": "execute_result",
          "data": {
            "text/plain": [
              "<tf.Tensor: shape=(5000, 2201), dtype=float64, numpy=\n",
              "array([[ 0.        ,  0.        ,  1.        , ...,  0.        ,\n",
              "         0.        , -0.37814656],\n",
              "       [ 0.        ,  0.        ,  1.        , ...,  0.        ,\n",
              "         0.        , -0.37814656],\n",
              "       [ 0.        ,  0.        ,  1.        , ...,  0.        ,\n",
              "         0.        , -0.37814656],\n",
              "       ...,\n",
              "       [ 0.        ,  0.        ,  1.        , ...,  0.        ,\n",
              "         0.        , -0.3777241 ],\n",
              "       [ 0.        ,  0.        ,  1.        , ...,  0.        ,\n",
              "         0.        , -0.37814656],\n",
              "       [ 0.        ,  0.        ,  1.        , ...,  0.        ,\n",
              "         0.        , -0.37814656]])>"
            ]
          },
          "metadata": {},
          "execution_count": 99
        }
      ]
    },
    {
      "cell_type": "code",
      "source": [
        "\n",
        "predicted_y = loaded_model.predict(tf.expand_dims([xTrain_text[15000:20000], xTrainScaled[15000:20000]], -1))\n",
        "print(predicted_y)"
      ],
      "metadata": {
        "id": "Bpygih-Iy1bE",
        "colab": {
          "base_uri": "https://localhost:8080/",
          "height": 328
        },
        "outputId": "b9a9ed6e-e49c-480f-92f6-d0e3ce082994"
      },
      "execution_count": null,
      "outputs": [
        {
          "output_type": "error",
          "ename": "ValueError",
          "evalue": "ignored",
          "traceback": [
            "\u001b[0;31m---------------------------------------------------------------------------\u001b[0m",
            "\u001b[0;31mValueError\u001b[0m                                Traceback (most recent call last)",
            "\u001b[0;32m<ipython-input-98-da5d790a40b1>\u001b[0m in \u001b[0;36m<cell line: 1>\u001b[0;34m()\u001b[0m\n\u001b[0;32m----> 1\u001b[0;31m \u001b[0mpredicted_y\u001b[0m \u001b[0;34m=\u001b[0m \u001b[0mloaded_model\u001b[0m\u001b[0;34m.\u001b[0m\u001b[0mpredict\u001b[0m\u001b[0;34m(\u001b[0m\u001b[0mtf\u001b[0m\u001b[0;34m.\u001b[0m\u001b[0mexpand_dims\u001b[0m\u001b[0;34m(\u001b[0m\u001b[0;34m[\u001b[0m\u001b[0mxTrain_text\u001b[0m\u001b[0;34m[\u001b[0m\u001b[0;36m15000\u001b[0m\u001b[0;34m:\u001b[0m\u001b[0;36m20000\u001b[0m\u001b[0;34m]\u001b[0m\u001b[0;34m,\u001b[0m \u001b[0mxTrainScaled\u001b[0m\u001b[0;34m[\u001b[0m\u001b[0;36m15000\u001b[0m\u001b[0;34m:\u001b[0m\u001b[0;36m20000\u001b[0m\u001b[0;34m]\u001b[0m\u001b[0;34m]\u001b[0m\u001b[0;34m,\u001b[0m \u001b[0;34m-\u001b[0m\u001b[0;36m1\u001b[0m\u001b[0;34m)\u001b[0m\u001b[0;34m)\u001b[0m\u001b[0;34m\u001b[0m\u001b[0;34m\u001b[0m\u001b[0m\n\u001b[0m\u001b[1;32m      2\u001b[0m \u001b[0mprint\u001b[0m\u001b[0;34m(\u001b[0m\u001b[0mpredicted_y\u001b[0m\u001b[0;34m)\u001b[0m\u001b[0;34m\u001b[0m\u001b[0;34m\u001b[0m\u001b[0m\n",
            "\u001b[0;32m/usr/local/lib/python3.10/dist-packages/tensorflow/python/util/traceback_utils.py\u001b[0m in \u001b[0;36merror_handler\u001b[0;34m(*args, **kwargs)\u001b[0m\n\u001b[1;32m    151\u001b[0m     \u001b[0;32mexcept\u001b[0m \u001b[0mException\u001b[0m \u001b[0;32mas\u001b[0m \u001b[0me\u001b[0m\u001b[0;34m:\u001b[0m\u001b[0;34m\u001b[0m\u001b[0;34m\u001b[0m\u001b[0m\n\u001b[1;32m    152\u001b[0m       \u001b[0mfiltered_tb\u001b[0m \u001b[0;34m=\u001b[0m \u001b[0m_process_traceback_frames\u001b[0m\u001b[0;34m(\u001b[0m\u001b[0me\u001b[0m\u001b[0;34m.\u001b[0m\u001b[0m__traceback__\u001b[0m\u001b[0;34m)\u001b[0m\u001b[0;34m\u001b[0m\u001b[0;34m\u001b[0m\u001b[0m\n\u001b[0;32m--> 153\u001b[0;31m       \u001b[0;32mraise\u001b[0m \u001b[0me\u001b[0m\u001b[0;34m.\u001b[0m\u001b[0mwith_traceback\u001b[0m\u001b[0;34m(\u001b[0m\u001b[0mfiltered_tb\u001b[0m\u001b[0;34m)\u001b[0m \u001b[0;32mfrom\u001b[0m \u001b[0;32mNone\u001b[0m\u001b[0;34m\u001b[0m\u001b[0;34m\u001b[0m\u001b[0m\n\u001b[0m\u001b[1;32m    154\u001b[0m     \u001b[0;32mfinally\u001b[0m\u001b[0;34m:\u001b[0m\u001b[0;34m\u001b[0m\u001b[0;34m\u001b[0m\u001b[0m\n\u001b[1;32m    155\u001b[0m       \u001b[0;32mdel\u001b[0m \u001b[0mfiltered_tb\u001b[0m\u001b[0;34m\u001b[0m\u001b[0;34m\u001b[0m\u001b[0m\n",
            "\u001b[0;32m/usr/local/lib/python3.10/dist-packages/tensorflow/python/framework/constant_op.py\u001b[0m in \u001b[0;36mconvert_to_eager_tensor\u001b[0;34m(value, ctx, dtype)\u001b[0m\n\u001b[1;32m    101\u001b[0m       \u001b[0mdtype\u001b[0m \u001b[0;34m=\u001b[0m \u001b[0mdtypes\u001b[0m\u001b[0;34m.\u001b[0m\u001b[0mas_dtype\u001b[0m\u001b[0;34m(\u001b[0m\u001b[0mdtype\u001b[0m\u001b[0;34m)\u001b[0m\u001b[0;34m.\u001b[0m\u001b[0mas_datatype_enum\u001b[0m\u001b[0;34m\u001b[0m\u001b[0;34m\u001b[0m\u001b[0m\n\u001b[1;32m    102\u001b[0m   \u001b[0mctx\u001b[0m\u001b[0;34m.\u001b[0m\u001b[0mensure_initialized\u001b[0m\u001b[0;34m(\u001b[0m\u001b[0;34m)\u001b[0m\u001b[0;34m\u001b[0m\u001b[0;34m\u001b[0m\u001b[0m\n\u001b[0;32m--> 103\u001b[0;31m   \u001b[0;32mreturn\u001b[0m \u001b[0mops\u001b[0m\u001b[0;34m.\u001b[0m\u001b[0mEagerTensor\u001b[0m\u001b[0;34m(\u001b[0m\u001b[0mvalue\u001b[0m\u001b[0;34m,\u001b[0m \u001b[0mctx\u001b[0m\u001b[0;34m.\u001b[0m\u001b[0mdevice_name\u001b[0m\u001b[0;34m,\u001b[0m \u001b[0mdtype\u001b[0m\u001b[0;34m)\u001b[0m\u001b[0;34m\u001b[0m\u001b[0;34m\u001b[0m\u001b[0m\n\u001b[0m\u001b[1;32m    104\u001b[0m \u001b[0;34m\u001b[0m\u001b[0m\n\u001b[1;32m    105\u001b[0m \u001b[0;34m\u001b[0m\u001b[0m\n",
            "\u001b[0;31mValueError\u001b[0m: Can't convert non-rectangular Python sequence to Tensor."
          ]
        }
      ]
    },
    {
      "cell_type": "code",
      "source": [
        "x_train2_ak#.size"
      ],
      "metadata": {
        "colab": {
          "base_uri": "https://localhost:8080/"
        },
        "id": "5eAhFQbULxvM",
        "outputId": "d6d39be4-7d33-4530-fbf0-bba4de8359fb"
      },
      "execution_count": null,
      "outputs": [
        {
          "output_type": "execute_result",
          "data": {
            "text/plain": [
              "array([[0.0, 0.0, 0.0, ..., 0.0, 0.0, 0.0],\n",
              "       [0.0, 0.0, 0.0, ..., 0.0, 0.0, 0.0],\n",
              "       [0.0, 0.0, 0.0, ..., 0.0, 0.0, 0.0],\n",
              "       ...,\n",
              "       [2.0, 0.0, 0.0, ..., 6.0, 0.0, 0.0],\n",
              "       [0.0, 0.0, 0.0, ..., 6.0, 0.0, 0.0],\n",
              "       [2.0, 0.0, 0.0, ..., 6.0, 0.0, 0.0]], dtype=object)"
            ]
          },
          "metadata": {},
          "execution_count": 94
        }
      ]
    },
    {
      "cell_type": "code",
      "source": [
        "y_pred = loaded_model.predict([xTrain_text[15000:20000], xTrainScaled[15000:20000]])"
      ],
      "metadata": {
        "id": "zUNUf0dOHb7Z"
      },
      "execution_count": null,
      "outputs": []
    },
    {
      "cell_type": "code",
      "source": [
        "loaded_model.predict([texts_all_np[50000:51000], x_train2_ak[50000:51000]], batch_size=32, verbose=1)"
      ],
      "metadata": {
        "id": "Ru4T_O_nIjsP"
      },
      "execution_count": null,
      "outputs": []
    },
    {
      "cell_type": "code",
      "source": [
        "loaded_model.evaluate([texts_all_np[50000:51000], x_train2_ak[50000:51000]], y=yTrain_ak, batch_size=32, verbose=1)"
      ],
      "metadata": {
        "id": "zcNEFHK-JN2w"
      },
      "execution_count": null,
      "outputs": []
    },
    {
      "cell_type": "code",
      "source": [
        "x_train2_ak[50000:51000]"
      ],
      "metadata": {
        "colab": {
          "base_uri": "https://localhost:8080/"
        },
        "id": "RP5ghtRzJmBJ",
        "outputId": "c1f00610-8250-4291-f021-63127e996b1a"
      },
      "execution_count": null,
      "outputs": [
        {
          "output_type": "execute_result",
          "data": {
            "text/plain": [
              "array([], shape=(0, 7), dtype=object)"
            ]
          },
          "metadata": {},
          "execution_count": 78
        }
      ]
    },
    {
      "cell_type": "code",
      "source": [
        "history = model.fit([xTrain_text[:15000], xTrainScaled[:15000]],\n",
        "                    yTrainScaled[:15000],\n",
        "                    epochs= 80,\n",
        "                    validation_data=([xTrain_text[15000:20000], xTrainScaled[15000:20000]],\n",
        "                    yTrainScaled[15000:20000]),\n",
        "                    verbose=1, shuffle=True)"
      ],
      "metadata": {
        "id": "Tm9B5G-vNIXx"
      },
      "execution_count": null,
      "outputs": []
    }
  ],
  "metadata": {
    "colab": {
      "provenance": [],
      "collapsed_sections": [
        "dWQnwbPH5u6i",
        "ZGfkvvTRTjuA",
        "4agiBYrgzrGy",
        "RmKUBx7g5-My",
        "SGg_XIspYfxN",
        "Te9HqrKF32ny",
        "rle4LC88qn7m",
        "R9orppG95LtA",
        "iAcG6CYwiKm2",
        "vILKau5Iaxdg",
        "-u5ogO4SdQqp",
        "g0Cl0h2G2s6W"
      ],
      "gpuType": "T4"
    },
    "kernelspec": {
      "display_name": "Python 3",
      "name": "python3"
    },
    "language_info": {
      "name": "python"
    },
    "accelerator": "GPU"
  },
  "nbformat": 4,
  "nbformat_minor": 0
}